{
 "cells": [
  {
   "cell_type": "markdown",
   "id": "003fddf4-8414-4d19-91c8-be4713357ed6",
   "metadata": {},
   "source": [
    "### Topic Modeling & LDA\n",
    "- find word topics by author & text"
   ]
  },
  {
   "cell_type": "markdown",
   "id": "15920017-d5f0-40aa-95b5-6c164dc550af",
   "metadata": {},
   "source": [
    "#### Gender & Era\n",
    "discuss...."
   ]
  },
  {
   "cell_type": "code",
   "execution_count": 1,
   "id": "36f7f38a-60b4-40c2-acd3-80e77b72720f",
   "metadata": {},
   "outputs": [],
   "source": [
    "import pandas as pd\n",
    "from sklearn.feature_extraction.text import CountVectorizer\n",
    "from sklearn.decomposition import LatentDirichletAllocation as LDA\n",
    "\n",
    "import scipy.cluster.hierarchy as sch\n",
    "from scipy.spatial.distance import pdist\n",
    "from sklearn.cluster import AgglomerativeClustering\n",
    "from sklearn.preprocessing import normalize\n",
    "import matplotlib.pyplot as plt\n",
    "import plotly_express as px\n",
    "%matplotlib inline"
   ]
  },
  {
   "cell_type": "code",
   "execution_count": 2,
   "id": "f136cd9d-6be6-4c50-a176-20485bc8dd35",
   "metadata": {},
   "outputs": [],
   "source": [
    "#hide warnings\n",
    "import warnings\n",
    "warnings.filterwarnings('ignore')"
   ]
  },
  {
   "cell_type": "code",
   "execution_count": 3,
   "id": "d4f77724-68b1-4094-912a-6855e1048ab5",
   "metadata": {},
   "outputs": [],
   "source": [
    "n_terms = 8000\n",
    "n_topics = 35\n",
    "max_iter = 5\n",
    "OHCO = ['title', 'author', 'para_num', 'gender', 'era']"
   ]
  },
  {
   "cell_type": "code",
   "execution_count": 4,
   "id": "c0225bde-1a06-4ccc-b075-ad18a0731040",
   "metadata": {},
   "outputs": [],
   "source": [
    "#import tables\n",
    "TOKENS = pd.read_csv('TOKEN2.csv')"
   ]
  },
  {
   "cell_type": "code",
   "execution_count": 5,
   "id": "2b789bc4-4995-472d-9282-1bb9d89edc17",
   "metadata": {},
   "outputs": [
    {
     "data": {
      "text/html": [
       "<div>\n",
       "<style scoped>\n",
       "    .dataframe tbody tr th:only-of-type {\n",
       "        vertical-align: middle;\n",
       "    }\n",
       "\n",
       "    .dataframe tbody tr th {\n",
       "        vertical-align: top;\n",
       "    }\n",
       "\n",
       "    .dataframe thead th {\n",
       "        text-align: right;\n",
       "    }\n",
       "</style>\n",
       "<table border=\"1\" class=\"dataframe\">\n",
       "  <thead>\n",
       "    <tr style=\"text-align: right;\">\n",
       "      <th></th>\n",
       "      <th>text_id</th>\n",
       "      <th>para_num</th>\n",
       "      <th>sent_num</th>\n",
       "      <th>token_num</th>\n",
       "      <th>pos_tuple</th>\n",
       "      <th>pos</th>\n",
       "      <th>token_str</th>\n",
       "      <th>term_str</th>\n",
       "      <th>term_id</th>\n",
       "      <th>title</th>\n",
       "      <th>author</th>\n",
       "      <th>file</th>\n",
       "    </tr>\n",
       "  </thead>\n",
       "  <tbody>\n",
       "    <tr>\n",
       "      <th>0</th>\n",
       "      <td>1</td>\n",
       "      <td>16</td>\n",
       "      <td>0</td>\n",
       "      <td>0</td>\n",
       "      <td>('Every', 'DT')</td>\n",
       "      <td>DT</td>\n",
       "      <td>Every</td>\n",
       "      <td>every</td>\n",
       "      <td>15890</td>\n",
       "      <td>NicomachaenEthics</td>\n",
       "      <td>Aristotle</td>\n",
       "      <td>philostexts\\Aristotle_NicomachaenEthics-1.txt</td>\n",
       "    </tr>\n",
       "    <tr>\n",
       "      <th>1</th>\n",
       "      <td>1</td>\n",
       "      <td>16</td>\n",
       "      <td>0</td>\n",
       "      <td>1</td>\n",
       "      <td>('art', 'NN')</td>\n",
       "      <td>NN</td>\n",
       "      <td>art</td>\n",
       "      <td>art</td>\n",
       "      <td>2942</td>\n",
       "      <td>NicomachaenEthics</td>\n",
       "      <td>Aristotle</td>\n",
       "      <td>philostexts\\Aristotle_NicomachaenEthics-1.txt</td>\n",
       "    </tr>\n",
       "    <tr>\n",
       "      <th>2</th>\n",
       "      <td>1</td>\n",
       "      <td>16</td>\n",
       "      <td>0</td>\n",
       "      <td>2</td>\n",
       "      <td>('and', 'CC')</td>\n",
       "      <td>CC</td>\n",
       "      <td>and</td>\n",
       "      <td>and</td>\n",
       "      <td>1976</td>\n",
       "      <td>NicomachaenEthics</td>\n",
       "      <td>Aristotle</td>\n",
       "      <td>philostexts\\Aristotle_NicomachaenEthics-1.txt</td>\n",
       "    </tr>\n",
       "    <tr>\n",
       "      <th>3</th>\n",
       "      <td>1</td>\n",
       "      <td>16</td>\n",
       "      <td>0</td>\n",
       "      <td>3</td>\n",
       "      <td>('every', 'DT')</td>\n",
       "      <td>DT</td>\n",
       "      <td>every</td>\n",
       "      <td>every</td>\n",
       "      <td>15890</td>\n",
       "      <td>NicomachaenEthics</td>\n",
       "      <td>Aristotle</td>\n",
       "      <td>philostexts\\Aristotle_NicomachaenEthics-1.txt</td>\n",
       "    </tr>\n",
       "    <tr>\n",
       "      <th>4</th>\n",
       "      <td>1</td>\n",
       "      <td>16</td>\n",
       "      <td>0</td>\n",
       "      <td>4</td>\n",
       "      <td>('inquiry,', 'NN')</td>\n",
       "      <td>NN</td>\n",
       "      <td>inquiry,</td>\n",
       "      <td>inquiry</td>\n",
       "      <td>23364</td>\n",
       "      <td>NicomachaenEthics</td>\n",
       "      <td>Aristotle</td>\n",
       "      <td>philostexts\\Aristotle_NicomachaenEthics-1.txt</td>\n",
       "    </tr>\n",
       "  </tbody>\n",
       "</table>\n",
       "</div>"
      ],
      "text/plain": [
       "   text_id  para_num  sent_num  token_num           pos_tuple pos token_str  \\\n",
       "0        1        16         0          0     ('Every', 'DT')  DT     Every   \n",
       "1        1        16         0          1       ('art', 'NN')  NN       art   \n",
       "2        1        16         0          2       ('and', 'CC')  CC       and   \n",
       "3        1        16         0          3     ('every', 'DT')  DT     every   \n",
       "4        1        16         0          4  ('inquiry,', 'NN')  NN  inquiry,   \n",
       "\n",
       "  term_str  term_id              title     author  \\\n",
       "0    every    15890  NicomachaenEthics  Aristotle   \n",
       "1      art     2942  NicomachaenEthics  Aristotle   \n",
       "2      and     1976  NicomachaenEthics  Aristotle   \n",
       "3    every    15890  NicomachaenEthics  Aristotle   \n",
       "4  inquiry    23364  NicomachaenEthics  Aristotle   \n",
       "\n",
       "                                            file  \n",
       "0  philostexts\\Aristotle_NicomachaenEthics-1.txt  \n",
       "1  philostexts\\Aristotle_NicomachaenEthics-1.txt  \n",
       "2  philostexts\\Aristotle_NicomachaenEthics-1.txt  \n",
       "3  philostexts\\Aristotle_NicomachaenEthics-1.txt  \n",
       "4  philostexts\\Aristotle_NicomachaenEthics-1.txt  "
      ]
     },
     "execution_count": 5,
     "metadata": {},
     "output_type": "execute_result"
    }
   ],
   "source": [
    "TOKENS.head()"
   ]
  },
  {
   "cell_type": "code",
   "execution_count": 6,
   "id": "36f529fd-270f-4a45-b422-dfb2ef01d1a7",
   "metadata": {},
   "outputs": [],
   "source": [
    "#create GENDER column in tokens table \n",
    "TOKENS.loc[TOKENS.author.str.contains('Aristotle'), 'gender'] = 'M'\n",
    "TOKENS.loc[TOKENS.author.str.contains('bellhooks'), 'gender'] = 'F'\n",
    "TOKENS.loc[TOKENS.author.str.contains('Cicero'), 'gender'] = 'M'\n",
    "TOKENS.loc[TOKENS.author.str.contains('Foucault'), 'gender'] = 'M'\n",
    "TOKENS.loc[TOKENS.author.str.contains('Freire'), 'gender'] = 'M'\n",
    "TOKENS.loc[TOKENS.author.str.contains('HannahArendt'), 'gender'] = 'F'\n",
    "TOKENS.loc[TOKENS.author.str.contains('HarrietTaylorMill'), 'gender'] = 'F'\n",
    "TOKENS.loc[TOKENS.author.str.contains('Hesse'), 'gender'] = 'M'\n",
    "TOKENS.loc[TOKENS.author.str.contains('Hume'), 'gender'] = 'M'\n",
    "TOKENS.loc[TOKENS.author.str.contains('Kant'), 'gender'] = 'M'\n",
    "TOKENS.loc[TOKENS.author.str.contains('Kierkegaard'), 'gender'] = 'M'\n",
    "TOKENS.loc[TOKENS.author.str.contains('Laozi'), 'gender'] = 'M'\n",
    "TOKENS.loc[TOKENS.author.str.contains('Marx'), 'gender'] = 'M'\n",
    "TOKENS.loc[TOKENS.author.str.contains('MaryWollstonecraft'), 'gender'] = 'F'\n",
    "TOKENS.loc[TOKENS.author.str.contains('Nietzsche'), 'gender'] = 'M'\n",
    "TOKENS.loc[TOKENS.author.str.contains('Plato'), 'gender'] = 'M'\n",
    "TOKENS.loc[TOKENS.author.str.contains('Simonedebeauvoir'), 'gender'] = 'F'\n",
    "TOKENS.loc[TOKENS.author.str.contains('StuartMill'), 'gender'] = 'M'"
   ]
  },
  {
   "cell_type": "code",
   "execution_count": 7,
   "id": "2b6af930-5daf-4486-9225-64144513eb9d",
   "metadata": {},
   "outputs": [],
   "source": [
    "#create ERA column in tokens table - ancient, classical, modern\n",
    "TOKENS.loc[TOKENS.author.str.contains('Aristotle'), 'era'] = 'ancient'\n",
    "TOKENS.loc[TOKENS.author.str.contains('bellhooks'), 'era'] = 'modern'\n",
    "TOKENS.loc[TOKENS.author.str.contains('Cicero'), 'era'] = 'ancient'\n",
    "TOKENS.loc[TOKENS.author.str.contains('Foucault'), 'era'] = 'modern'\n",
    "TOKENS.loc[TOKENS.author.str.contains('Freire'), 'era'] = 'modern'\n",
    "TOKENS.loc[TOKENS.author.str.contains('HannahArendt'), 'era'] = 'modern'\n",
    "TOKENS.loc[TOKENS.author.str.contains('HarrietTaylorMill'), 'era'] = 'classical'\n",
    "TOKENS.loc[TOKENS.author.str.contains('Hesse'), 'era'] = 'modern'\n",
    "TOKENS.loc[TOKENS.author.str.contains('Hume'), 'era'] = 'classical'\n",
    "TOKENS.loc[TOKENS.author.str.contains('Kant'), 'era'] = 'classical'\n",
    "TOKENS.loc[TOKENS.author.str.contains('Kierkegaard'), 'era'] = 'modern'\n",
    "TOKENS.loc[TOKENS.author.str.contains('Laozi'), 'era'] = 'ancient'\n",
    "TOKENS.loc[TOKENS.author.str.contains('Marx'), 'era'] = 'classical'\n",
    "TOKENS.loc[TOKENS.author.str.contains('MaryWollstonecraft'), 'era'] = 'classical'\n",
    "TOKENS.loc[TOKENS.author.str.contains('Nietzsche'), 'era'] = 'classical'\n",
    "TOKENS.loc[TOKENS.author.str.contains('Plato'), 'era'] = 'ancient'\n",
    "TOKENS.loc[TOKENS.author.str.contains('Simonedebeauvoir'), 'era'] = 'modern'\n",
    "TOKENS.loc[TOKENS.author.str.contains('StuartMill'), 'era'] = 'classical'"
   ]
  },
  {
   "cell_type": "code",
   "execution_count": 8,
   "id": "734fc48c-872e-4484-a83a-0e26db06465a",
   "metadata": {},
   "outputs": [
    {
     "data": {
      "text/html": [
       "<div>\n",
       "<style scoped>\n",
       "    .dataframe tbody tr th:only-of-type {\n",
       "        vertical-align: middle;\n",
       "    }\n",
       "\n",
       "    .dataframe tbody tr th {\n",
       "        vertical-align: top;\n",
       "    }\n",
       "\n",
       "    .dataframe thead th {\n",
       "        text-align: right;\n",
       "    }\n",
       "</style>\n",
       "<table border=\"1\" class=\"dataframe\">\n",
       "  <thead>\n",
       "    <tr style=\"text-align: right;\">\n",
       "      <th></th>\n",
       "      <th>text_id</th>\n",
       "      <th>para_num</th>\n",
       "      <th>sent_num</th>\n",
       "      <th>token_num</th>\n",
       "      <th>pos_tuple</th>\n",
       "      <th>pos</th>\n",
       "      <th>token_str</th>\n",
       "      <th>term_str</th>\n",
       "      <th>term_id</th>\n",
       "      <th>title</th>\n",
       "      <th>author</th>\n",
       "      <th>file</th>\n",
       "      <th>gender</th>\n",
       "      <th>era</th>\n",
       "    </tr>\n",
       "  </thead>\n",
       "  <tbody>\n",
       "    <tr>\n",
       "      <th>0</th>\n",
       "      <td>1</td>\n",
       "      <td>16</td>\n",
       "      <td>0</td>\n",
       "      <td>0</td>\n",
       "      <td>('Every', 'DT')</td>\n",
       "      <td>DT</td>\n",
       "      <td>Every</td>\n",
       "      <td>every</td>\n",
       "      <td>15890</td>\n",
       "      <td>NicomachaenEthics</td>\n",
       "      <td>Aristotle</td>\n",
       "      <td>philostexts\\Aristotle_NicomachaenEthics-1.txt</td>\n",
       "      <td>M</td>\n",
       "      <td>ancient</td>\n",
       "    </tr>\n",
       "    <tr>\n",
       "      <th>1</th>\n",
       "      <td>1</td>\n",
       "      <td>16</td>\n",
       "      <td>0</td>\n",
       "      <td>1</td>\n",
       "      <td>('art', 'NN')</td>\n",
       "      <td>NN</td>\n",
       "      <td>art</td>\n",
       "      <td>art</td>\n",
       "      <td>2942</td>\n",
       "      <td>NicomachaenEthics</td>\n",
       "      <td>Aristotle</td>\n",
       "      <td>philostexts\\Aristotle_NicomachaenEthics-1.txt</td>\n",
       "      <td>M</td>\n",
       "      <td>ancient</td>\n",
       "    </tr>\n",
       "    <tr>\n",
       "      <th>2</th>\n",
       "      <td>1</td>\n",
       "      <td>16</td>\n",
       "      <td>0</td>\n",
       "      <td>2</td>\n",
       "      <td>('and', 'CC')</td>\n",
       "      <td>CC</td>\n",
       "      <td>and</td>\n",
       "      <td>and</td>\n",
       "      <td>1976</td>\n",
       "      <td>NicomachaenEthics</td>\n",
       "      <td>Aristotle</td>\n",
       "      <td>philostexts\\Aristotle_NicomachaenEthics-1.txt</td>\n",
       "      <td>M</td>\n",
       "      <td>ancient</td>\n",
       "    </tr>\n",
       "    <tr>\n",
       "      <th>3</th>\n",
       "      <td>1</td>\n",
       "      <td>16</td>\n",
       "      <td>0</td>\n",
       "      <td>3</td>\n",
       "      <td>('every', 'DT')</td>\n",
       "      <td>DT</td>\n",
       "      <td>every</td>\n",
       "      <td>every</td>\n",
       "      <td>15890</td>\n",
       "      <td>NicomachaenEthics</td>\n",
       "      <td>Aristotle</td>\n",
       "      <td>philostexts\\Aristotle_NicomachaenEthics-1.txt</td>\n",
       "      <td>M</td>\n",
       "      <td>ancient</td>\n",
       "    </tr>\n",
       "    <tr>\n",
       "      <th>4</th>\n",
       "      <td>1</td>\n",
       "      <td>16</td>\n",
       "      <td>0</td>\n",
       "      <td>4</td>\n",
       "      <td>('inquiry,', 'NN')</td>\n",
       "      <td>NN</td>\n",
       "      <td>inquiry,</td>\n",
       "      <td>inquiry</td>\n",
       "      <td>23364</td>\n",
       "      <td>NicomachaenEthics</td>\n",
       "      <td>Aristotle</td>\n",
       "      <td>philostexts\\Aristotle_NicomachaenEthics-1.txt</td>\n",
       "      <td>M</td>\n",
       "      <td>ancient</td>\n",
       "    </tr>\n",
       "    <tr>\n",
       "      <th>...</th>\n",
       "      <td>...</td>\n",
       "      <td>...</td>\n",
       "      <td>...</td>\n",
       "      <td>...</td>\n",
       "      <td>...</td>\n",
       "      <td>...</td>\n",
       "      <td>...</td>\n",
       "      <td>...</td>\n",
       "      <td>...</td>\n",
       "      <td>...</td>\n",
       "      <td>...</td>\n",
       "      <td>...</td>\n",
       "      <td>...</td>\n",
       "      <td>...</td>\n",
       "    </tr>\n",
       "    <tr>\n",
       "      <th>1742815</th>\n",
       "      <td>3</td>\n",
       "      <td>179</td>\n",
       "      <td>0</td>\n",
       "      <td>7</td>\n",
       "      <td>('working', 'VBG')</td>\n",
       "      <td>VBG</td>\n",
       "      <td>working</td>\n",
       "      <td>working</td>\n",
       "      <td>49741</td>\n",
       "      <td>FeministClassStruggle</td>\n",
       "      <td>bellhooks</td>\n",
       "      <td>philostexts\\bellhooks_FeministClassStruggle-3.txt</td>\n",
       "      <td>F</td>\n",
       "      <td>modern</td>\n",
       "    </tr>\n",
       "    <tr>\n",
       "      <th>1742816</th>\n",
       "      <td>3</td>\n",
       "      <td>179</td>\n",
       "      <td>0</td>\n",
       "      <td>8</td>\n",
       "      <td>('class', 'NN')</td>\n",
       "      <td>NN</td>\n",
       "      <td>class</td>\n",
       "      <td>class</td>\n",
       "      <td>7384</td>\n",
       "      <td>FeministClassStruggle</td>\n",
       "      <td>bellhooks</td>\n",
       "      <td>philostexts\\bellhooks_FeministClassStruggle-3.txt</td>\n",
       "      <td>F</td>\n",
       "      <td>modern</td>\n",
       "    </tr>\n",
       "    <tr>\n",
       "      <th>1742817</th>\n",
       "      <td>3</td>\n",
       "      <td>179</td>\n",
       "      <td>0</td>\n",
       "      <td>9</td>\n",
       "      <td>('and', 'CC')</td>\n",
       "      <td>CC</td>\n",
       "      <td>and</td>\n",
       "      <td>and</td>\n",
       "      <td>1976</td>\n",
       "      <td>FeministClassStruggle</td>\n",
       "      <td>bellhooks</td>\n",
       "      <td>philostexts\\bellhooks_FeministClassStruggle-3.txt</td>\n",
       "      <td>F</td>\n",
       "      <td>modern</td>\n",
       "    </tr>\n",
       "    <tr>\n",
       "      <th>1742818</th>\n",
       "      <td>3</td>\n",
       "      <td>179</td>\n",
       "      <td>0</td>\n",
       "      <td>10</td>\n",
       "      <td>('poor', 'JJ')</td>\n",
       "      <td>JJ</td>\n",
       "      <td>poor</td>\n",
       "      <td>poor</td>\n",
       "      <td>34409</td>\n",
       "      <td>FeministClassStruggle</td>\n",
       "      <td>bellhooks</td>\n",
       "      <td>philostexts\\bellhooks_FeministClassStruggle-3.txt</td>\n",
       "      <td>F</td>\n",
       "      <td>modern</td>\n",
       "    </tr>\n",
       "    <tr>\n",
       "      <th>1742819</th>\n",
       "      <td>3</td>\n",
       "      <td>179</td>\n",
       "      <td>0</td>\n",
       "      <td>11</td>\n",
       "      <td>('women.', 'NN')</td>\n",
       "      <td>NN</td>\n",
       "      <td>women.</td>\n",
       "      <td>women</td>\n",
       "      <td>49694</td>\n",
       "      <td>FeministClassStruggle</td>\n",
       "      <td>bellhooks</td>\n",
       "      <td>philostexts\\bellhooks_FeministClassStruggle-3.txt</td>\n",
       "      <td>F</td>\n",
       "      <td>modern</td>\n",
       "    </tr>\n",
       "  </tbody>\n",
       "</table>\n",
       "<p>1742820 rows × 14 columns</p>\n",
       "</div>"
      ],
      "text/plain": [
       "         text_id  para_num  sent_num  token_num           pos_tuple  pos  \\\n",
       "0              1        16         0          0     ('Every', 'DT')   DT   \n",
       "1              1        16         0          1       ('art', 'NN')   NN   \n",
       "2              1        16         0          2       ('and', 'CC')   CC   \n",
       "3              1        16         0          3     ('every', 'DT')   DT   \n",
       "4              1        16         0          4  ('inquiry,', 'NN')   NN   \n",
       "...          ...       ...       ...        ...                 ...  ...   \n",
       "1742815        3       179         0          7  ('working', 'VBG')  VBG   \n",
       "1742816        3       179         0          8     ('class', 'NN')   NN   \n",
       "1742817        3       179         0          9       ('and', 'CC')   CC   \n",
       "1742818        3       179         0         10      ('poor', 'JJ')   JJ   \n",
       "1742819        3       179         0         11    ('women.', 'NN')   NN   \n",
       "\n",
       "        token_str term_str  term_id                  title     author  \\\n",
       "0           Every    every    15890      NicomachaenEthics  Aristotle   \n",
       "1             art      art     2942      NicomachaenEthics  Aristotle   \n",
       "2             and      and     1976      NicomachaenEthics  Aristotle   \n",
       "3           every    every    15890      NicomachaenEthics  Aristotle   \n",
       "4        inquiry,  inquiry    23364      NicomachaenEthics  Aristotle   \n",
       "...           ...      ...      ...                    ...        ...   \n",
       "1742815   working  working    49741  FeministClassStruggle  bellhooks   \n",
       "1742816     class    class     7384  FeministClassStruggle  bellhooks   \n",
       "1742817       and      and     1976  FeministClassStruggle  bellhooks   \n",
       "1742818      poor     poor    34409  FeministClassStruggle  bellhooks   \n",
       "1742819    women.    women    49694  FeministClassStruggle  bellhooks   \n",
       "\n",
       "                                                      file gender      era  \n",
       "0            philostexts\\Aristotle_NicomachaenEthics-1.txt      M  ancient  \n",
       "1            philostexts\\Aristotle_NicomachaenEthics-1.txt      M  ancient  \n",
       "2            philostexts\\Aristotle_NicomachaenEthics-1.txt      M  ancient  \n",
       "3            philostexts\\Aristotle_NicomachaenEthics-1.txt      M  ancient  \n",
       "4            philostexts\\Aristotle_NicomachaenEthics-1.txt      M  ancient  \n",
       "...                                                    ...    ...      ...  \n",
       "1742815  philostexts\\bellhooks_FeministClassStruggle-3.txt      F   modern  \n",
       "1742816  philostexts\\bellhooks_FeministClassStruggle-3.txt      F   modern  \n",
       "1742817  philostexts\\bellhooks_FeministClassStruggle-3.txt      F   modern  \n",
       "1742818  philostexts\\bellhooks_FeministClassStruggle-3.txt      F   modern  \n",
       "1742819  philostexts\\bellhooks_FeministClassStruggle-3.txt      F   modern  \n",
       "\n",
       "[1742820 rows x 14 columns]"
      ]
     },
     "execution_count": 8,
     "metadata": {},
     "output_type": "execute_result"
    }
   ],
   "source": [
    "TOKENS"
   ]
  },
  {
   "cell_type": "code",
   "execution_count": 9,
   "id": "00f4f2d0-d21c-4295-a782-d173dd6874d3",
   "metadata": {},
   "outputs": [
    {
     "data": {
      "text/html": [
       "<div>\n",
       "<style scoped>\n",
       "    .dataframe tbody tr th:only-of-type {\n",
       "        vertical-align: middle;\n",
       "    }\n",
       "\n",
       "    .dataframe tbody tr th {\n",
       "        vertical-align: top;\n",
       "    }\n",
       "\n",
       "    .dataframe thead th {\n",
       "        text-align: right;\n",
       "    }\n",
       "</style>\n",
       "<table border=\"1\" class=\"dataframe\">\n",
       "  <thead>\n",
       "    <tr style=\"text-align: right;\">\n",
       "      <th></th>\n",
       "      <th></th>\n",
       "      <th></th>\n",
       "      <th></th>\n",
       "      <th></th>\n",
       "      <th>para_str</th>\n",
       "    </tr>\n",
       "    <tr>\n",
       "      <th>title</th>\n",
       "      <th>author</th>\n",
       "      <th>para_num</th>\n",
       "      <th>gender</th>\n",
       "      <th>era</th>\n",
       "      <th></th>\n",
       "    </tr>\n",
       "  </thead>\n",
       "  <tbody>\n",
       "    <tr>\n",
       "      <th rowspan=\"5\" valign=\"top\">AVindicationOfTheRightsofMen</th>\n",
       "      <th rowspan=\"5\" valign=\"top\">MaryWollstonecraft</th>\n",
       "      <th>75</th>\n",
       "      <th>F</th>\n",
       "      <th>classical</th>\n",
       "      <td>attention transient topic day</td>\n",
       "    </tr>\n",
       "    <tr>\n",
       "      <th>76</th>\n",
       "      <th>F</th>\n",
       "      <th>classical</th>\n",
       "      <td>amusement indignation</td>\n",
       "    </tr>\n",
       "    <tr>\n",
       "      <th>77</th>\n",
       "      <th>F</th>\n",
       "      <th>classical</th>\n",
       "      <td>arguments moment me shape</td>\n",
       "    </tr>\n",
       "    <tr>\n",
       "      <th>78</th>\n",
       "      <th>F</th>\n",
       "      <th>classical</th>\n",
       "      <td>feelings sense</td>\n",
       "    </tr>\n",
       "    <tr>\n",
       "      <th>80</th>\n",
       "      <th>F</th>\n",
       "      <th>classical</th>\n",
       "      <td>pages letter effusions moment</td>\n",
       "    </tr>\n",
       "  </tbody>\n",
       "</table>\n",
       "</div>"
      ],
      "text/plain": [
       "                                                                                                para_str\n",
       "title                        author             para_num gender era                                     \n",
       "AVindicationOfTheRightsofMen MaryWollstonecraft 75       F      classical  attention transient topic day\n",
       "                                                76       F      classical          amusement indignation\n",
       "                                                77       F      classical      arguments moment me shape\n",
       "                                                78       F      classical                 feelings sense\n",
       "                                                80       F      classical  pages letter effusions moment"
      ]
     },
     "execution_count": 9,
     "metadata": {},
     "output_type": "execute_result"
    }
   ],
   "source": [
    "#Convert TOKENS to table of paragraphs\n",
    "#group by paragraph string and set indexes\n",
    "PARAS = TOKENS[TOKENS.pos.str.match(r'^NNS?$')]\\\n",
    "    .groupby(OHCO).term_str\\\n",
    "    .apply(lambda x: ' '.join(x))\\\n",
    "    .to_frame()\\\n",
    "    .rename(columns={'term_str':'para_str'})\n",
    "PARAS.head()"
   ]
  },
  {
   "cell_type": "code",
   "execution_count": 10,
   "id": "0c2fbaa5-6b0a-49e7-9e7c-21f070f9b6af",
   "metadata": {},
   "outputs": [
    {
     "data": {
      "text/plain": [
       "\"#Convert TOKENS to table of texts\\n#group by text string and set indexes\\nTEXTS = TOKENS[TOKENS.pos.str.match(r'^NNS?$')]    .groupby(OHCO[:1]).term_str    .apply(lambda x: ' '.join(x))    .to_frame()    .rename(columns={'term_str':'text_str'})\\nTEXTS.head()\""
      ]
     },
     "execution_count": 10,
     "metadata": {},
     "output_type": "execute_result"
    }
   ],
   "source": [
    "'''#Convert TOKENS to table of texts\n",
    "#group by text string and set indexes\n",
    "TEXTS = TOKENS[TOKENS.pos.str.match(r'^NNS?$')]\\\n",
    "    .groupby(OHCO[:1]).term_str\\\n",
    "    .apply(lambda x: ' '.join(x))\\\n",
    "    .to_frame()\\\n",
    "    .rename(columns={'term_str':'text_str'})\n",
    "TEXTS.head()'''"
   ]
  },
  {
   "cell_type": "markdown",
   "id": "87b5eb65-9570-48f2-9574-6b20c3c560ed",
   "metadata": {},
   "source": [
    "#### Create Vector Space \n"
   ]
  },
  {
   "cell_type": "code",
   "execution_count": 11,
   "id": "1d1fece4-8ef3-473c-af51-12bdfe40e4f2",
   "metadata": {},
   "outputs": [
    {
     "ename": "NameError",
     "evalue": "name 'TEXTS' is not defined",
     "output_type": "error",
     "traceback": [
      "\u001b[1;31m---------------------------------------------------------------------------\u001b[0m",
      "\u001b[1;31mNameError\u001b[0m                                 Traceback (most recent call last)",
      "Input \u001b[1;32mIn [11]\u001b[0m, in \u001b[0;36m<cell line: 5>\u001b[1;34m()\u001b[0m\n\u001b[0;32m      1\u001b[0m \u001b[38;5;66;03m##Vector Space\u001b[39;00m\n\u001b[0;32m      2\u001b[0m \u001b[38;5;66;03m#Use Scikit Learn's CountVectorizer to convert F1 corpus of paragraphs\u001b[39;00m\n\u001b[0;32m      3\u001b[0m \u001b[38;5;66;03m#into a document-term vector space of word counts.\u001b[39;00m\n\u001b[0;32m      4\u001b[0m tfv \u001b[38;5;241m=\u001b[39m CountVectorizer(max_features\u001b[38;5;241m=\u001b[39mn_terms, stop_words\u001b[38;5;241m=\u001b[39m\u001b[38;5;124m'\u001b[39m\u001b[38;5;124menglish\u001b[39m\u001b[38;5;124m'\u001b[39m)\n\u001b[1;32m----> 5\u001b[0m tf \u001b[38;5;241m=\u001b[39m tfv\u001b[38;5;241m.\u001b[39mfit_transform(\u001b[43mTEXTS\u001b[49m\u001b[38;5;241m.\u001b[39mtext_str)\n\u001b[0;32m      6\u001b[0m TERMS \u001b[38;5;241m=\u001b[39m tfv\u001b[38;5;241m.\u001b[39mget_feature_names_out()\n",
      "\u001b[1;31mNameError\u001b[0m: name 'TEXTS' is not defined"
     ]
    }
   ],
   "source": [
    "##Vector Space\n",
    "#Use Scikit Learn's CountVectorizer to convert F1 corpus of paragraphs\n",
    "#into a document-term vector space of word counts.\n",
    "tfv = CountVectorizer(max_features=n_terms, stop_words='english')\n",
    "tf = tfv.fit_transform(PARAS.text_str)\n",
    "TERMS = tfv.get_feature_names_out()"
   ]
  },
  {
   "cell_type": "code",
   "execution_count": null,
   "id": "271ea323-04af-46e4-bb5e-8c15ee43a176",
   "metadata": {},
   "outputs": [],
   "source": [
    "'''##Vector Space for Paragraph Level\n",
    "#Use Scikit Learn's CountVectorizer to convert F1 corpus of paragraphs\n",
    "#into a document-term vector space of word counts.\n",
    "tfv_para = CountVectorizer(max_features=n_terms, stop_words='english')\n",
    "tf_para = tfv_para.fit_transform(PARAS.para_str)\n",
    "TERMS_para = tfv_para.get_feature_names_out()'''"
   ]
  },
  {
   "cell_type": "code",
   "execution_count": null,
   "id": "44020866-5c6d-4d51-aed0-d23445acde51",
   "metadata": {},
   "outputs": [],
   "source": [
    "'''##Vector Space for TEXT Level\n",
    "#Use Scikit Learn's CountVectorizer to convert F1 corpus of paragraphs\n",
    "#into a document-term vector space of word counts.\n",
    "tfv_text = CountVectorizer(max_features=n_terms, stop_words='english')\n",
    "tf_text = tfv_text.fit_transform(TEXTS.text_str)\n",
    "TERMS_text = tfv_text.get_feature_names_out()'''"
   ]
  },
  {
   "cell_type": "markdown",
   "id": "911232eb-8fb6-4699-94e9-e446d8d017f6",
   "metadata": {},
   "source": [
    "#### Generate LDA Model"
   ]
  },
  {
   "cell_type": "code",
   "execution_count": null,
   "id": "b9515a1b-62f5-4dad-a77d-1b3d159550cd",
   "metadata": {},
   "outputs": [],
   "source": [
    "#Generate LDA model\n",
    "#SUse cikit Learn's LatentDirichletAllocation algorithm and extract the THETA and PHI tables.\n",
    "lda = LDA(n_components=n_topics, max_iter=max_iter, learning_offset=50., random_state=0)"
   ]
  },
  {
   "cell_type": "markdown",
   "id": "01824f36-a9c5-4ac9-805a-05bdae554785",
   "metadata": {},
   "source": [
    "#### THETA"
   ]
  },
  {
   "cell_type": "code",
   "execution_count": null,
   "id": "43429074-b2d2-4608-af86-48417cf2661c",
   "metadata": {},
   "outputs": [],
   "source": [
    "#THETA for texts\n",
    "THETA = pd.DataFrame(lda.fit_transform(tf), index=PARAS.index)\n",
    "THETA.columns.name = 'topic_id'\n",
    "THETA.sample(10).style.background_gradient()"
   ]
  },
  {
   "cell_type": "code",
   "execution_count": null,
   "id": "11b4f34c-91f1-4f3a-8fb2-d8ce17c07a25",
   "metadata": {},
   "outputs": [],
   "source": [
    "#THETA for paragraphs\n",
    "'''THETA_para = pd.DataFrame(lda.fit_transform(tf_para), index=PARAS.index)\n",
    "THETA_para.columns.name = 'topic_id'\n",
    "THETA_para.sample(10).style.background_gradient()'''"
   ]
  },
  {
   "cell_type": "code",
   "execution_count": null,
   "id": "2b10e5d2-cce8-4a92-89c7-c40218b75bfb",
   "metadata": {},
   "outputs": [],
   "source": [
    "#THETA for texts\n",
    "'''THETA_text = pd.DataFrame(lda.fit_transform(tf_text), index=TEXTS.index)\n",
    "THETA_text.columns.name = 'topic_id'\n",
    "THETA_text.sample(10).style.background_gradient()'''"
   ]
  },
  {
   "cell_type": "markdown",
   "id": "883bb758-27d0-44fa-b962-f9521bd53bcf",
   "metadata": {},
   "source": [
    "#### PHI"
   ]
  },
  {
   "cell_type": "code",
   "execution_count": null,
   "id": "bbedeff9-0a7c-4993-aab8-b2822b6e421a",
   "metadata": {},
   "outputs": [],
   "source": [
    "#PHI \n",
    "PHI = pd.DataFrame(lda.components_, columns=TERMS)\n",
    "PHI.index.name = 'topic_id'\n",
    "PHI.columns.name  = 'term_str'\n",
    "PHI.T.head().style.background_gradient()"
   ]
  },
  {
   "cell_type": "code",
   "execution_count": null,
   "id": "fc6eafca-296e-4c0a-9614-d67ae92f0c7a",
   "metadata": {},
   "outputs": [],
   "source": [
    "#PHI for paragraphs\n",
    "'''PHI_para = pd.DataFrame(lda.components_, columns=TERMS)\n",
    "PHI_para.index.name = 'topic_id'\n",
    "PHI_para.columns.name  = 'term_str'\n",
    "PHI_para.T.head().style.background_gradient()'''"
   ]
  },
  {
   "cell_type": "code",
   "execution_count": null,
   "id": "2637e1ea-6ed2-4143-bb65-55a5a2c876bc",
   "metadata": {},
   "outputs": [],
   "source": [
    "#PHI for texts\n",
    "'''PHI_text = pd.DataFrame(lda.components_, columns=TERMS)\n",
    "PHI_text.index.name = 'topic_id'\n",
    "PHI_text.columns.name  = 'term_str'\n",
    "PHI_text.T.head().style.background_gradient()'''"
   ]
  },
  {
   "cell_type": "markdown",
   "id": "91013145-7bbe-4439-bc0b-0c8345aeb855",
   "metadata": {},
   "source": [
    "#### Top Terms per Topic"
   ]
  },
  {
   "cell_type": "code",
   "execution_count": null,
   "id": "cfd9f203-c7ed-49d1-857a-1dadc39aa034",
   "metadata": {},
   "outputs": [],
   "source": [
    "TOPICS = PHI.stack().to_frame().rename(columns={0:'weight'})\\\n",
    "    .groupby('topic_id')\\\n",
    "    .apply(lambda x: \n",
    "           x.weight.sort_values(ascending=False)\\\n",
    "               .head(10)\\\n",
    "               .reset_index()\\\n",
    "               .drop('topic_id',1)\\\n",
    "               .term_str)\n",
    "TOPICS"
   ]
  },
  {
   "cell_type": "code",
   "execution_count": null,
   "id": "a6513a87-f329-41d8-907f-48755a07adf7",
   "metadata": {},
   "outputs": [],
   "source": [
    "#TOPICS_para['label'] = TOPICS_para.apply(lambda x: str(x.name) + ' ' + ' '.join(x), 1)"
   ]
  },
  {
   "cell_type": "code",
   "execution_count": null,
   "id": "c3d29ec6-0ba0-4ede-ac95-9e8822e2462c",
   "metadata": {},
   "outputs": [],
   "source": [
    "'''TOPICS_para = PHI_para.stack().to_frame().rename(columns={0:'weight'})\\\n",
    "    .groupby('topic_id')\\\n",
    "    .apply(lambda x: \n",
    "           x.weight.sort_values(ascending=False)\\\n",
    "               .head(10)\\\n",
    "               .reset_index()\\\n",
    "               .drop('topic_id',1)\\\n",
    "               .term_str)\n",
    "TOPICS_para'''"
   ]
  },
  {
   "cell_type": "code",
   "execution_count": null,
   "id": "eb29ed44-75af-47f8-844b-46db32fde961",
   "metadata": {},
   "outputs": [],
   "source": [
    "TOPICS['label'] = TOPICS.apply(lambda x: str(x.name) + ' ' + ' '.join(x), 1)"
   ]
  },
  {
   "cell_type": "code",
   "execution_count": null,
   "id": "be14041c-24ac-441f-8865-39cd6ccb8753",
   "metadata": {},
   "outputs": [],
   "source": [
    "#TOPICS_para['label'] = TOPICS_para.apply(lambda x: str(x.name) + ' ' + ' '.join(x), 1)"
   ]
  },
  {
   "cell_type": "code",
   "execution_count": null,
   "id": "6fd29b6b-911d-4746-9f7b-b3b8b81bc67e",
   "metadata": {},
   "outputs": [],
   "source": [
    "'''TOPICS_text = PHI_text.stack().to_frame().rename(columns={0:'weight'})\\\n",
    "    .groupby('topic_id')\\\n",
    "    .apply(lambda x: \n",
    "           x.weight.sort_values(ascending=False)\\\n",
    "               .head(10)\\\n",
    "               .reset_index()\\\n",
    "               .drop('topic_id',1)\\\n",
    "               .term_str)\n",
    "TOPICS_text'''"
   ]
  },
  {
   "cell_type": "code",
   "execution_count": null,
   "id": "1c4872d8-5e27-4405-8c46-1ad2d713c3b8",
   "metadata": {},
   "outputs": [],
   "source": [
    "#TOPICS_text['label'] = TOPICS_para.apply(lambda x: str(x.name) + ' ' + ' '.join(x), 1)"
   ]
  },
  {
   "cell_type": "code",
   "execution_count": null,
   "id": "2a68cdb9-3d10-43ae-84c1-c8cd032f8e75",
   "metadata": {},
   "outputs": [],
   "source": [
    "#TOPICS_para.label"
   ]
  },
  {
   "cell_type": "code",
   "execution_count": null,
   "id": "7f1e26cd-48f3-4d2a-914c-8e90f77190bf",
   "metadata": {},
   "outputs": [],
   "source": [
    "#TOPICS_text.label"
   ]
  },
  {
   "cell_type": "markdown",
   "id": "b4eba242-e32e-4894-8fed-aa9665502b06",
   "metadata": {},
   "source": [
    "#### Sort Topics by Doc Weight"
   ]
  },
  {
   "cell_type": "code",
   "execution_count": null,
   "id": "22ceb266-181e-4f38-bae3-d9b6d42da4f5",
   "metadata": {},
   "outputs": [],
   "source": [
    "TOPICS['doc_weight_sum'] = THETA.sum()\n",
    "TOPICS.sort_values('doc_weight_sum', \n",
    "                   ascending=True).plot.barh(y='doc_weight_sum', x='label', \n",
    "                                             figsize=(5,10)) "
   ]
  },
  {
   "cell_type": "code",
   "execution_count": null,
   "id": "132ea2bb-c911-4e97-b96b-4e74ce077814",
   "metadata": {},
   "outputs": [],
   "source": [
    "#TOPICS_para['doc_weight_sum'] = THETA_para.sum()\n",
    "#TOPICS_para.sort_values('doc_weight_sum', \n",
    "#                   ascending=True).plot.barh(y='doc_weight_sum',\n",
    "#                                             x='label', \n",
    "#                                             figsize=(5,10)) "
   ]
  },
  {
   "cell_type": "code",
   "execution_count": null,
   "id": "00d1f1b3-5680-4498-b7e2-78d58ccebe9f",
   "metadata": {},
   "outputs": [],
   "source": [
    "#TOPICS_text['doc_weight_sum'] = THETA_text.sum()\n",
    "#TOPICS_text.sort_values('doc_weight_sum', \n",
    "#                   ascending=True).plot.barh(y='doc_weight_sum',\n",
    "#                                             x='label', \n",
    "#                                             figsize=(5,10)) "
   ]
  },
  {
   "cell_type": "markdown",
   "id": "0846b7d0-edc3-4fa4-bd37-8c804d029a12",
   "metadata": {},
   "source": [
    "#### Cluster Topics"
   ]
  },
  {
   "cell_type": "code",
   "execution_count": null,
   "id": "4b1ab850-beb7-4037-a8e2-b41ce3cb6754",
   "metadata": {},
   "outputs": [],
   "source": [
    "def plot_tree(tree, labels):\n",
    "    plt.figure()\n",
    "    fig, axes = plt.subplots(figsize=(5, 10))\n",
    "    dendrogram = sch.dendrogram(tree, labels=labels, orientation=\"left\")\n",
    "    plt.tick_params(axis='both', which='major', labelsize=14)"
   ]
  },
  {
   "cell_type": "code",
   "execution_count": null,
   "id": "e85d08d6-b724-4d17-921c-f38cbce60cbd",
   "metadata": {},
   "outputs": [],
   "source": [
    "SIMS = pdist(normalize(PHI), metric='euclidean')\n",
    "TREE = sch.linkage(SIMS, method='ward')\n",
    "\n",
    "TOPICS['topterms'] = TOPICS[[i for i in range(10)]].apply(lambda x: ' '.join(x), 1)\n",
    "labels  = [\"{}: {}\".format(a,b) for a, b in zip(TOPICS.index,  TOPICS.topterms.tolist())]\n",
    "plot_tree(TREE, labels)"
   ]
  },
  {
   "cell_type": "markdown",
   "id": "db961e69-2cd0-4c9e-bd07-ac230c0672d2",
   "metadata": {},
   "source": [
    "### Explore Topics by Gender"
   ]
  },
  {
   "cell_type": "code",
   "execution_count": null,
   "id": "33796323-3b33-43cb-8342-9ea623705a26",
   "metadata": {},
   "outputs": [],
   "source": [
    "topic_cols = [t for t in range(n_topics)]\n",
    "GENDER = THETA.groupby('gender')[topic_cols].mean().T                                            \n",
    "GENDER.index.name = 'topic_id'\n",
    "GENDER.T"
   ]
  },
  {
   "cell_type": "code",
   "execution_count": null,
   "id": "7eedabd8-bdee-4489-b356-0b76f26a865a",
   "metadata": {},
   "outputs": [],
   "source": [
    "GENDER['topterms'] = TOPICS[[i for i in range(10)]].apply(lambda x: ' '.join(x), 1)\n",
    "GENDER.sort_values('F', ascending=False).style.background_gradient()"
   ]
  },
  {
   "cell_type": "code",
   "execution_count": null,
   "id": "9222d4ba-ebb7-4489-a25f-f97603ce10c8",
   "metadata": {},
   "outputs": [],
   "source": [
    "GENDER.sort_values('M', ascending=False).style.background_gradient()"
   ]
  },
  {
   "cell_type": "code",
   "execution_count": null,
   "id": "58fd33eb-5e87-4146-a90a-206b6c245c31",
   "metadata": {},
   "outputs": [],
   "source": [
    "px.scatter(GENDER.reset_index(), 'M', 'F', hover_name='topterms', text='topic_id')\\\n",
    "    .update_traces(mode='text')"
   ]
  },
  {
   "cell_type": "markdown",
   "id": "7c4155fb-2c6a-418d-860d-928916f10486",
   "metadata": {},
   "source": [
    "#### Cluster"
   ]
  },
  {
   "cell_type": "code",
   "execution_count": null,
   "id": "f3c9029c-db69-4ad4-9058-97caee405909",
   "metadata": {},
   "outputs": [],
   "source": [
    "labels  = [\"{}: {}\".format(a,b) for a, b in zip(GENDER.index,  GENDER.topterms.tolist())]\n",
    "plot_tree(TREE, labels)"
   ]
  },
  {
   "cell_type": "markdown",
   "id": "8f664c3e-5584-41fa-96c0-d538d9f57143",
   "metadata": {},
   "source": [
    "#### Analysis\n",
    "...."
   ]
  },
  {
   "cell_type": "markdown",
   "id": "47f429f5-ccd0-4f65-af05-e3e8ae8e3f30",
   "metadata": {},
   "source": [
    "### Explore Topics by Era"
   ]
  },
  {
   "cell_type": "code",
   "execution_count": null,
   "id": "7f71c600-9879-43b1-afa7-5b172aed13ed",
   "metadata": {},
   "outputs": [],
   "source": [
    "ERA = THETA.groupby('era')[topic_cols].mean().T                                            \n",
    "ERA.index.name = 'topic_id'\n",
    "ERA.T"
   ]
  },
  {
   "cell_type": "code",
   "execution_count": null,
   "id": "4ff629b0-32e9-44be-bc01-f8479fffdb9b",
   "metadata": {},
   "outputs": [],
   "source": [
    "ERA['topterms'] = TOPICS[[i for i in range(10)]].apply(lambda x: ' '.join(x), 1)\n",
    "ERA.sort_values('modern', ascending=False).style.background_gradient()"
   ]
  },
  {
   "cell_type": "code",
   "execution_count": null,
   "id": "92df9841-fc54-4cf0-b03d-c37235673dad",
   "metadata": {},
   "outputs": [],
   "source": [
    "ERA.sort_values('ancient', ascending=False).style.background_gradient()"
   ]
  },
  {
   "cell_type": "code",
   "execution_count": null,
   "id": "cc6c3347-2d15-4906-8500-44b73d220af5",
   "metadata": {},
   "outputs": [],
   "source": [
    "ERA.sort_values('classical', ascending=False).style.background_gradient()"
   ]
  },
  {
   "cell_type": "code",
   "execution_count": null,
   "id": "e3fbe77a-9769-4b49-9168-4039163bf936",
   "metadata": {},
   "outputs": [],
   "source": [
    "#scatter plot looking at distribution of topics of ancient and classical texts\n",
    "px.scatter(ERA.reset_index(), 'ancient', 'classical', hover_name='topterms', text='topic_id')\\\n",
    "    .update_traces(mode='text')"
   ]
  },
  {
   "cell_type": "code",
   "execution_count": null,
   "id": "8deddaaf-e93f-40cb-9cb2-0733fb2e545e",
   "metadata": {},
   "outputs": [],
   "source": [
    "#scatter plot looking at distribution of topics of classical and modern texts\n",
    "px.scatter(ERA.reset_index(), 'classical', 'modern', hover_name='topterms', text='topic_id')\\\n",
    "    .update_traces(mode='text')"
   ]
  },
  {
   "cell_type": "code",
   "execution_count": null,
   "id": "3f529b62-f9ff-4a6a-bef8-85edb7169609",
   "metadata": {},
   "outputs": [],
   "source": [
    "#scatter plot looking at distribution of topics of ancient and modern texts\n",
    "px.scatter(ERA.reset_index(), 'ancient', 'modern', hover_name='topterms', text='topic_id')\\\n",
    "    .update_traces(mode='text')"
   ]
  },
  {
   "cell_type": "code",
   "execution_count": null,
   "id": "77d1fd80-d432-459f-919c-d8bb90fd360b",
   "metadata": {},
   "outputs": [],
   "source": [
    "labels  = [\"{}: {}\".format(a,b) for a, b in zip(ERA.index,  ERA.topterms.tolist())]\n",
    "plot_tree(TREE, labels)\n"
   ]
  },
  {
   "cell_type": "code",
   "execution_count": null,
   "id": "7466d152-cff4-4a21-be45-5a977dc465bb",
   "metadata": {},
   "outputs": [],
   "source": []
  }
 ],
 "metadata": {
  "kernelspec": {
   "display_name": "Python 3 (ipykernel)",
   "language": "python",
   "name": "python3"
  },
  "language_info": {
   "codemirror_mode": {
    "name": "ipython",
    "version": 3
   },
   "file_extension": ".py",
   "mimetype": "text/x-python",
   "name": "python",
   "nbconvert_exporter": "python",
   "pygments_lexer": "ipython3",
   "version": "3.9.7"
  }
 },
 "nbformat": 4,
 "nbformat_minor": 5
}
