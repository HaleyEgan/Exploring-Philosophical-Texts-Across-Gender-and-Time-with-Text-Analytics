{
 "cells": [
  {
   "cell_type": "markdown",
   "id": "0a9f054e-5ca2-440b-a0d0-dd16cd583f92",
   "metadata": {},
   "source": [
    "## Exploring Philosophical Texts Across Gender, Region, and Time with Text Analytics\n",
    "### Haley Egan"
   ]
  },
  {
   "cell_type": "markdown",
   "id": "8c18b654-c19f-42b5-807a-3431ce39bcd1",
   "metadata": {},
   "source": [
    "#### Project Overview\n",
    "\n",
    "\n"
   ]
  },
  {
   "cell_type": "markdown",
   "id": "369595c6-41e1-448a-9691-937d2e0c9084",
   "metadata": {},
   "source": [
    "The goal of this project is to explore the cultural patterns in philosophical texts. Main topics and cultural themes are analyzed across the texts as a whole. Topics and themes are also examined between groups, such as between male and female philosochical writers, between regions/nations, and across time. Text Analytics is a powerful tool to help us understand and extract cultural patterns from large quantities of texts. This is even more helpful when these texts are not accessible to every, such as these classic philosophical texts. \n",
    "\n",
    "Key Questions: \n",
    "- Do male and female philosophers explore different topics, or share similarites? \n",
    "- Are different topics discussed in different regions of the world? \n",
    "- Are different topics discussed in different time periods? \n",
    "- Can the key concepts of philosophical texts be extracted from each text, in an interpretable way? \n",
    "- What are the most important issues that philosophers are concerned with? Do these change over time, and do they differ based on gender?"
   ]
  },
  {
   "cell_type": "markdown",
   "id": "05f5fbc2-114c-4d6f-ac57-b04b4fc2e037",
   "metadata": {},
   "source": [
    "#### Project Data "
   ]
  },
  {
   "cell_type": "markdown",
   "id": "8dccc1df-dfdc-42ca-85dc-a99c8c0a642b",
   "metadata": {},
   "source": [
    "For this project, 21 philosophical texts were collected. Ten texts are by male Western philosophers, and span from 4th century BC to the 19th century AD. Four philosophical texts are by men from other parts of the world, including Asia and South America. Seven texts were collected by female Western philosophers, most of which are from the 20th century. These texts were collected from Project Gutenberg, and other online document archives. The texts are all in Plain-Text format, for easier use in data cleaning, parsing, and manipulation. Due to the necessity of the plain-text format, the available texts were limited, especially for the female philosophers. Most (known) published female philosophers are from the modern era, with limited free access to their works in plain-text form. This is the same for modern male philosophers. The distribution of texts is not even across time/gender, which must be taken into account when analysing the texts. There are many philosophical texts in the world, and this sample barely scratches the surface. Further exploration with more texts would provide greater understandings, and should be considered for future studies. However, there should still be enough textual data in order to address many cultural questions when looking at philosophical texts.\n",
    "\n",
    "- 10 Western Philosophical Texts by Male Authors: \n",
    "    - Aristotle: Nicomachean Ethics (4th century BC)\n",
    "    - Plato: The Republic (4th century BC)\n",
    "    - Cicero: On Moral Duties / De Officiis (44 BC)\n",
    "    - David Hume: An Enquiry Concerning Human Understanding (1748)\n",
    "    - Immanuel Kant: Fundamental Principles of the Metaphysic of Morals (1785)\n",
    "    - Karl Marx: The Communist Manifesto (1848)\n",
    "    - John Stuart Mill: Utilitarianism (1861) \n",
    "    - Friedrich Nietzsche: Beyond Good and Evil (1886)\n",
    "    - Søren Kierkegaard: Selections from the Writings of Kierkegaard (1923)\n",
    "    - Michel Foucault: The Order of Things (1966)\n",
    "- 4 Non-Western Philosophical Texts by Male Authors: \n",
    "    - Laozi (Lao Tzu): Tao Te Ching (400 BC) \n",
    "    - Paulo Freire: Pedagogy of the Oppressed (1968) \n",
    "    - Sun Tzu: The Art of War (5th century BC)\n",
    "    - Herman Hesse: Siddartha (1922) \n",
    "- 7 Western Phiosophical Texts by Female Authors:\n",
    "    - Mary Wollstonecraft: A Vindication of the Rights of Men (1790)\n",
    "    - Mary Wollstonecraft: A Vindication of the Rights of Woman (1792)\n",
    "    - Harriet Taylor Mill: The Enfranchisement of Women (1852)\n",
    "    - Simone de Beauvoir: The Second Sex (1952)\n",
    "    - Hannah Arendt: The Origins of Totalitarianism (1951)\n",
    "    - bell hooks: Ain’t I a Woman: Black Women and Feminism (1981)\n",
    "    - bell hooks: Feminist Class Struggle (2002) "
   ]
  },
  {
   "cell_type": "markdown",
   "id": "39dfaeef-6f60-48c5-a3aa-4597d8d6892a",
   "metadata": {},
   "source": [
    "#### Methodology"
   ]
  },
  {
   "cell_type": "markdown",
   "id": "ebb9b368-f976-4f5c-8032-89bda569d88e",
   "metadata": {},
   "source": [
    "Several Text Analytics tools are used for this project.\n",
    "- Bag-of-words:\n",
    "- TF-IDF:\n",
    "- Principle Component Analysis (PCA): \n",
    "- Latent Diriclet Analysis (LDA):\n",
    "- Topic Modeling:\n",
    "- Word Embeddings: word2vec\n",
    "- Visualizations:\n",
    "    - Cluster Diagrams:\n",
    "    - t-SNE:\n",
    "    - Dispersion Plots:\n",
    "    - Correlation heatmaps:\n",
    "    \n",
    "**Step 1**:\n",
    "\n",
    "**Step 2**:\n",
    "\n",
    "**Step 3**:\n",
    "\n",
    "**Step 4**: \n",
    "\n",
    "**Step 5**:\n",
    "\n",
    "**Step 6**:\n",
    "\n",
    "**Step 7**:\n",
    "\n",
    "**Step 8**:"
   ]
  },
  {
   "cell_type": "code",
   "execution_count": null,
   "id": "61a85e2e-5558-40dc-baa3-f1decac15fa4",
   "metadata": {},
   "outputs": [],
   "source": []
  }
 ],
 "metadata": {
  "kernelspec": {
   "display_name": "Python 3 (ipykernel)",
   "language": "python",
   "name": "python3"
  },
  "language_info": {
   "codemirror_mode": {
    "name": "ipython",
    "version": 3
   },
   "file_extension": ".py",
   "mimetype": "text/x-python",
   "name": "python",
   "nbconvert_exporter": "python",
   "pygments_lexer": "ipython3",
   "version": "3.9.12"
  }
 },
 "nbformat": 4,
 "nbformat_minor": 5
}
