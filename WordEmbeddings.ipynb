{
 "cells": [
  {
   "cell_type": "markdown",
   "id": "7d3f65be-a231-4ef1-b510-1483d814cfc0",
   "metadata": {},
   "source": [
    "## Word Embeddings\n",
    "...\n",
    "word2vec model, t-SNE scatterplot"
   ]
  },
  {
   "cell_type": "code",
   "execution_count": null,
   "id": "433be6f0-e943-48b4-8cc2-5b0c26cb9be5",
   "metadata": {},
   "outputs": [],
   "source": []
  }
 ],
 "metadata": {
  "kernelspec": {
   "display_name": "Python 3 (ipykernel)",
   "language": "python",
   "name": "python3"
  },
  "language_info": {
   "codemirror_mode": {
    "name": "ipython",
    "version": 3
   },
   "file_extension": ".py",
   "mimetype": "text/x-python",
   "name": "python",
   "nbconvert_exporter": "python",
   "pygments_lexer": "ipython3",
   "version": "3.9.7"
  }
 },
 "nbformat": 4,
 "nbformat_minor": 5
}
