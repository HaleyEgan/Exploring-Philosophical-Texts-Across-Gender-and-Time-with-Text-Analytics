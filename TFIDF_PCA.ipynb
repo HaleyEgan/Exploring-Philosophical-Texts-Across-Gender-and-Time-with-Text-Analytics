{
 "cells": [
  {
   "attachments": {
    "49da2fe1-bf99-43c8-8034-8fb1bb1cd99c.png": {
     "image/png": "[encoded data removed]"
    },
    "f327ac95-52e7-474f-9c38-669e25825460.png": {
     "image/png": "[encoded data removed]"
    },
    "feb7ec5e-60a3-4540-9ba6-6a2f91113c36.png": {
     "image/png": "[encoded data removed]"
    }
   },
   "cell_type": "markdown",
   "id": "b277fa29-1b60-4ee2-baa9-4b2ab9ecf3bf",
   "metadata": {},
   "source": [
    "### Bag-of-Words & TF-IDF Matrix\n",
    "Bag-of-Words (BoW) places all the words of each text into a 'bucket' or 'bag'. Because of this method, information about the stucture of the sentence is lost. \n",
    "\n",
    "TF-IDF stands for Term Frequency - Inverse Document Frequency. TF-IDF scores the relative importance of the words, in order to gain an understanding of the texts as a whole. \n",
    "\n",
    "The Term Frequency (TF) is the number of times a word appears in the document, divided by the total number of words in the document.\n",
    "\n",
    "![image.png](attachment:49da2fe1-bf99-43c8-8034-8fb1bb1cd99c.png)\n",
    "\n",
    "Inverse Document Frequency (IDF) is the log of the number of documents divided by the number of documents that contain a particular word. The IDF finds the weight of rare words across all the documents in the corpus. \n",
    "\n",
    "![image.png](attachment:feb7ec5e-60a3-4540-9ba6-6a2f91113c36.png)\n",
    "\n",
    "TF-IDF is TF multiplied by IDF. \n",
    "![image.png](attachment:f327ac95-52e7-474f-9c38-669e25825460.png)"
   ]
  },
  {
   "cell_type": "code",
   "execution_count": 1,
   "id": "deb37add-f375-471a-a1fb-656aa870b136",
   "metadata": {},
   "outputs": [],
   "source": [
    "import pandas as pd\n",
    "import numpy as np\n",
    "import seaborn as sns\n",
    "import plotly_express as px\n",
    "\n",
    "from sklearn.decomposition import PCA\n",
    "from scipy.linalg import norm\n",
    "from scipy.linalg import eigh as eig"
   ]
  },
  {
   "cell_type": "code",
   "execution_count": 2,
   "id": "138ae307-a485-4554-a26c-d3e3d654f2e6",
   "metadata": {},
   "outputs": [],
   "source": [
    "sns.set()\n",
    "%matplotlib inline"
   ]
  },
  {
   "cell_type": "code",
   "execution_count": 3,
   "id": "7a6df850-620c-4cd1-be3d-335354b866a2",
   "metadata": {},
   "outputs": [],
   "source": [
    "#TFIDF arguments\n",
    "count_method = 'n' # 'c' or 'n' # n tokens, c = distinct token (term) count\n",
    "tf_method = 'sum' # sum, max, log, double_norm, raw, binary\n",
    "tf_norm_k = .5 # only used for double_norm\n",
    "idf_method = 'standard' # standard, max, smooth"
   ]
  },
  {
   "cell_type": "code",
   "execution_count": 74,
   "id": "0e533704-4b29-4d3e-a132-01055e555e43",
   "metadata": {},
   "outputs": [
    {
     "data": {
      "text/plain": [
       "\"\\nOHCO = ['text_id', 'para_num', 'sent_num', 'token_num']\\nSENTS = OHCO[:3]\\nPARAS = OHCO[:2]\\nTEXTS = OHCO[:1]\\n\""
      ]
     },
     "execution_count": 74,
     "metadata": {},
     "output_type": "execute_result"
    }
   ],
   "source": [
    "#set OHCO params\n",
    "'''\n",
    "OHCO = ['text_id', 'para_num', 'sent_num', 'token_num']\n",
    "SENTS = OHCO[:3]\n",
    "PARAS = OHCO[:2]\n",
    "TEXTS = OHCO[:1]\n",
    "'''"
   ]
  },
  {
   "cell_type": "code",
   "execution_count": 4,
   "id": "16ca052a-2943-4136-917a-aecc820cb76a",
   "metadata": {},
   "outputs": [],
   "source": [
    "#set OHCO\n",
    "OHCO = ['author','title','para_num','sent_num','token_num']\n",
    "TEXTS = OHCO[:2]"
   ]
  },
  {
   "cell_type": "code",
   "execution_count": 5,
   "id": "dbabb9c6-0e8b-43a7-b4ef-ce1048c3eb9c",
   "metadata": {},
   "outputs": [],
   "source": [
    "#Texts as bag\n",
    "bag = TEXTS"
   ]
  },
  {
   "cell_type": "code",
   "execution_count": 7,
   "id": "ea7a35bd-0759-44bf-baf0-1ce6ca9d8bc8",
   "metadata": {},
   "outputs": [],
   "source": [
    "#import tables\n",
    "'''\n",
    "LIB = pd.read_csv('LIB.csv').set_index(TEXTS)\n",
    "TOKEN = pd.read_csv('TOKEN.csv').set_index(OHCO)\n",
    "VOCAB = pd.read_csv('VOCAB.csv').set_index('term_id')\n",
    "# DOC = pd.read_csv(\"DOC.csv\")\n",
    "'''"
   ]
  },
  {
   "cell_type": "code",
   "execution_count": 6,
   "id": "14a02cb1-4cbe-4bd8-b884-91f29a489352",
   "metadata": {},
   "outputs": [],
   "source": [
    "#import tables\n",
    "LIB = pd.read_csv('LIB.csv')\n",
    "VOCAB = pd.read_csv('VOCAB.csv').set_index('term_id')\n",
    "TOKEN = pd.read_csv('TOKEN.csv')"
   ]
  },
  {
   "cell_type": "code",
   "execution_count": 7,
   "id": "24eb444f-564c-4db5-9c07-4630cbbccf63",
   "metadata": {},
   "outputs": [
    {
     "data": {
      "text/html": [
       "<div>\n",
       "<style scoped>\n",
       "    .dataframe tbody tr th:only-of-type {\n",
       "        vertical-align: middle;\n",
       "    }\n",
       "\n",
       "    .dataframe tbody tr th {\n",
       "        vertical-align: top;\n",
       "    }\n",
       "\n",
       "    .dataframe thead th {\n",
       "        text-align: right;\n",
       "    }\n",
       "</style>\n",
       "<table border=\"1\" class=\"dataframe\">\n",
       "  <thead>\n",
       "    <tr style=\"text-align: right;\">\n",
       "      <th></th>\n",
       "      <th>text_id</th>\n",
       "      <th>para_num</th>\n",
       "      <th>sent_num</th>\n",
       "      <th>token_num</th>\n",
       "      <th>pos_tuple</th>\n",
       "      <th>pos</th>\n",
       "      <th>token_str</th>\n",
       "      <th>term_str</th>\n",
       "      <th>term_id</th>\n",
       "    </tr>\n",
       "  </thead>\n",
       "  <tbody>\n",
       "    <tr>\n",
       "      <th>0</th>\n",
       "      <td>1</td>\n",
       "      <td>16</td>\n",
       "      <td>0</td>\n",
       "      <td>0</td>\n",
       "      <td>('Every', 'DT')</td>\n",
       "      <td>DT</td>\n",
       "      <td>Every</td>\n",
       "      <td>every</td>\n",
       "      <td>15890</td>\n",
       "    </tr>\n",
       "    <tr>\n",
       "      <th>1</th>\n",
       "      <td>1</td>\n",
       "      <td>16</td>\n",
       "      <td>0</td>\n",
       "      <td>1</td>\n",
       "      <td>('art', 'NN')</td>\n",
       "      <td>NN</td>\n",
       "      <td>art</td>\n",
       "      <td>art</td>\n",
       "      <td>2942</td>\n",
       "    </tr>\n",
       "    <tr>\n",
       "      <th>2</th>\n",
       "      <td>1</td>\n",
       "      <td>16</td>\n",
       "      <td>0</td>\n",
       "      <td>2</td>\n",
       "      <td>('and', 'CC')</td>\n",
       "      <td>CC</td>\n",
       "      <td>and</td>\n",
       "      <td>and</td>\n",
       "      <td>1976</td>\n",
       "    </tr>\n",
       "    <tr>\n",
       "      <th>3</th>\n",
       "      <td>1</td>\n",
       "      <td>16</td>\n",
       "      <td>0</td>\n",
       "      <td>3</td>\n",
       "      <td>('every', 'DT')</td>\n",
       "      <td>DT</td>\n",
       "      <td>every</td>\n",
       "      <td>every</td>\n",
       "      <td>15890</td>\n",
       "    </tr>\n",
       "    <tr>\n",
       "      <th>4</th>\n",
       "      <td>1</td>\n",
       "      <td>16</td>\n",
       "      <td>0</td>\n",
       "      <td>4</td>\n",
       "      <td>('inquiry,', 'NN')</td>\n",
       "      <td>NN</td>\n",
       "      <td>inquiry,</td>\n",
       "      <td>inquiry</td>\n",
       "      <td>23364</td>\n",
       "    </tr>\n",
       "  </tbody>\n",
       "</table>\n",
       "</div>"
      ],
      "text/plain": [
       "   text_id  para_num  sent_num  token_num           pos_tuple pos token_str  \\\n",
       "0        1        16         0          0     ('Every', 'DT')  DT     Every   \n",
       "1        1        16         0          1       ('art', 'NN')  NN       art   \n",
       "2        1        16         0          2       ('and', 'CC')  CC       and   \n",
       "3        1        16         0          3     ('every', 'DT')  DT     every   \n",
       "4        1        16         0          4  ('inquiry,', 'NN')  NN  inquiry,   \n",
       "\n",
       "  term_str  term_id  \n",
       "0    every    15890  \n",
       "1      art     2942  \n",
       "2      and     1976  \n",
       "3    every    15890  \n",
       "4  inquiry    23364  "
      ]
     },
     "execution_count": 7,
     "metadata": {},
     "output_type": "execute_result"
    }
   ],
   "source": [
    "TOKEN.head()"
   ]
  },
  {
   "cell_type": "code",
   "execution_count": 8,
   "id": "6ca413d3-ca6d-49df-85ec-40c6c9fb2bf9",
   "metadata": {},
   "outputs": [
    {
     "data": {
      "text/html": [
       "<div>\n",
       "<style scoped>\n",
       "    .dataframe tbody tr th:only-of-type {\n",
       "        vertical-align: middle;\n",
       "    }\n",
       "\n",
       "    .dataframe tbody tr th {\n",
       "        vertical-align: top;\n",
       "    }\n",
       "\n",
       "    .dataframe thead th {\n",
       "        text-align: right;\n",
       "    }\n",
       "</style>\n",
       "<table border=\"1\" class=\"dataframe\">\n",
       "  <thead>\n",
       "    <tr style=\"text-align: right;\">\n",
       "      <th></th>\n",
       "      <th>text_id</th>\n",
       "      <th>title</th>\n",
       "      <th>author</th>\n",
       "      <th>file</th>\n",
       "    </tr>\n",
       "  </thead>\n",
       "  <tbody>\n",
       "    <tr>\n",
       "      <th>0</th>\n",
       "      <td>1</td>\n",
       "      <td>NicomachaenEthics</td>\n",
       "      <td>Aristotle</td>\n",
       "      <td>philostexts\\Aristotle_NicomachaenEthics-1.txt</td>\n",
       "    </tr>\n",
       "    <tr>\n",
       "      <th>1</th>\n",
       "      <td>4</td>\n",
       "      <td>OnDuties</td>\n",
       "      <td>Cicero</td>\n",
       "      <td>philostexts\\Cicero_OnDuties-4.txt</td>\n",
       "    </tr>\n",
       "    <tr>\n",
       "      <th>2</th>\n",
       "      <td>5</td>\n",
       "      <td>TheOrderofThings</td>\n",
       "      <td>Foucault</td>\n",
       "      <td>philostexts\\Foucault_TheOrderofThings-5.txt</td>\n",
       "    </tr>\n",
       "    <tr>\n",
       "      <th>3</th>\n",
       "      <td>6</td>\n",
       "      <td>PedagogyOfTheOppressed</td>\n",
       "      <td>Freire</td>\n",
       "      <td>philostexts\\Freire_PedagogyOfTheOppressed-6.txt</td>\n",
       "    </tr>\n",
       "    <tr>\n",
       "      <th>4</th>\n",
       "      <td>7</td>\n",
       "      <td>TheOriginsofTotalitarianism</td>\n",
       "      <td>HannahArendt</td>\n",
       "      <td>philostexts\\HannahArendt_TheOriginsofTotalitar...</td>\n",
       "    </tr>\n",
       "  </tbody>\n",
       "</table>\n",
       "</div>"
      ],
      "text/plain": [
       "   text_id                        title        author  \\\n",
       "0        1            NicomachaenEthics     Aristotle   \n",
       "1        4                     OnDuties        Cicero   \n",
       "2        5             TheOrderofThings      Foucault   \n",
       "3        6       PedagogyOfTheOppressed        Freire   \n",
       "4        7  TheOriginsofTotalitarianism  HannahArendt   \n",
       "\n",
       "                                                file  \n",
       "0      philostexts\\Aristotle_NicomachaenEthics-1.txt  \n",
       "1                  philostexts\\Cicero_OnDuties-4.txt  \n",
       "2        philostexts\\Foucault_TheOrderofThings-5.txt  \n",
       "3    philostexts\\Freire_PedagogyOfTheOppressed-6.txt  \n",
       "4  philostexts\\HannahArendt_TheOriginsofTotalitar...  "
      ]
     },
     "execution_count": 8,
     "metadata": {},
     "output_type": "execute_result"
    }
   ],
   "source": [
    "LIB.head()"
   ]
  },
  {
   "cell_type": "code",
   "execution_count": 9,
   "id": "727befc7-2bc6-40eb-aa36-64095851284f",
   "metadata": {},
   "outputs": [
    {
     "data": {
      "text/html": [
       "<div>\n",
       "<style scoped>\n",
       "    .dataframe tbody tr th:only-of-type {\n",
       "        vertical-align: middle;\n",
       "    }\n",
       "\n",
       "    .dataframe tbody tr th {\n",
       "        vertical-align: top;\n",
       "    }\n",
       "\n",
       "    .dataframe thead th {\n",
       "        text-align: right;\n",
       "    }\n",
       "</style>\n",
       "<table border=\"1\" class=\"dataframe\">\n",
       "  <thead>\n",
       "    <tr style=\"text-align: right;\">\n",
       "      <th></th>\n",
       "      <th>text_id</th>\n",
       "      <th>para_num</th>\n",
       "      <th>sent_num</th>\n",
       "      <th>token_num</th>\n",
       "      <th>pos_tuple</th>\n",
       "      <th>pos</th>\n",
       "      <th>token_str</th>\n",
       "      <th>term_str</th>\n",
       "      <th>term_id</th>\n",
       "      <th>title</th>\n",
       "      <th>author</th>\n",
       "      <th>file</th>\n",
       "    </tr>\n",
       "  </thead>\n",
       "  <tbody>\n",
       "    <tr>\n",
       "      <th>0</th>\n",
       "      <td>1</td>\n",
       "      <td>16</td>\n",
       "      <td>0</td>\n",
       "      <td>0</td>\n",
       "      <td>('Every', 'DT')</td>\n",
       "      <td>DT</td>\n",
       "      <td>Every</td>\n",
       "      <td>every</td>\n",
       "      <td>15890</td>\n",
       "      <td>NicomachaenEthics</td>\n",
       "      <td>Aristotle</td>\n",
       "      <td>philostexts\\Aristotle_NicomachaenEthics-1.txt</td>\n",
       "    </tr>\n",
       "    <tr>\n",
       "      <th>1</th>\n",
       "      <td>1</td>\n",
       "      <td>16</td>\n",
       "      <td>0</td>\n",
       "      <td>1</td>\n",
       "      <td>('art', 'NN')</td>\n",
       "      <td>NN</td>\n",
       "      <td>art</td>\n",
       "      <td>art</td>\n",
       "      <td>2942</td>\n",
       "      <td>NicomachaenEthics</td>\n",
       "      <td>Aristotle</td>\n",
       "      <td>philostexts\\Aristotle_NicomachaenEthics-1.txt</td>\n",
       "    </tr>\n",
       "    <tr>\n",
       "      <th>2</th>\n",
       "      <td>1</td>\n",
       "      <td>16</td>\n",
       "      <td>0</td>\n",
       "      <td>2</td>\n",
       "      <td>('and', 'CC')</td>\n",
       "      <td>CC</td>\n",
       "      <td>and</td>\n",
       "      <td>and</td>\n",
       "      <td>1976</td>\n",
       "      <td>NicomachaenEthics</td>\n",
       "      <td>Aristotle</td>\n",
       "      <td>philostexts\\Aristotle_NicomachaenEthics-1.txt</td>\n",
       "    </tr>\n",
       "    <tr>\n",
       "      <th>3</th>\n",
       "      <td>1</td>\n",
       "      <td>16</td>\n",
       "      <td>0</td>\n",
       "      <td>3</td>\n",
       "      <td>('every', 'DT')</td>\n",
       "      <td>DT</td>\n",
       "      <td>every</td>\n",
       "      <td>every</td>\n",
       "      <td>15890</td>\n",
       "      <td>NicomachaenEthics</td>\n",
       "      <td>Aristotle</td>\n",
       "      <td>philostexts\\Aristotle_NicomachaenEthics-1.txt</td>\n",
       "    </tr>\n",
       "    <tr>\n",
       "      <th>4</th>\n",
       "      <td>1</td>\n",
       "      <td>16</td>\n",
       "      <td>0</td>\n",
       "      <td>4</td>\n",
       "      <td>('inquiry,', 'NN')</td>\n",
       "      <td>NN</td>\n",
       "      <td>inquiry,</td>\n",
       "      <td>inquiry</td>\n",
       "      <td>23364</td>\n",
       "      <td>NicomachaenEthics</td>\n",
       "      <td>Aristotle</td>\n",
       "      <td>philostexts\\Aristotle_NicomachaenEthics-1.txt</td>\n",
       "    </tr>\n",
       "  </tbody>\n",
       "</table>\n",
       "</div>"
      ],
      "text/plain": [
       "   text_id  para_num  sent_num  token_num           pos_tuple pos token_str  \\\n",
       "0        1        16         0          0     ('Every', 'DT')  DT     Every   \n",
       "1        1        16         0          1       ('art', 'NN')  NN       art   \n",
       "2        1        16         0          2       ('and', 'CC')  CC       and   \n",
       "3        1        16         0          3     ('every', 'DT')  DT     every   \n",
       "4        1        16         0          4  ('inquiry,', 'NN')  NN  inquiry,   \n",
       "\n",
       "  term_str  term_id              title     author  \\\n",
       "0    every    15890  NicomachaenEthics  Aristotle   \n",
       "1      art     2942  NicomachaenEthics  Aristotle   \n",
       "2      and     1976  NicomachaenEthics  Aristotle   \n",
       "3    every    15890  NicomachaenEthics  Aristotle   \n",
       "4  inquiry    23364  NicomachaenEthics  Aristotle   \n",
       "\n",
       "                                            file  \n",
       "0  philostexts\\Aristotle_NicomachaenEthics-1.txt  \n",
       "1  philostexts\\Aristotle_NicomachaenEthics-1.txt  \n",
       "2  philostexts\\Aristotle_NicomachaenEthics-1.txt  \n",
       "3  philostexts\\Aristotle_NicomachaenEthics-1.txt  \n",
       "4  philostexts\\Aristotle_NicomachaenEthics-1.txt  "
      ]
     },
     "execution_count": 9,
     "metadata": {},
     "output_type": "execute_result"
    }
   ],
   "source": [
    "#join LIB to TOKEN table\n",
    "TOKEN = TOKEN.merge(LIB, on='text_id', how='left')\n",
    "TOKEN.head()\n"
   ]
  },
  {
   "cell_type": "code",
   "execution_count": 10,
   "id": "4e1694dd-cd37-4599-86ae-4ea5186419f3",
   "metadata": {},
   "outputs": [
    {
     "data": {
      "text/html": [
       "<div>\n",
       "<style scoped>\n",
       "    .dataframe tbody tr th:only-of-type {\n",
       "        vertical-align: middle;\n",
       "    }\n",
       "\n",
       "    .dataframe tbody tr th {\n",
       "        vertical-align: top;\n",
       "    }\n",
       "\n",
       "    .dataframe thead th {\n",
       "        text-align: right;\n",
       "    }\n",
       "</style>\n",
       "<table border=\"1\" class=\"dataframe\">\n",
       "  <thead>\n",
       "    <tr style=\"text-align: right;\">\n",
       "      <th></th>\n",
       "      <th>term_rank</th>\n",
       "      <th>term_str</th>\n",
       "      <th>n</th>\n",
       "      <th>num</th>\n",
       "      <th>stop</th>\n",
       "      <th>p_stem</th>\n",
       "      <th>pos_max</th>\n",
       "      <th>term_rank2</th>\n",
       "      <th>p</th>\n",
       "    </tr>\n",
       "    <tr>\n",
       "      <th>term_id</th>\n",
       "      <th></th>\n",
       "      <th></th>\n",
       "      <th></th>\n",
       "      <th></th>\n",
       "      <th></th>\n",
       "      <th></th>\n",
       "      <th></th>\n",
       "      <th></th>\n",
       "      <th></th>\n",
       "    </tr>\n",
       "  </thead>\n",
       "  <tbody>\n",
       "    <tr>\n",
       "      <th>44927</th>\n",
       "      <td>1</td>\n",
       "      <td>the</td>\n",
       "      <td>113493</td>\n",
       "      <td>0</td>\n",
       "      <td>1</td>\n",
       "      <td>the</td>\n",
       "      <td>DT</td>\n",
       "      <td>1</td>\n",
       "      <td>2.260817</td>\n",
       "    </tr>\n",
       "    <tr>\n",
       "      <th>31100</th>\n",
       "      <td>2</td>\n",
       "      <td>of</td>\n",
       "      <td>71445</td>\n",
       "      <td>0</td>\n",
       "      <td>1</td>\n",
       "      <td>of</td>\n",
       "      <td>IN</td>\n",
       "      <td>2</td>\n",
       "      <td>1.423207</td>\n",
       "    </tr>\n",
       "    <tr>\n",
       "      <th>1976</th>\n",
       "      <td>3</td>\n",
       "      <td>and</td>\n",
       "      <td>52889</td>\n",
       "      <td>0</td>\n",
       "      <td>1</td>\n",
       "      <td>and</td>\n",
       "      <td>CC</td>\n",
       "      <td>3</td>\n",
       "      <td>1.053566</td>\n",
       "    </tr>\n",
       "    <tr>\n",
       "      <th>45493</th>\n",
       "      <td>4</td>\n",
       "      <td>to</td>\n",
       "      <td>49172</td>\n",
       "      <td>0</td>\n",
       "      <td>1</td>\n",
       "      <td>to</td>\n",
       "      <td>TO</td>\n",
       "      <td>4</td>\n",
       "      <td>0.979522</td>\n",
       "    </tr>\n",
       "    <tr>\n",
       "      <th>22446</th>\n",
       "      <td>5</td>\n",
       "      <td>in</td>\n",
       "      <td>37377</td>\n",
       "      <td>0</td>\n",
       "      <td>1</td>\n",
       "      <td>in</td>\n",
       "      <td>IN</td>\n",
       "      <td>5</td>\n",
       "      <td>0.744562</td>\n",
       "    </tr>\n",
       "  </tbody>\n",
       "</table>\n",
       "</div>"
      ],
      "text/plain": [
       "         term_rank term_str       n  num  stop p_stem pos_max  term_rank2  \\\n",
       "term_id                                                                     \n",
       "44927            1      the  113493    0     1    the      DT           1   \n",
       "31100            2       of   71445    0     1     of      IN           2   \n",
       "1976             3      and   52889    0     1    and      CC           3   \n",
       "45493            4       to   49172    0     1     to      TO           4   \n",
       "22446            5       in   37377    0     1     in      IN           5   \n",
       "\n",
       "                p  \n",
       "term_id            \n",
       "44927    2.260817  \n",
       "31100    1.423207  \n",
       "1976     1.053566  \n",
       "45493    0.979522  \n",
       "22446    0.744562  "
      ]
     },
     "execution_count": 10,
     "metadata": {},
     "output_type": "execute_result"
    }
   ],
   "source": [
    "#add term rank to VOCAB\n",
    "if 'term_rank' not in VOCAB.columns:\n",
    "    VOCAB = VOCAB.sort_values('n', ascending=False).reset_index()\n",
    "    VOCAB.index.name = 'term_rank'\n",
    "    VOCAB = VOCAB.reset_index()\n",
    "    VOCAB = VOCAB.set_index('term_id')\n",
    "    VOCAB['term_rank'] = VOCAB['term_rank'] + 1\n",
    "\n",
    "#groups words by term count\n",
    "new_rank = VOCAB.n.value_counts()\\\n",
    "    .sort_index(ascending=False).reset_index().reset_index()\\\n",
    "    .rename(columns={'level_0':'term_rank2', 'index':'n', 'n':'nn'})\\\n",
    "    .set_index('n')\n",
    "\n",
    "VOCAB['term_rank2'] = VOCAB.n.map(new_rank.term_rank2) + 1\n",
    "VOCAB['p'] = VOCAB.n / VOCAB.shape[0]\n",
    "VOCAB.head()"
   ]
  },
  {
   "cell_type": "code",
   "execution_count": 11,
   "id": "cef5a47d-99db-4e64-a29f-290d6bcd967b",
   "metadata": {},
   "outputs": [],
   "source": [
    "#remove any missing values\n",
    "VOCAB = VOCAB[~VOCAB.term_str.isna()]\n",
    "TOKEN = TOKEN[~TOKEN.term_str.isna()]"
   ]
  },
  {
   "cell_type": "code",
   "execution_count": 12,
   "id": "dc3dd7e8-1dcb-4811-b406-29384970354e",
   "metadata": {},
   "outputs": [
    {
     "data": {
      "text/html": [
       "<div>\n",
       "<style scoped>\n",
       "    .dataframe tbody tr th:only-of-type {\n",
       "        vertical-align: middle;\n",
       "    }\n",
       "\n",
       "    .dataframe tbody tr th {\n",
       "        vertical-align: top;\n",
       "    }\n",
       "\n",
       "    .dataframe thead th {\n",
       "        text-align: right;\n",
       "    }\n",
       "</style>\n",
       "<table border=\"1\" class=\"dataframe\">\n",
       "  <thead>\n",
       "    <tr style=\"text-align: right;\">\n",
       "      <th></th>\n",
       "      <th></th>\n",
       "      <th></th>\n",
       "      <th>n</th>\n",
       "      <th>c</th>\n",
       "    </tr>\n",
       "    <tr>\n",
       "      <th>author</th>\n",
       "      <th>title</th>\n",
       "      <th>term_id</th>\n",
       "      <th></th>\n",
       "      <th></th>\n",
       "    </tr>\n",
       "  </thead>\n",
       "  <tbody>\n",
       "    <tr>\n",
       "      <th rowspan=\"5\" valign=\"top\">Aristotle</th>\n",
       "      <th rowspan=\"5\" valign=\"top\">NicomachaenEthics</th>\n",
       "      <th>1</th>\n",
       "      <td>1477</td>\n",
       "      <td>1</td>\n",
       "    </tr>\n",
       "    <tr>\n",
       "      <th>2</th>\n",
       "      <td>2</td>\n",
       "      <td>1</td>\n",
       "    </tr>\n",
       "    <tr>\n",
       "      <th>6</th>\n",
       "      <td>2</td>\n",
       "      <td>1</td>\n",
       "    </tr>\n",
       "    <tr>\n",
       "      <th>11</th>\n",
       "      <td>3</td>\n",
       "      <td>1</td>\n",
       "    </tr>\n",
       "    <tr>\n",
       "      <th>70</th>\n",
       "      <td>9</td>\n",
       "      <td>1</td>\n",
       "    </tr>\n",
       "  </tbody>\n",
       "</table>\n",
       "</div>"
      ],
      "text/plain": [
       "                                        n  c\n",
       "author    title             term_id         \n",
       "Aristotle NicomachaenEthics 1        1477  1\n",
       "                            2           2  1\n",
       "                            6           2  1\n",
       "                            11          3  1\n",
       "                            70          9  1"
      ]
     },
     "execution_count": 12,
     "metadata": {},
     "output_type": "execute_result"
    }
   ],
   "source": [
    "#BOW\n",
    "BOW = TOKEN.groupby(bag+['term_id']).term_id.count()\\\n",
    "    .to_frame().rename(columns={'term_id':'n'})\n",
    "BOW['c'] = BOW.n.astype('bool').astype('int')\n",
    "BOW.head()"
   ]
  },
  {
   "cell_type": "code",
   "execution_count": 13,
   "id": "a5698d3d-ff22-449a-803d-c0badc5c0aed",
   "metadata": {},
   "outputs": [
    {
     "data": {
      "text/html": [
       "<div>\n",
       "<style scoped>\n",
       "    .dataframe tbody tr th:only-of-type {\n",
       "        vertical-align: middle;\n",
       "    }\n",
       "\n",
       "    .dataframe tbody tr th {\n",
       "        vertical-align: top;\n",
       "    }\n",
       "\n",
       "    .dataframe thead th {\n",
       "        text-align: right;\n",
       "    }\n",
       "</style>\n",
       "<table border=\"1\" class=\"dataframe\">\n",
       "  <thead>\n",
       "    <tr style=\"text-align: right;\">\n",
       "      <th></th>\n",
       "      <th>term_id</th>\n",
       "      <th>1</th>\n",
       "      <th>2</th>\n",
       "      <th>3</th>\n",
       "      <th>4</th>\n",
       "      <th>5</th>\n",
       "      <th>6</th>\n",
       "      <th>7</th>\n",
       "      <th>8</th>\n",
       "      <th>9</th>\n",
       "      <th>10</th>\n",
       "      <th>...</th>\n",
       "      <th>50190</th>\n",
       "      <th>50191</th>\n",
       "      <th>50192</th>\n",
       "      <th>50193</th>\n",
       "      <th>50194</th>\n",
       "      <th>50195</th>\n",
       "      <th>50196</th>\n",
       "      <th>50197</th>\n",
       "      <th>50198</th>\n",
       "      <th>50199</th>\n",
       "    </tr>\n",
       "    <tr>\n",
       "      <th>author</th>\n",
       "      <th>title</th>\n",
       "      <th></th>\n",
       "      <th></th>\n",
       "      <th></th>\n",
       "      <th></th>\n",
       "      <th></th>\n",
       "      <th></th>\n",
       "      <th></th>\n",
       "      <th></th>\n",
       "      <th></th>\n",
       "      <th></th>\n",
       "      <th></th>\n",
       "      <th></th>\n",
       "      <th></th>\n",
       "      <th></th>\n",
       "      <th></th>\n",
       "      <th></th>\n",
       "      <th></th>\n",
       "      <th></th>\n",
       "      <th></th>\n",
       "      <th></th>\n",
       "      <th></th>\n",
       "    </tr>\n",
       "  </thead>\n",
       "  <tbody>\n",
       "    <tr>\n",
       "      <th>Aristotle</th>\n",
       "      <th>NicomachaenEthics</th>\n",
       "      <td>1477</td>\n",
       "      <td>2</td>\n",
       "      <td>0</td>\n",
       "      <td>0</td>\n",
       "      <td>0</td>\n",
       "      <td>2</td>\n",
       "      <td>0</td>\n",
       "      <td>0</td>\n",
       "      <td>0</td>\n",
       "      <td>0</td>\n",
       "      <td>...</td>\n",
       "      <td>0</td>\n",
       "      <td>0</td>\n",
       "      <td>0</td>\n",
       "      <td>0</td>\n",
       "      <td>0</td>\n",
       "      <td>0</td>\n",
       "      <td>0</td>\n",
       "      <td>0</td>\n",
       "      <td>0</td>\n",
       "      <td>0</td>\n",
       "    </tr>\n",
       "    <tr>\n",
       "      <th>Cicero</th>\n",
       "      <th>OnDuties</th>\n",
       "      <td>1491</td>\n",
       "      <td>2</td>\n",
       "      <td>0</td>\n",
       "      <td>97</td>\n",
       "      <td>0</td>\n",
       "      <td>4</td>\n",
       "      <td>0</td>\n",
       "      <td>0</td>\n",
       "      <td>0</td>\n",
       "      <td>0</td>\n",
       "      <td>...</td>\n",
       "      <td>0</td>\n",
       "      <td>1</td>\n",
       "      <td>1</td>\n",
       "      <td>1</td>\n",
       "      <td>1</td>\n",
       "      <td>0</td>\n",
       "      <td>0</td>\n",
       "      <td>1</td>\n",
       "      <td>1</td>\n",
       "      <td>2</td>\n",
       "    </tr>\n",
       "    <tr>\n",
       "      <th>Foucault</th>\n",
       "      <th>TheOrderofThings</th>\n",
       "      <td>3521</td>\n",
       "      <td>0</td>\n",
       "      <td>0</td>\n",
       "      <td>0</td>\n",
       "      <td>0</td>\n",
       "      <td>1</td>\n",
       "      <td>5</td>\n",
       "      <td>3</td>\n",
       "      <td>0</td>\n",
       "      <td>1</td>\n",
       "      <td>...</td>\n",
       "      <td>0</td>\n",
       "      <td>0</td>\n",
       "      <td>0</td>\n",
       "      <td>0</td>\n",
       "      <td>0</td>\n",
       "      <td>0</td>\n",
       "      <td>0</td>\n",
       "      <td>0</td>\n",
       "      <td>0</td>\n",
       "      <td>0</td>\n",
       "    </tr>\n",
       "    <tr>\n",
       "      <th>Freire</th>\n",
       "      <th>PedagogyOfTheOppressed</th>\n",
       "      <td>801</td>\n",
       "      <td>0</td>\n",
       "      <td>0</td>\n",
       "      <td>0</td>\n",
       "      <td>0</td>\n",
       "      <td>3</td>\n",
       "      <td>0</td>\n",
       "      <td>2</td>\n",
       "      <td>0</td>\n",
       "      <td>0</td>\n",
       "      <td>...</td>\n",
       "      <td>0</td>\n",
       "      <td>0</td>\n",
       "      <td>0</td>\n",
       "      <td>0</td>\n",
       "      <td>0</td>\n",
       "      <td>0</td>\n",
       "      <td>0</td>\n",
       "      <td>0</td>\n",
       "      <td>0</td>\n",
       "      <td>0</td>\n",
       "    </tr>\n",
       "    <tr>\n",
       "      <th>HannahArendt</th>\n",
       "      <th>TheOriginsofTotalitarianism</th>\n",
       "      <td>4965</td>\n",
       "      <td>0</td>\n",
       "      <td>0</td>\n",
       "      <td>7</td>\n",
       "      <td>0</td>\n",
       "      <td>10</td>\n",
       "      <td>15</td>\n",
       "      <td>2</td>\n",
       "      <td>3</td>\n",
       "      <td>0</td>\n",
       "      <td>...</td>\n",
       "      <td>0</td>\n",
       "      <td>0</td>\n",
       "      <td>0</td>\n",
       "      <td>0</td>\n",
       "      <td>0</td>\n",
       "      <td>0</td>\n",
       "      <td>0</td>\n",
       "      <td>0</td>\n",
       "      <td>0</td>\n",
       "      <td>0</td>\n",
       "    </tr>\n",
       "  </tbody>\n",
       "</table>\n",
       "<p>5 rows × 50197 columns</p>\n",
       "</div>"
      ],
      "text/plain": [
       "term_id                                   1      2      3      4      5      \\\n",
       "author       title                                                            \n",
       "Aristotle    NicomachaenEthics             1477      2      0      0      0   \n",
       "Cicero       OnDuties                      1491      2      0     97      0   \n",
       "Foucault     TheOrderofThings              3521      0      0      0      0   \n",
       "Freire       PedagogyOfTheOppressed         801      0      0      0      0   \n",
       "HannahArendt TheOriginsofTotalitarianism   4965      0      0      7      0   \n",
       "\n",
       "term_id                                   6      7      8      9      10     \\\n",
       "author       title                                                            \n",
       "Aristotle    NicomachaenEthics                2      0      0      0      0   \n",
       "Cicero       OnDuties                         4      0      0      0      0   \n",
       "Foucault     TheOrderofThings                 1      5      3      0      1   \n",
       "Freire       PedagogyOfTheOppressed           3      0      2      0      0   \n",
       "HannahArendt TheOriginsofTotalitarianism     10     15      2      3      0   \n",
       "\n",
       "term_id                                   ...  50190  50191  50192  50193  \\\n",
       "author       title                        ...                               \n",
       "Aristotle    NicomachaenEthics            ...      0      0      0      0   \n",
       "Cicero       OnDuties                     ...      0      1      1      1   \n",
       "Foucault     TheOrderofThings             ...      0      0      0      0   \n",
       "Freire       PedagogyOfTheOppressed       ...      0      0      0      0   \n",
       "HannahArendt TheOriginsofTotalitarianism  ...      0      0      0      0   \n",
       "\n",
       "term_id                                   50194  50195  50196  50197  50198  \\\n",
       "author       title                                                            \n",
       "Aristotle    NicomachaenEthics                0      0      0      0      0   \n",
       "Cicero       OnDuties                         1      0      0      1      1   \n",
       "Foucault     TheOrderofThings                 0      0      0      0      0   \n",
       "Freire       PedagogyOfTheOppressed           0      0      0      0      0   \n",
       "HannahArendt TheOriginsofTotalitarianism      0      0      0      0      0   \n",
       "\n",
       "term_id                                   50199  \n",
       "author       title                               \n",
       "Aristotle    NicomachaenEthics                0  \n",
       "Cicero       OnDuties                         2  \n",
       "Foucault     TheOrderofThings                 0  \n",
       "Freire       PedagogyOfTheOppressed           0  \n",
       "HannahArendt TheOriginsofTotalitarianism      0  \n",
       "\n",
       "[5 rows x 50197 columns]"
      ]
     },
     "execution_count": 13,
     "metadata": {},
     "output_type": "execute_result"
    }
   ],
   "source": [
    "#Build count matrix\n",
    "DTCM = BOW[count_method].unstack().fillna(0).astype('int')\n",
    "DTCM.head()"
   ]
  },
  {
   "cell_type": "code",
   "execution_count": 14,
   "id": "f8ee8180-b068-463a-ba58-d7bca1060c3b",
   "metadata": {},
   "outputs": [],
   "source": [
    "#function to compute TF (Term Frequency)\n",
    "#group by Bag (TEXT)\n",
    "def compute_TF(tf_method, DTCM):\n",
    "    if tf_method == 'sum':\n",
    "        TF = DTCM.T / DTCM.T.sum()\n",
    "    elif tf_method == 'max':\n",
    "        TF = DTCM.T / DTCM.T.max()\n",
    "    elif tf_method == 'log':\n",
    "        TF = np.log10(1 + DTCM.T)\n",
    "    elif tf_method == 'raw':\n",
    "        TF = DTCM.T\n",
    "    elif tf_method == 'double_norm':\n",
    "        TF = DTCM.T / DTCM.T.max()\n",
    "        TF = tf_norm_k + (1 - tf_norm_k) * TF[TF > 0] # EXPLAIN; may defeat purpose of norming\n",
    "    elif tf_method == 'binary':\n",
    "        TF = DTCM.T.astype('bool').astype('int')  \n",
    "    TF = TF.T  \n",
    "    return TF"
   ]
  },
  {
   "cell_type": "code",
   "execution_count": 23,
   "id": "4d0ba31a-d60c-4a0e-9d47-5b2e5d92316e",
   "metadata": {},
   "outputs": [
    {
     "data": {
      "text/html": [
       "<div>\n",
       "<style scoped>\n",
       "    .dataframe tbody tr th:only-of-type {\n",
       "        vertical-align: middle;\n",
       "    }\n",
       "\n",
       "    .dataframe tbody tr th {\n",
       "        vertical-align: top;\n",
       "    }\n",
       "\n",
       "    .dataframe thead th {\n",
       "        text-align: right;\n",
       "    }\n",
       "</style>\n",
       "<table border=\"1\" class=\"dataframe\">\n",
       "  <thead>\n",
       "    <tr style=\"text-align: right;\">\n",
       "      <th></th>\n",
       "      <th>term_id</th>\n",
       "      <th>1</th>\n",
       "      <th>2</th>\n",
       "      <th>3</th>\n",
       "      <th>4</th>\n",
       "      <th>5</th>\n",
       "      <th>6</th>\n",
       "      <th>7</th>\n",
       "      <th>8</th>\n",
       "      <th>9</th>\n",
       "      <th>10</th>\n",
       "      <th>...</th>\n",
       "      <th>50190</th>\n",
       "      <th>50191</th>\n",
       "      <th>50192</th>\n",
       "      <th>50193</th>\n",
       "      <th>50194</th>\n",
       "      <th>50195</th>\n",
       "      <th>50196</th>\n",
       "      <th>50197</th>\n",
       "      <th>50198</th>\n",
       "      <th>50199</th>\n",
       "    </tr>\n",
       "    <tr>\n",
       "      <th>author</th>\n",
       "      <th>title</th>\n",
       "      <th></th>\n",
       "      <th></th>\n",
       "      <th></th>\n",
       "      <th></th>\n",
       "      <th></th>\n",
       "      <th></th>\n",
       "      <th></th>\n",
       "      <th></th>\n",
       "      <th></th>\n",
       "      <th></th>\n",
       "      <th></th>\n",
       "      <th></th>\n",
       "      <th></th>\n",
       "      <th></th>\n",
       "      <th></th>\n",
       "      <th></th>\n",
       "      <th></th>\n",
       "      <th></th>\n",
       "      <th></th>\n",
       "      <th></th>\n",
       "      <th></th>\n",
       "    </tr>\n",
       "  </thead>\n",
       "  <tbody>\n",
       "    <tr>\n",
       "      <th>Aristotle</th>\n",
       "      <th>NicomachaenEthics</th>\n",
       "      <td>0.017319</td>\n",
       "      <td>0.000023</td>\n",
       "      <td>0.0</td>\n",
       "      <td>0.000000</td>\n",
       "      <td>0.0</td>\n",
       "      <td>0.000023</td>\n",
       "      <td>0.000000</td>\n",
       "      <td>0.000000</td>\n",
       "      <td>0.000000</td>\n",
       "      <td>0.000000</td>\n",
       "      <td>...</td>\n",
       "      <td>0.0</td>\n",
       "      <td>0.00000</td>\n",
       "      <td>0.00000</td>\n",
       "      <td>0.00000</td>\n",
       "      <td>0.00000</td>\n",
       "      <td>0.0</td>\n",
       "      <td>0.0</td>\n",
       "      <td>0.00000</td>\n",
       "      <td>0.00000</td>\n",
       "      <td>0.00000</td>\n",
       "    </tr>\n",
       "    <tr>\n",
       "      <th>Cicero</th>\n",
       "      <th>OnDuties</th>\n",
       "      <td>0.014631</td>\n",
       "      <td>0.000020</td>\n",
       "      <td>0.0</td>\n",
       "      <td>0.000952</td>\n",
       "      <td>0.0</td>\n",
       "      <td>0.000039</td>\n",
       "      <td>0.000000</td>\n",
       "      <td>0.000000</td>\n",
       "      <td>0.000000</td>\n",
       "      <td>0.000000</td>\n",
       "      <td>...</td>\n",
       "      <td>0.0</td>\n",
       "      <td>0.00001</td>\n",
       "      <td>0.00001</td>\n",
       "      <td>0.00001</td>\n",
       "      <td>0.00001</td>\n",
       "      <td>0.0</td>\n",
       "      <td>0.0</td>\n",
       "      <td>0.00001</td>\n",
       "      <td>0.00001</td>\n",
       "      <td>0.00002</td>\n",
       "    </tr>\n",
       "    <tr>\n",
       "      <th>Foucault</th>\n",
       "      <th>TheOrderofThings</th>\n",
       "      <td>0.020401</td>\n",
       "      <td>0.000000</td>\n",
       "      <td>0.0</td>\n",
       "      <td>0.000000</td>\n",
       "      <td>0.0</td>\n",
       "      <td>0.000006</td>\n",
       "      <td>0.000029</td>\n",
       "      <td>0.000017</td>\n",
       "      <td>0.000000</td>\n",
       "      <td>0.000006</td>\n",
       "      <td>...</td>\n",
       "      <td>0.0</td>\n",
       "      <td>0.00000</td>\n",
       "      <td>0.00000</td>\n",
       "      <td>0.00000</td>\n",
       "      <td>0.00000</td>\n",
       "      <td>0.0</td>\n",
       "      <td>0.0</td>\n",
       "      <td>0.00000</td>\n",
       "      <td>0.00000</td>\n",
       "      <td>0.00000</td>\n",
       "    </tr>\n",
       "    <tr>\n",
       "      <th>Freire</th>\n",
       "      <th>PedagogyOfTheOppressed</th>\n",
       "      <td>0.018250</td>\n",
       "      <td>0.000000</td>\n",
       "      <td>0.0</td>\n",
       "      <td>0.000000</td>\n",
       "      <td>0.0</td>\n",
       "      <td>0.000068</td>\n",
       "      <td>0.000000</td>\n",
       "      <td>0.000046</td>\n",
       "      <td>0.000000</td>\n",
       "      <td>0.000000</td>\n",
       "      <td>...</td>\n",
       "      <td>0.0</td>\n",
       "      <td>0.00000</td>\n",
       "      <td>0.00000</td>\n",
       "      <td>0.00000</td>\n",
       "      <td>0.00000</td>\n",
       "      <td>0.0</td>\n",
       "      <td>0.0</td>\n",
       "      <td>0.00000</td>\n",
       "      <td>0.00000</td>\n",
       "      <td>0.00000</td>\n",
       "    </tr>\n",
       "    <tr>\n",
       "      <th>HannahArendt</th>\n",
       "      <th>TheOriginsofTotalitarianism</th>\n",
       "      <td>0.018103</td>\n",
       "      <td>0.000000</td>\n",
       "      <td>0.0</td>\n",
       "      <td>0.000026</td>\n",
       "      <td>0.0</td>\n",
       "      <td>0.000036</td>\n",
       "      <td>0.000055</td>\n",
       "      <td>0.000007</td>\n",
       "      <td>0.000011</td>\n",
       "      <td>0.000000</td>\n",
       "      <td>...</td>\n",
       "      <td>0.0</td>\n",
       "      <td>0.00000</td>\n",
       "      <td>0.00000</td>\n",
       "      <td>0.00000</td>\n",
       "      <td>0.00000</td>\n",
       "      <td>0.0</td>\n",
       "      <td>0.0</td>\n",
       "      <td>0.00000</td>\n",
       "      <td>0.00000</td>\n",
       "      <td>0.00000</td>\n",
       "    </tr>\n",
       "  </tbody>\n",
       "</table>\n",
       "<p>5 rows × 50197 columns</p>\n",
       "</div>"
      ],
      "text/plain": [
       "term_id                                      1         2      3         4      \\\n",
       "author       title                                                              \n",
       "Aristotle    NicomachaenEthics            0.017319  0.000023    0.0  0.000000   \n",
       "Cicero       OnDuties                     0.014631  0.000020    0.0  0.000952   \n",
       "Foucault     TheOrderofThings             0.020401  0.000000    0.0  0.000000   \n",
       "Freire       PedagogyOfTheOppressed       0.018250  0.000000    0.0  0.000000   \n",
       "HannahArendt TheOriginsofTotalitarianism  0.018103  0.000000    0.0  0.000026   \n",
       "\n",
       "term_id                                   5         6         7         8      \\\n",
       "author       title                                                              \n",
       "Aristotle    NicomachaenEthics              0.0  0.000023  0.000000  0.000000   \n",
       "Cicero       OnDuties                       0.0  0.000039  0.000000  0.000000   \n",
       "Foucault     TheOrderofThings               0.0  0.000006  0.000029  0.000017   \n",
       "Freire       PedagogyOfTheOppressed         0.0  0.000068  0.000000  0.000046   \n",
       "HannahArendt TheOriginsofTotalitarianism    0.0  0.000036  0.000055  0.000007   \n",
       "\n",
       "term_id                                      9         10     ...  50190  \\\n",
       "author       title                                            ...          \n",
       "Aristotle    NicomachaenEthics            0.000000  0.000000  ...    0.0   \n",
       "Cicero       OnDuties                     0.000000  0.000000  ...    0.0   \n",
       "Foucault     TheOrderofThings             0.000000  0.000006  ...    0.0   \n",
       "Freire       PedagogyOfTheOppressed       0.000000  0.000000  ...    0.0   \n",
       "HannahArendt TheOriginsofTotalitarianism  0.000011  0.000000  ...    0.0   \n",
       "\n",
       "term_id                                     50191    50192    50193    50194  \\\n",
       "author       title                                                             \n",
       "Aristotle    NicomachaenEthics            0.00000  0.00000  0.00000  0.00000   \n",
       "Cicero       OnDuties                     0.00001  0.00001  0.00001  0.00001   \n",
       "Foucault     TheOrderofThings             0.00000  0.00000  0.00000  0.00000   \n",
       "Freire       PedagogyOfTheOppressed       0.00000  0.00000  0.00000  0.00000   \n",
       "HannahArendt TheOriginsofTotalitarianism  0.00000  0.00000  0.00000  0.00000   \n",
       "\n",
       "term_id                                   50195  50196    50197    50198  \\\n",
       "author       title                                                         \n",
       "Aristotle    NicomachaenEthics              0.0    0.0  0.00000  0.00000   \n",
       "Cicero       OnDuties                       0.0    0.0  0.00001  0.00001   \n",
       "Foucault     TheOrderofThings               0.0    0.0  0.00000  0.00000   \n",
       "Freire       PedagogyOfTheOppressed         0.0    0.0  0.00000  0.00000   \n",
       "HannahArendt TheOriginsofTotalitarianism    0.0    0.0  0.00000  0.00000   \n",
       "\n",
       "term_id                                     50199  \n",
       "author       title                                 \n",
       "Aristotle    NicomachaenEthics            0.00000  \n",
       "Cicero       OnDuties                     0.00002  \n",
       "Foucault     TheOrderofThings             0.00000  \n",
       "Freire       PedagogyOfTheOppressed       0.00000  \n",
       "HannahArendt TheOriginsofTotalitarianism  0.00000  \n",
       "\n",
       "[5 rows x 50197 columns]"
      ]
     },
     "execution_count": 23,
     "metadata": {},
     "output_type": "execute_result"
    }
   ],
   "source": [
    "#call function\n",
    "TF = compute_TF(tf_method, DTCM)\n",
    "TF.head()"
   ]
  },
  {
   "cell_type": "code",
   "execution_count": 29,
   "id": "6b390bd3-9c3e-4ce5-bbb6-eac4475b0500",
   "metadata": {},
   "outputs": [],
   "source": [
    "#Function to compute DF (document frequency) and IDF (inverse document frequency)\n",
    "\n",
    "def compute_IDF(DTCM, idf_method, DF):\n",
    "    #compute DF \n",
    "    N = DTCM.shape[0] #define shape of matrix\n",
    "    \n",
    "    #compute IDF\n",
    "    if idf_method == 'standard':\n",
    "        IDF = np.log10(N / DF)\n",
    "    elif idf_method == 'max':\n",
    "        IDF = np.log10(DF.max() / DF) \n",
    "    elif idf_method == 'smooth':\n",
    "        IDF = np.log10((1 + N) / (1 + DF)) + 1 \n",
    "    \n",
    "    return IDF"
   ]
  },
  {
   "cell_type": "code",
   "execution_count": 30,
   "id": "ac343933-4d01-4be9-9914-58710ad03850",
   "metadata": {},
   "outputs": [
    {
     "data": {
      "text/plain": [
       "term_id\n",
       "1        0.000000\n",
       "2        1.000000\n",
       "3        1.301030\n",
       "4        0.823909\n",
       "5        1.301030\n",
       "           ...   \n",
       "50195    1.301030\n",
       "50196    1.301030\n",
       "50197    1.301030\n",
       "50198    1.301030\n",
       "50199    1.301030\n",
       "Length: 50197, dtype: float64"
      ]
     },
     "execution_count": 30,
     "metadata": {},
     "output_type": "execute_result"
    }
   ],
   "source": [
    "DF = DTCM[DTCM > 0].count()\n",
    "IDF = compute_IDF(DTCM, idf_method, DF)\n",
    "IDF"
   ]
  },
  {
   "cell_type": "code",
   "execution_count": 31,
   "id": "72d20c26-5c85-44d7-bb77-2ae62e09c7b6",
   "metadata": {},
   "outputs": [],
   "source": [
    "#compute TF-IDF (term frequency–inverse document frequency)\n",
    "def compute_TFIDF(TF, IDF):\n",
    "    TFIDF = TF * IDF\n",
    "    return TFIDF "
   ]
  },
  {
   "cell_type": "code",
   "execution_count": 32,
   "id": "5a482ac7-612f-4c8a-8c83-849da30eccab",
   "metadata": {},
   "outputs": [],
   "source": [
    "#call TFIDF function\n",
    "TFIDF = compute_TFIDF(TF, IDF)"
   ]
  },
  {
   "cell_type": "code",
   "execution_count": 33,
   "id": "cf07f143-ca20-470f-b30a-978a61078ec0",
   "metadata": {},
   "outputs": [
    {
     "data": {
      "text/html": [
       "<div>\n",
       "<style scoped>\n",
       "    .dataframe tbody tr th:only-of-type {\n",
       "        vertical-align: middle;\n",
       "    }\n",
       "\n",
       "    .dataframe tbody tr th {\n",
       "        vertical-align: top;\n",
       "    }\n",
       "\n",
       "    .dataframe thead th {\n",
       "        text-align: right;\n",
       "    }\n",
       "</style>\n",
       "<table border=\"1\" class=\"dataframe\">\n",
       "  <thead>\n",
       "    <tr style=\"text-align: right;\">\n",
       "      <th></th>\n",
       "      <th>term_id</th>\n",
       "      <th>1</th>\n",
       "      <th>2</th>\n",
       "      <th>3</th>\n",
       "      <th>4</th>\n",
       "      <th>5</th>\n",
       "      <th>6</th>\n",
       "      <th>7</th>\n",
       "      <th>8</th>\n",
       "      <th>9</th>\n",
       "      <th>10</th>\n",
       "      <th>...</th>\n",
       "      <th>50190</th>\n",
       "      <th>50191</th>\n",
       "      <th>50192</th>\n",
       "      <th>50193</th>\n",
       "      <th>50194</th>\n",
       "      <th>50195</th>\n",
       "      <th>50196</th>\n",
       "      <th>50197</th>\n",
       "      <th>50198</th>\n",
       "      <th>50199</th>\n",
       "    </tr>\n",
       "    <tr>\n",
       "      <th>author</th>\n",
       "      <th>title</th>\n",
       "      <th></th>\n",
       "      <th></th>\n",
       "      <th></th>\n",
       "      <th></th>\n",
       "      <th></th>\n",
       "      <th></th>\n",
       "      <th></th>\n",
       "      <th></th>\n",
       "      <th></th>\n",
       "      <th></th>\n",
       "      <th></th>\n",
       "      <th></th>\n",
       "      <th></th>\n",
       "      <th></th>\n",
       "      <th></th>\n",
       "      <th></th>\n",
       "      <th></th>\n",
       "      <th></th>\n",
       "      <th></th>\n",
       "      <th></th>\n",
       "      <th></th>\n",
       "    </tr>\n",
       "  </thead>\n",
       "  <tbody>\n",
       "    <tr>\n",
       "      <th>Aristotle</th>\n",
       "      <th>NicomachaenEthics</th>\n",
       "      <td>0.0</td>\n",
       "      <td>0.000023</td>\n",
       "      <td>0.0</td>\n",
       "      <td>0.000000</td>\n",
       "      <td>0.0</td>\n",
       "      <td>0.000006</td>\n",
       "      <td>0.000000</td>\n",
       "      <td>0.000000</td>\n",
       "      <td>0.000000</td>\n",
       "      <td>0.000000</td>\n",
       "      <td>...</td>\n",
       "      <td>0.0</td>\n",
       "      <td>0.000000</td>\n",
       "      <td>0.000000</td>\n",
       "      <td>0.000000</td>\n",
       "      <td>0.000000</td>\n",
       "      <td>0.0</td>\n",
       "      <td>0.0</td>\n",
       "      <td>0.000000</td>\n",
       "      <td>0.000000</td>\n",
       "      <td>0.000000</td>\n",
       "    </tr>\n",
       "    <tr>\n",
       "      <th>Cicero</th>\n",
       "      <th>OnDuties</th>\n",
       "      <td>0.0</td>\n",
       "      <td>0.000020</td>\n",
       "      <td>0.0</td>\n",
       "      <td>0.000784</td>\n",
       "      <td>0.0</td>\n",
       "      <td>0.000010</td>\n",
       "      <td>0.000000</td>\n",
       "      <td>0.000000</td>\n",
       "      <td>0.000000</td>\n",
       "      <td>0.000000</td>\n",
       "      <td>...</td>\n",
       "      <td>0.0</td>\n",
       "      <td>0.000013</td>\n",
       "      <td>0.000013</td>\n",
       "      <td>0.000013</td>\n",
       "      <td>0.000013</td>\n",
       "      <td>0.0</td>\n",
       "      <td>0.0</td>\n",
       "      <td>0.000013</td>\n",
       "      <td>0.000013</td>\n",
       "      <td>0.000026</td>\n",
       "    </tr>\n",
       "    <tr>\n",
       "      <th>Foucault</th>\n",
       "      <th>TheOrderofThings</th>\n",
       "      <td>0.0</td>\n",
       "      <td>0.000000</td>\n",
       "      <td>0.0</td>\n",
       "      <td>0.000000</td>\n",
       "      <td>0.0</td>\n",
       "      <td>0.000002</td>\n",
       "      <td>0.000009</td>\n",
       "      <td>0.000012</td>\n",
       "      <td>0.000000</td>\n",
       "      <td>0.000008</td>\n",
       "      <td>...</td>\n",
       "      <td>0.0</td>\n",
       "      <td>0.000000</td>\n",
       "      <td>0.000000</td>\n",
       "      <td>0.000000</td>\n",
       "      <td>0.000000</td>\n",
       "      <td>0.0</td>\n",
       "      <td>0.0</td>\n",
       "      <td>0.000000</td>\n",
       "      <td>0.000000</td>\n",
       "      <td>0.000000</td>\n",
       "    </tr>\n",
       "    <tr>\n",
       "      <th>Freire</th>\n",
       "      <th>PedagogyOfTheOppressed</th>\n",
       "      <td>0.0</td>\n",
       "      <td>0.000000</td>\n",
       "      <td>0.0</td>\n",
       "      <td>0.000000</td>\n",
       "      <td>0.0</td>\n",
       "      <td>0.000018</td>\n",
       "      <td>0.000000</td>\n",
       "      <td>0.000032</td>\n",
       "      <td>0.000000</td>\n",
       "      <td>0.000000</td>\n",
       "      <td>...</td>\n",
       "      <td>0.0</td>\n",
       "      <td>0.000000</td>\n",
       "      <td>0.000000</td>\n",
       "      <td>0.000000</td>\n",
       "      <td>0.000000</td>\n",
       "      <td>0.0</td>\n",
       "      <td>0.0</td>\n",
       "      <td>0.000000</td>\n",
       "      <td>0.000000</td>\n",
       "      <td>0.000000</td>\n",
       "    </tr>\n",
       "    <tr>\n",
       "      <th>HannahArendt</th>\n",
       "      <th>TheOriginsofTotalitarianism</th>\n",
       "      <td>0.0</td>\n",
       "      <td>0.000000</td>\n",
       "      <td>0.0</td>\n",
       "      <td>0.000021</td>\n",
       "      <td>0.0</td>\n",
       "      <td>0.000009</td>\n",
       "      <td>0.000016</td>\n",
       "      <td>0.000005</td>\n",
       "      <td>0.000011</td>\n",
       "      <td>0.000000</td>\n",
       "      <td>...</td>\n",
       "      <td>0.0</td>\n",
       "      <td>0.000000</td>\n",
       "      <td>0.000000</td>\n",
       "      <td>0.000000</td>\n",
       "      <td>0.000000</td>\n",
       "      <td>0.0</td>\n",
       "      <td>0.0</td>\n",
       "      <td>0.000000</td>\n",
       "      <td>0.000000</td>\n",
       "      <td>0.000000</td>\n",
       "    </tr>\n",
       "  </tbody>\n",
       "</table>\n",
       "<p>5 rows × 50197 columns</p>\n",
       "</div>"
      ],
      "text/plain": [
       "term_id                                   1         2      3         4      \\\n",
       "author       title                                                           \n",
       "Aristotle    NicomachaenEthics              0.0  0.000023    0.0  0.000000   \n",
       "Cicero       OnDuties                       0.0  0.000020    0.0  0.000784   \n",
       "Foucault     TheOrderofThings               0.0  0.000000    0.0  0.000000   \n",
       "Freire       PedagogyOfTheOppressed         0.0  0.000000    0.0  0.000000   \n",
       "HannahArendt TheOriginsofTotalitarianism    0.0  0.000000    0.0  0.000021   \n",
       "\n",
       "term_id                                   5         6         7         8      \\\n",
       "author       title                                                              \n",
       "Aristotle    NicomachaenEthics              0.0  0.000006  0.000000  0.000000   \n",
       "Cicero       OnDuties                       0.0  0.000010  0.000000  0.000000   \n",
       "Foucault     TheOrderofThings               0.0  0.000002  0.000009  0.000012   \n",
       "Freire       PedagogyOfTheOppressed         0.0  0.000018  0.000000  0.000032   \n",
       "HannahArendt TheOriginsofTotalitarianism    0.0  0.000009  0.000016  0.000005   \n",
       "\n",
       "term_id                                      9         10     ...  50190  \\\n",
       "author       title                                            ...          \n",
       "Aristotle    NicomachaenEthics            0.000000  0.000000  ...    0.0   \n",
       "Cicero       OnDuties                     0.000000  0.000000  ...    0.0   \n",
       "Foucault     TheOrderofThings             0.000000  0.000008  ...    0.0   \n",
       "Freire       PedagogyOfTheOppressed       0.000000  0.000000  ...    0.0   \n",
       "HannahArendt TheOriginsofTotalitarianism  0.000011  0.000000  ...    0.0   \n",
       "\n",
       "term_id                                      50191     50192     50193  \\\n",
       "author       title                                                       \n",
       "Aristotle    NicomachaenEthics            0.000000  0.000000  0.000000   \n",
       "Cicero       OnDuties                     0.000013  0.000013  0.000013   \n",
       "Foucault     TheOrderofThings             0.000000  0.000000  0.000000   \n",
       "Freire       PedagogyOfTheOppressed       0.000000  0.000000  0.000000   \n",
       "HannahArendt TheOriginsofTotalitarianism  0.000000  0.000000  0.000000   \n",
       "\n",
       "term_id                                      50194  50195  50196     50197  \\\n",
       "author       title                                                           \n",
       "Aristotle    NicomachaenEthics            0.000000    0.0    0.0  0.000000   \n",
       "Cicero       OnDuties                     0.000013    0.0    0.0  0.000013   \n",
       "Foucault     TheOrderofThings             0.000000    0.0    0.0  0.000000   \n",
       "Freire       PedagogyOfTheOppressed       0.000000    0.0    0.0  0.000000   \n",
       "HannahArendt TheOriginsofTotalitarianism  0.000000    0.0    0.0  0.000000   \n",
       "\n",
       "term_id                                      50198     50199  \n",
       "author       title                                            \n",
       "Aristotle    NicomachaenEthics            0.000000  0.000000  \n",
       "Cicero       OnDuties                     0.000013  0.000026  \n",
       "Foucault     TheOrderofThings             0.000000  0.000000  \n",
       "Freire       PedagogyOfTheOppressed       0.000000  0.000000  \n",
       "HannahArendt TheOriginsofTotalitarianism  0.000000  0.000000  \n",
       "\n",
       "[5 rows x 50197 columns]"
      ]
     },
     "execution_count": 33,
     "metadata": {},
     "output_type": "execute_result"
    }
   ],
   "source": [
    "TFIDF.head()"
   ]
  },
  {
   "cell_type": "code",
   "execution_count": 34,
   "id": "60b8a0df-407e-408e-9058-01a12bd25ca5",
   "metadata": {},
   "outputs": [],
   "source": [
    "#add to dataframes\n",
    "VOCAB['df'] = DF\n",
    "VOCAB['idf'] = IDF\n",
    "BOW['tf'] = TF.stack()\n",
    "BOW['tfidf'] = TFIDF.stack()\n",
    "#Apply TFIDF sum to VOCAB\n",
    "VOCAB['tfidf_sum'] = TFIDF.sum()"
   ]
  },
  {
   "cell_type": "code",
   "execution_count": null,
   "id": "af5ec787-def2-4662-ac14-c88ac636ee9d",
   "metadata": {},
   "outputs": [],
   "source": [
    "#save work\n",
    "'''\n",
    "VOCAB.to_csv('VOCAB2.csv')\n",
    "TOKEN.to_csv('TOKEN2.csv')\n",
    "BOW.to_csv('DOC2.csv')\n",
    "DTCM.to_csv('DTCM.csv')\n",
    "TFIDF.to_csv('TFIDF.csv')\n",
    "'''"
   ]
  },
  {
   "cell_type": "markdown",
   "id": "ca562fad-7707-40d2-b537-b8a728e37b91",
   "metadata": {},
   "source": [
    "### Principle Component Analysis (PCA)"
   ]
  },
  {
   "cell_type": "code",
   "execution_count": 35,
   "id": "dcd1c776-b9b2-4bd6-9c8f-514b1d8c1cb5",
   "metadata": {},
   "outputs": [
    {
     "data": {
      "text/html": [
       "<div>\n",
       "<style scoped>\n",
       "    .dataframe tbody tr th:only-of-type {\n",
       "        vertical-align: middle;\n",
       "    }\n",
       "\n",
       "    .dataframe tbody tr th {\n",
       "        vertical-align: top;\n",
       "    }\n",
       "\n",
       "    .dataframe thead th {\n",
       "        text-align: right;\n",
       "    }\n",
       "</style>\n",
       "<table border=\"1\" class=\"dataframe\">\n",
       "  <thead>\n",
       "    <tr style=\"text-align: right;\">\n",
       "      <th></th>\n",
       "      <th>term_rank</th>\n",
       "      <th>term_str</th>\n",
       "      <th>n</th>\n",
       "      <th>num</th>\n",
       "      <th>stop</th>\n",
       "      <th>p_stem</th>\n",
       "      <th>pos_max</th>\n",
       "      <th>term_rank2</th>\n",
       "      <th>p</th>\n",
       "      <th>df</th>\n",
       "      <th>idf</th>\n",
       "      <th>tfidf_sum</th>\n",
       "    </tr>\n",
       "    <tr>\n",
       "      <th>term_id</th>\n",
       "      <th></th>\n",
       "      <th></th>\n",
       "      <th></th>\n",
       "      <th></th>\n",
       "      <th></th>\n",
       "      <th></th>\n",
       "      <th></th>\n",
       "      <th></th>\n",
       "      <th></th>\n",
       "      <th></th>\n",
       "      <th></th>\n",
       "      <th></th>\n",
       "    </tr>\n",
       "  </thead>\n",
       "  <tbody>\n",
       "    <tr>\n",
       "      <th>44927</th>\n",
       "      <td>1</td>\n",
       "      <td>the</td>\n",
       "      <td>113493</td>\n",
       "      <td>0</td>\n",
       "      <td>1</td>\n",
       "      <td>the</td>\n",
       "      <td>DT</td>\n",
       "      <td>1</td>\n",
       "      <td>2.260817</td>\n",
       "      <td>20</td>\n",
       "      <td>0.0</td>\n",
       "      <td>0.0</td>\n",
       "    </tr>\n",
       "    <tr>\n",
       "      <th>31100</th>\n",
       "      <td>2</td>\n",
       "      <td>of</td>\n",
       "      <td>71445</td>\n",
       "      <td>0</td>\n",
       "      <td>1</td>\n",
       "      <td>of</td>\n",
       "      <td>IN</td>\n",
       "      <td>2</td>\n",
       "      <td>1.423207</td>\n",
       "      <td>20</td>\n",
       "      <td>0.0</td>\n",
       "      <td>0.0</td>\n",
       "    </tr>\n",
       "    <tr>\n",
       "      <th>1976</th>\n",
       "      <td>3</td>\n",
       "      <td>and</td>\n",
       "      <td>52889</td>\n",
       "      <td>0</td>\n",
       "      <td>1</td>\n",
       "      <td>and</td>\n",
       "      <td>CC</td>\n",
       "      <td>3</td>\n",
       "      <td>1.053566</td>\n",
       "      <td>20</td>\n",
       "      <td>0.0</td>\n",
       "      <td>0.0</td>\n",
       "    </tr>\n",
       "    <tr>\n",
       "      <th>45493</th>\n",
       "      <td>4</td>\n",
       "      <td>to</td>\n",
       "      <td>49172</td>\n",
       "      <td>0</td>\n",
       "      <td>1</td>\n",
       "      <td>to</td>\n",
       "      <td>TO</td>\n",
       "      <td>4</td>\n",
       "      <td>0.979522</td>\n",
       "      <td>20</td>\n",
       "      <td>0.0</td>\n",
       "      <td>0.0</td>\n",
       "    </tr>\n",
       "    <tr>\n",
       "      <th>22446</th>\n",
       "      <td>5</td>\n",
       "      <td>in</td>\n",
       "      <td>37377</td>\n",
       "      <td>0</td>\n",
       "      <td>1</td>\n",
       "      <td>in</td>\n",
       "      <td>IN</td>\n",
       "      <td>5</td>\n",
       "      <td>0.744562</td>\n",
       "      <td>20</td>\n",
       "      <td>0.0</td>\n",
       "      <td>0.0</td>\n",
       "    </tr>\n",
       "  </tbody>\n",
       "</table>\n",
       "</div>"
      ],
      "text/plain": [
       "         term_rank term_str       n  num  stop p_stem pos_max  term_rank2  \\\n",
       "term_id                                                                     \n",
       "44927            1      the  113493    0     1    the      DT           1   \n",
       "31100            2       of   71445    0     1     of      IN           2   \n",
       "1976             3      and   52889    0     1    and      CC           3   \n",
       "45493            4       to   49172    0     1     to      TO           4   \n",
       "22446            5       in   37377    0     1     in      IN           5   \n",
       "\n",
       "                p  df  idf  tfidf_sum  \n",
       "term_id                                \n",
       "44927    2.260817  20  0.0        0.0  \n",
       "31100    1.423207  20  0.0        0.0  \n",
       "1976     1.053566  20  0.0        0.0  \n",
       "45493    0.979522  20  0.0        0.0  \n",
       "22446    0.744562  20  0.0        0.0  "
      ]
     },
     "execution_count": 35,
     "metadata": {},
     "output_type": "execute_result"
    }
   ],
   "source": [
    "VOCAB.head()"
   ]
  },
  {
   "cell_type": "code",
   "execution_count": 36,
   "id": "c9f20b67-c309-4e41-a663-6cd3c2dec13a",
   "metadata": {},
   "outputs": [
    {
     "data": {
      "text/html": [
       "<div>\n",
       "<style scoped>\n",
       "    .dataframe tbody tr th:only-of-type {\n",
       "        vertical-align: middle;\n",
       "    }\n",
       "\n",
       "    .dataframe tbody tr th {\n",
       "        vertical-align: top;\n",
       "    }\n",
       "\n",
       "    .dataframe thead th {\n",
       "        text-align: right;\n",
       "    }\n",
       "</style>\n",
       "<table border=\"1\" class=\"dataframe\">\n",
       "  <thead>\n",
       "    <tr style=\"text-align: right;\">\n",
       "      <th></th>\n",
       "      <th>term_id</th>\n",
       "      <th>1</th>\n",
       "      <th>2</th>\n",
       "      <th>3</th>\n",
       "      <th>4</th>\n",
       "      <th>5</th>\n",
       "      <th>6</th>\n",
       "      <th>7</th>\n",
       "      <th>8</th>\n",
       "      <th>9</th>\n",
       "      <th>10</th>\n",
       "      <th>...</th>\n",
       "      <th>50190</th>\n",
       "      <th>50191</th>\n",
       "      <th>50192</th>\n",
       "      <th>50193</th>\n",
       "      <th>50194</th>\n",
       "      <th>50195</th>\n",
       "      <th>50196</th>\n",
       "      <th>50197</th>\n",
       "      <th>50198</th>\n",
       "      <th>50199</th>\n",
       "    </tr>\n",
       "    <tr>\n",
       "      <th>author</th>\n",
       "      <th>title</th>\n",
       "      <th></th>\n",
       "      <th></th>\n",
       "      <th></th>\n",
       "      <th></th>\n",
       "      <th></th>\n",
       "      <th></th>\n",
       "      <th></th>\n",
       "      <th></th>\n",
       "      <th></th>\n",
       "      <th></th>\n",
       "      <th></th>\n",
       "      <th></th>\n",
       "      <th></th>\n",
       "      <th></th>\n",
       "      <th></th>\n",
       "      <th></th>\n",
       "      <th></th>\n",
       "      <th></th>\n",
       "      <th></th>\n",
       "      <th></th>\n",
       "      <th></th>\n",
       "    </tr>\n",
       "  </thead>\n",
       "  <tbody>\n",
       "    <tr>\n",
       "      <th>Aristotle</th>\n",
       "      <th>NicomachaenEthics</th>\n",
       "      <td>0.0</td>\n",
       "      <td>0.000023</td>\n",
       "      <td>0.0</td>\n",
       "      <td>0.000000</td>\n",
       "      <td>0.0</td>\n",
       "      <td>0.000006</td>\n",
       "      <td>0.000000</td>\n",
       "      <td>0.000000</td>\n",
       "      <td>0.000000</td>\n",
       "      <td>0.000000</td>\n",
       "      <td>...</td>\n",
       "      <td>0.0</td>\n",
       "      <td>0.000000</td>\n",
       "      <td>0.000000</td>\n",
       "      <td>0.000000</td>\n",
       "      <td>0.000000</td>\n",
       "      <td>0.0</td>\n",
       "      <td>0.0</td>\n",
       "      <td>0.000000</td>\n",
       "      <td>0.000000</td>\n",
       "      <td>0.000000</td>\n",
       "    </tr>\n",
       "    <tr>\n",
       "      <th>Cicero</th>\n",
       "      <th>OnDuties</th>\n",
       "      <td>0.0</td>\n",
       "      <td>0.000020</td>\n",
       "      <td>0.0</td>\n",
       "      <td>0.000784</td>\n",
       "      <td>0.0</td>\n",
       "      <td>0.000010</td>\n",
       "      <td>0.000000</td>\n",
       "      <td>0.000000</td>\n",
       "      <td>0.000000</td>\n",
       "      <td>0.000000</td>\n",
       "      <td>...</td>\n",
       "      <td>0.0</td>\n",
       "      <td>0.000013</td>\n",
       "      <td>0.000013</td>\n",
       "      <td>0.000013</td>\n",
       "      <td>0.000013</td>\n",
       "      <td>0.0</td>\n",
       "      <td>0.0</td>\n",
       "      <td>0.000013</td>\n",
       "      <td>0.000013</td>\n",
       "      <td>0.000026</td>\n",
       "    </tr>\n",
       "    <tr>\n",
       "      <th>Foucault</th>\n",
       "      <th>TheOrderofThings</th>\n",
       "      <td>0.0</td>\n",
       "      <td>0.000000</td>\n",
       "      <td>0.0</td>\n",
       "      <td>0.000000</td>\n",
       "      <td>0.0</td>\n",
       "      <td>0.000002</td>\n",
       "      <td>0.000009</td>\n",
       "      <td>0.000012</td>\n",
       "      <td>0.000000</td>\n",
       "      <td>0.000008</td>\n",
       "      <td>...</td>\n",
       "      <td>0.0</td>\n",
       "      <td>0.000000</td>\n",
       "      <td>0.000000</td>\n",
       "      <td>0.000000</td>\n",
       "      <td>0.000000</td>\n",
       "      <td>0.0</td>\n",
       "      <td>0.0</td>\n",
       "      <td>0.000000</td>\n",
       "      <td>0.000000</td>\n",
       "      <td>0.000000</td>\n",
       "    </tr>\n",
       "    <tr>\n",
       "      <th>Freire</th>\n",
       "      <th>PedagogyOfTheOppressed</th>\n",
       "      <td>0.0</td>\n",
       "      <td>0.000000</td>\n",
       "      <td>0.0</td>\n",
       "      <td>0.000000</td>\n",
       "      <td>0.0</td>\n",
       "      <td>0.000018</td>\n",
       "      <td>0.000000</td>\n",
       "      <td>0.000032</td>\n",
       "      <td>0.000000</td>\n",
       "      <td>0.000000</td>\n",
       "      <td>...</td>\n",
       "      <td>0.0</td>\n",
       "      <td>0.000000</td>\n",
       "      <td>0.000000</td>\n",
       "      <td>0.000000</td>\n",
       "      <td>0.000000</td>\n",
       "      <td>0.0</td>\n",
       "      <td>0.0</td>\n",
       "      <td>0.000000</td>\n",
       "      <td>0.000000</td>\n",
       "      <td>0.000000</td>\n",
       "    </tr>\n",
       "    <tr>\n",
       "      <th>HannahArendt</th>\n",
       "      <th>TheOriginsofTotalitarianism</th>\n",
       "      <td>0.0</td>\n",
       "      <td>0.000000</td>\n",
       "      <td>0.0</td>\n",
       "      <td>0.000021</td>\n",
       "      <td>0.0</td>\n",
       "      <td>0.000009</td>\n",
       "      <td>0.000016</td>\n",
       "      <td>0.000005</td>\n",
       "      <td>0.000011</td>\n",
       "      <td>0.000000</td>\n",
       "      <td>...</td>\n",
       "      <td>0.0</td>\n",
       "      <td>0.000000</td>\n",
       "      <td>0.000000</td>\n",
       "      <td>0.000000</td>\n",
       "      <td>0.000000</td>\n",
       "      <td>0.0</td>\n",
       "      <td>0.0</td>\n",
       "      <td>0.000000</td>\n",
       "      <td>0.000000</td>\n",
       "      <td>0.000000</td>\n",
       "    </tr>\n",
       "  </tbody>\n",
       "</table>\n",
       "<p>5 rows × 50197 columns</p>\n",
       "</div>"
      ],
      "text/plain": [
       "term_id                                   1         2      3         4      \\\n",
       "author       title                                                           \n",
       "Aristotle    NicomachaenEthics              0.0  0.000023    0.0  0.000000   \n",
       "Cicero       OnDuties                       0.0  0.000020    0.0  0.000784   \n",
       "Foucault     TheOrderofThings               0.0  0.000000    0.0  0.000000   \n",
       "Freire       PedagogyOfTheOppressed         0.0  0.000000    0.0  0.000000   \n",
       "HannahArendt TheOriginsofTotalitarianism    0.0  0.000000    0.0  0.000021   \n",
       "\n",
       "term_id                                   5         6         7         8      \\\n",
       "author       title                                                              \n",
       "Aristotle    NicomachaenEthics              0.0  0.000006  0.000000  0.000000   \n",
       "Cicero       OnDuties                       0.0  0.000010  0.000000  0.000000   \n",
       "Foucault     TheOrderofThings               0.0  0.000002  0.000009  0.000012   \n",
       "Freire       PedagogyOfTheOppressed         0.0  0.000018  0.000000  0.000032   \n",
       "HannahArendt TheOriginsofTotalitarianism    0.0  0.000009  0.000016  0.000005   \n",
       "\n",
       "term_id                                      9         10     ...  50190  \\\n",
       "author       title                                            ...          \n",
       "Aristotle    NicomachaenEthics            0.000000  0.000000  ...    0.0   \n",
       "Cicero       OnDuties                     0.000000  0.000000  ...    0.0   \n",
       "Foucault     TheOrderofThings             0.000000  0.000008  ...    0.0   \n",
       "Freire       PedagogyOfTheOppressed       0.000000  0.000000  ...    0.0   \n",
       "HannahArendt TheOriginsofTotalitarianism  0.000011  0.000000  ...    0.0   \n",
       "\n",
       "term_id                                      50191     50192     50193  \\\n",
       "author       title                                                       \n",
       "Aristotle    NicomachaenEthics            0.000000  0.000000  0.000000   \n",
       "Cicero       OnDuties                     0.000013  0.000013  0.000013   \n",
       "Foucault     TheOrderofThings             0.000000  0.000000  0.000000   \n",
       "Freire       PedagogyOfTheOppressed       0.000000  0.000000  0.000000   \n",
       "HannahArendt TheOriginsofTotalitarianism  0.000000  0.000000  0.000000   \n",
       "\n",
       "term_id                                      50194  50195  50196     50197  \\\n",
       "author       title                                                           \n",
       "Aristotle    NicomachaenEthics            0.000000    0.0    0.0  0.000000   \n",
       "Cicero       OnDuties                     0.000013    0.0    0.0  0.000013   \n",
       "Foucault     TheOrderofThings             0.000000    0.0    0.0  0.000000   \n",
       "Freire       PedagogyOfTheOppressed       0.000000    0.0    0.0  0.000000   \n",
       "HannahArendt TheOriginsofTotalitarianism  0.000000    0.0    0.0  0.000000   \n",
       "\n",
       "term_id                                      50198     50199  \n",
       "author       title                                            \n",
       "Aristotle    NicomachaenEthics            0.000000  0.000000  \n",
       "Cicero       OnDuties                     0.000013  0.000026  \n",
       "Foucault     TheOrderofThings             0.000000  0.000000  \n",
       "Freire       PedagogyOfTheOppressed       0.000000  0.000000  \n",
       "HannahArendt TheOriginsofTotalitarianism  0.000000  0.000000  \n",
       "\n",
       "[5 rows x 50197 columns]"
      ]
     },
     "execution_count": 36,
     "metadata": {},
     "output_type": "execute_result"
    }
   ],
   "source": [
    "TFIDF.head()"
   ]
  },
  {
   "cell_type": "code",
   "execution_count": 37,
   "id": "d1490e09-fde9-4c79-86d1-d1dd859a2e6d",
   "metadata": {},
   "outputs": [
    {
     "data": {
      "text/html": [
       "<div>\n",
       "<style scoped>\n",
       "    .dataframe tbody tr th:only-of-type {\n",
       "        vertical-align: middle;\n",
       "    }\n",
       "\n",
       "    .dataframe tbody tr th {\n",
       "        vertical-align: top;\n",
       "    }\n",
       "\n",
       "    .dataframe thead th {\n",
       "        text-align: right;\n",
       "    }\n",
       "</style>\n",
       "<table border=\"1\" class=\"dataframe\">\n",
       "  <thead>\n",
       "    <tr style=\"text-align: right;\">\n",
       "      <th></th>\n",
       "      <th>term_id</th>\n",
       "      <th>44426</th>\n",
       "      <th>41109</th>\n",
       "      <th>17248</th>\n",
       "      <th>49694</th>\n",
       "      <th>4799</th>\n",
       "      <th>5249</th>\n",
       "      <th>49444</th>\n",
       "      <th>19620</th>\n",
       "      <th>32656</th>\n",
       "      <th>47697</th>\n",
       "      <th>...</th>\n",
       "      <th>42699</th>\n",
       "      <th>27486</th>\n",
       "      <th>22741</th>\n",
       "      <th>48189</th>\n",
       "      <th>4806</th>\n",
       "      <th>37791</th>\n",
       "      <th>6702</th>\n",
       "      <th>46029</th>\n",
       "      <th>2760</th>\n",
       "      <th>28723</th>\n",
       "    </tr>\n",
       "    <tr>\n",
       "      <th>author</th>\n",
       "      <th>title</th>\n",
       "      <th></th>\n",
       "      <th></th>\n",
       "      <th></th>\n",
       "      <th></th>\n",
       "      <th></th>\n",
       "      <th></th>\n",
       "      <th></th>\n",
       "      <th></th>\n",
       "      <th></th>\n",
       "      <th></th>\n",
       "      <th></th>\n",
       "      <th></th>\n",
       "      <th></th>\n",
       "      <th></th>\n",
       "      <th></th>\n",
       "      <th></th>\n",
       "      <th></th>\n",
       "      <th></th>\n",
       "      <th></th>\n",
       "      <th></th>\n",
       "      <th></th>\n",
       "    </tr>\n",
       "  </thead>\n",
       "  <tbody>\n",
       "    <tr>\n",
       "      <th>Aristotle</th>\n",
       "      <th>NicomachaenEthics</th>\n",
       "      <td>0.0</td>\n",
       "      <td>0.0</td>\n",
       "      <td>0.0</td>\n",
       "      <td>0.000005</td>\n",
       "      <td>0.0</td>\n",
       "      <td>0.000000</td>\n",
       "      <td>0.000007</td>\n",
       "      <td>0.0</td>\n",
       "      <td>0.0</td>\n",
       "      <td>0.000000</td>\n",
       "      <td>...</td>\n",
       "      <td>0.000004</td>\n",
       "      <td>0.000000</td>\n",
       "      <td>0.000012</td>\n",
       "      <td>0.000000</td>\n",
       "      <td>0.0</td>\n",
       "      <td>0.000025</td>\n",
       "      <td>0.0</td>\n",
       "      <td>1.089784e-05</td>\n",
       "      <td>0.000000</td>\n",
       "      <td>0.000009</td>\n",
       "    </tr>\n",
       "    <tr>\n",
       "      <th>Cicero</th>\n",
       "      <th>OnDuties</th>\n",
       "      <td>0.0</td>\n",
       "      <td>0.0</td>\n",
       "      <td>0.0</td>\n",
       "      <td>0.000003</td>\n",
       "      <td>0.0</td>\n",
       "      <td>0.000000</td>\n",
       "      <td>0.000000</td>\n",
       "      <td>0.0</td>\n",
       "      <td>0.0</td>\n",
       "      <td>0.004188</td>\n",
       "      <td>...</td>\n",
       "      <td>0.000000</td>\n",
       "      <td>0.000057</td>\n",
       "      <td>0.000000</td>\n",
       "      <td>0.000000</td>\n",
       "      <td>0.0</td>\n",
       "      <td>0.000000</td>\n",
       "      <td>0.0</td>\n",
       "      <td>3.040005e-06</td>\n",
       "      <td>0.000000</td>\n",
       "      <td>0.000004</td>\n",
       "    </tr>\n",
       "    <tr>\n",
       "      <th>Foucault</th>\n",
       "      <th>TheOrderofThings</th>\n",
       "      <td>0.0</td>\n",
       "      <td>0.0</td>\n",
       "      <td>0.0</td>\n",
       "      <td>0.000000</td>\n",
       "      <td>0.0</td>\n",
       "      <td>0.000007</td>\n",
       "      <td>0.000005</td>\n",
       "      <td>0.0</td>\n",
       "      <td>0.0</td>\n",
       "      <td>0.000000</td>\n",
       "      <td>...</td>\n",
       "      <td>0.000007</td>\n",
       "      <td>0.000019</td>\n",
       "      <td>0.000010</td>\n",
       "      <td>0.000000</td>\n",
       "      <td>0.0</td>\n",
       "      <td>0.000024</td>\n",
       "      <td>0.0</td>\n",
       "      <td>8.975245e-07</td>\n",
       "      <td>0.000000</td>\n",
       "      <td>0.000000</td>\n",
       "    </tr>\n",
       "    <tr>\n",
       "      <th>Freire</th>\n",
       "      <th>PedagogyOfTheOppressed</th>\n",
       "      <td>0.0</td>\n",
       "      <td>0.0</td>\n",
       "      <td>0.0</td>\n",
       "      <td>0.000004</td>\n",
       "      <td>0.0</td>\n",
       "      <td>0.000055</td>\n",
       "      <td>0.000000</td>\n",
       "      <td>0.0</td>\n",
       "      <td>0.0</td>\n",
       "      <td>0.000000</td>\n",
       "      <td>...</td>\n",
       "      <td>0.000000</td>\n",
       "      <td>0.000000</td>\n",
       "      <td>0.000000</td>\n",
       "      <td>0.000000</td>\n",
       "      <td>0.0</td>\n",
       "      <td>0.000000</td>\n",
       "      <td>0.0</td>\n",
       "      <td>3.529242e-06</td>\n",
       "      <td>0.000000</td>\n",
       "      <td>0.000000</td>\n",
       "    </tr>\n",
       "    <tr>\n",
       "      <th>HannahArendt</th>\n",
       "      <th>TheOriginsofTotalitarianism</th>\n",
       "      <td>0.0</td>\n",
       "      <td>0.0</td>\n",
       "      <td>0.0</td>\n",
       "      <td>0.000002</td>\n",
       "      <td>0.0</td>\n",
       "      <td>0.000237</td>\n",
       "      <td>0.000034</td>\n",
       "      <td>0.0</td>\n",
       "      <td>0.0</td>\n",
       "      <td>0.000012</td>\n",
       "      <td>...</td>\n",
       "      <td>0.000001</td>\n",
       "      <td>0.000000</td>\n",
       "      <td>0.000004</td>\n",
       "      <td>0.000003</td>\n",
       "      <td>0.0</td>\n",
       "      <td>0.000002</td>\n",
       "      <td>0.0</td>\n",
       "      <td>4.518414e-06</td>\n",
       "      <td>0.000003</td>\n",
       "      <td>0.000000</td>\n",
       "    </tr>\n",
       "  </tbody>\n",
       "</table>\n",
       "<p>5 rows × 8000 columns</p>\n",
       "</div>"
      ],
      "text/plain": [
       "term_id                                   44426  41109  17248     49694  \\\n",
       "author       title                                                        \n",
       "Aristotle    NicomachaenEthics              0.0    0.0    0.0  0.000005   \n",
       "Cicero       OnDuties                       0.0    0.0    0.0  0.000003   \n",
       "Foucault     TheOrderofThings               0.0    0.0    0.0  0.000000   \n",
       "Freire       PedagogyOfTheOppressed         0.0    0.0    0.0  0.000004   \n",
       "HannahArendt TheOriginsofTotalitarianism    0.0    0.0    0.0  0.000002   \n",
       "\n",
       "term_id                                   4799      5249      49444  19620  \\\n",
       "author       title                                                           \n",
       "Aristotle    NicomachaenEthics              0.0  0.000000  0.000007    0.0   \n",
       "Cicero       OnDuties                       0.0  0.000000  0.000000    0.0   \n",
       "Foucault     TheOrderofThings               0.0  0.000007  0.000005    0.0   \n",
       "Freire       PedagogyOfTheOppressed         0.0  0.000055  0.000000    0.0   \n",
       "HannahArendt TheOriginsofTotalitarianism    0.0  0.000237  0.000034    0.0   \n",
       "\n",
       "term_id                                   32656     47697  ...     42699  \\\n",
       "author       title                                         ...             \n",
       "Aristotle    NicomachaenEthics              0.0  0.000000  ...  0.000004   \n",
       "Cicero       OnDuties                       0.0  0.004188  ...  0.000000   \n",
       "Foucault     TheOrderofThings               0.0  0.000000  ...  0.000007   \n",
       "Freire       PedagogyOfTheOppressed         0.0  0.000000  ...  0.000000   \n",
       "HannahArendt TheOriginsofTotalitarianism    0.0  0.000012  ...  0.000001   \n",
       "\n",
       "term_id                                      27486     22741     48189  4806   \\\n",
       "author       title                                                              \n",
       "Aristotle    NicomachaenEthics            0.000000  0.000012  0.000000    0.0   \n",
       "Cicero       OnDuties                     0.000057  0.000000  0.000000    0.0   \n",
       "Foucault     TheOrderofThings             0.000019  0.000010  0.000000    0.0   \n",
       "Freire       PedagogyOfTheOppressed       0.000000  0.000000  0.000000    0.0   \n",
       "HannahArendt TheOriginsofTotalitarianism  0.000000  0.000004  0.000003    0.0   \n",
       "\n",
       "term_id                                      37791  6702          46029  \\\n",
       "author       title                                                        \n",
       "Aristotle    NicomachaenEthics            0.000025    0.0  1.089784e-05   \n",
       "Cicero       OnDuties                     0.000000    0.0  3.040005e-06   \n",
       "Foucault     TheOrderofThings             0.000024    0.0  8.975245e-07   \n",
       "Freire       PedagogyOfTheOppressed       0.000000    0.0  3.529242e-06   \n",
       "HannahArendt TheOriginsofTotalitarianism  0.000002    0.0  4.518414e-06   \n",
       "\n",
       "term_id                                      2760      28723  \n",
       "author       title                                            \n",
       "Aristotle    NicomachaenEthics            0.000000  0.000009  \n",
       "Cicero       OnDuties                     0.000000  0.000004  \n",
       "Foucault     TheOrderofThings             0.000000  0.000000  \n",
       "Freire       PedagogyOfTheOppressed       0.000000  0.000000  \n",
       "HannahArendt TheOriginsofTotalitarianism  0.000003  0.000000  \n",
       "\n",
       "[5 rows x 8000 columns]"
      ]
     },
     "execution_count": 37,
     "metadata": {},
     "output_type": "execute_result"
    }
   ],
   "source": [
    "#Reduce the number of features by removing insignificant words (based on tfidf_sum). \n",
    "#Reduce the set to under 8000 terms.\n",
    "#Select the top 8000 terms and use them to select the columns of the TFIDF table.\n",
    "VOCAB_reduced = VOCAB.sort_values('tfidf_sum', ascending=False).head(8000)\n",
    "TFIDF_reduced = TFIDF[VOCAB_reduced.index]\n",
    "TFIDF_reduced.head()"
   ]
  },
  {
   "cell_type": "code",
   "execution_count": 39,
   "id": "d1fa4ce4-7283-4d27-b752-bf9125e90573",
   "metadata": {},
   "outputs": [
    {
     "data": {
      "text/html": [
       "<div>\n",
       "<style scoped>\n",
       "    .dataframe tbody tr th:only-of-type {\n",
       "        vertical-align: middle;\n",
       "    }\n",
       "\n",
       "    .dataframe tbody tr th {\n",
       "        vertical-align: top;\n",
       "    }\n",
       "\n",
       "    .dataframe thead th {\n",
       "        text-align: right;\n",
       "    }\n",
       "</style>\n",
       "<table border=\"1\" class=\"dataframe\">\n",
       "  <thead>\n",
       "    <tr style=\"text-align: right;\">\n",
       "      <th></th>\n",
       "      <th>term_rank</th>\n",
       "      <th>term_str</th>\n",
       "      <th>n</th>\n",
       "      <th>num</th>\n",
       "      <th>stop</th>\n",
       "      <th>p_stem</th>\n",
       "      <th>pos_max</th>\n",
       "      <th>term_rank2</th>\n",
       "      <th>p</th>\n",
       "      <th>df</th>\n",
       "      <th>idf</th>\n",
       "      <th>tfidf_sum</th>\n",
       "    </tr>\n",
       "    <tr>\n",
       "      <th>term_id</th>\n",
       "      <th></th>\n",
       "      <th></th>\n",
       "      <th></th>\n",
       "      <th></th>\n",
       "      <th></th>\n",
       "      <th></th>\n",
       "      <th></th>\n",
       "      <th></th>\n",
       "      <th></th>\n",
       "      <th></th>\n",
       "      <th></th>\n",
       "      <th></th>\n",
       "    </tr>\n",
       "  </thead>\n",
       "  <tbody>\n",
       "    <tr>\n",
       "      <th>44426</th>\n",
       "      <td>2068</td>\n",
       "      <td>tao</td>\n",
       "      <td>80</td>\n",
       "      <td>0</td>\n",
       "      <td>0</td>\n",
       "      <td>tao</td>\n",
       "      <td>NNP</td>\n",
       "      <td>659</td>\n",
       "      <td>0.001594</td>\n",
       "      <td>1</td>\n",
       "      <td>1.301030</td>\n",
       "      <td>0.016119</td>\n",
       "    </tr>\n",
       "    <tr>\n",
       "      <th>41109</th>\n",
       "      <td>455</td>\n",
       "      <td>siddhartha</td>\n",
       "      <td>373</td>\n",
       "      <td>0</td>\n",
       "      <td>0</td>\n",
       "      <td>siddhartha</td>\n",
       "      <td>NNP</td>\n",
       "      <td>386</td>\n",
       "      <td>0.007430</td>\n",
       "      <td>1</td>\n",
       "      <td>1.301030</td>\n",
       "      <td>0.012358</td>\n",
       "    </tr>\n",
       "    <tr>\n",
       "      <th>17248</th>\n",
       "      <td>1093</td>\n",
       "      <td>feminist</td>\n",
       "      <td>160</td>\n",
       "      <td>0</td>\n",
       "      <td>0</td>\n",
       "      <td>feminist</td>\n",
       "      <td>NN</td>\n",
       "      <td>579</td>\n",
       "      <td>0.003187</td>\n",
       "      <td>3</td>\n",
       "      <td>0.823909</td>\n",
       "      <td>0.011530</td>\n",
       "    </tr>\n",
       "    <tr>\n",
       "      <th>49694</th>\n",
       "      <td>57</td>\n",
       "      <td>women</td>\n",
       "      <td>3835</td>\n",
       "      <td>0</td>\n",
       "      <td>0</td>\n",
       "      <td>women</td>\n",
       "      <td>NNS</td>\n",
       "      <td>57</td>\n",
       "      <td>0.076394</td>\n",
       "      <td>16</td>\n",
       "      <td>0.096910</td>\n",
       "      <td>0.007868</td>\n",
       "    </tr>\n",
       "    <tr>\n",
       "      <th>4799</th>\n",
       "      <td>500</td>\n",
       "      <td>blaek</td>\n",
       "      <td>340</td>\n",
       "      <td>0</td>\n",
       "      <td>0</td>\n",
       "      <td>blaek</td>\n",
       "      <td>NN</td>\n",
       "      <td>412</td>\n",
       "      <td>0.006773</td>\n",
       "      <td>1</td>\n",
       "      <td>1.301030</td>\n",
       "      <td>0.006183</td>\n",
       "    </tr>\n",
       "  </tbody>\n",
       "</table>\n",
       "</div>"
      ],
      "text/plain": [
       "         term_rank    term_str     n  num  stop      p_stem pos_max  \\\n",
       "term_id                                                               \n",
       "44426         2068         tao    80    0     0         tao     NNP   \n",
       "41109          455  siddhartha   373    0     0  siddhartha     NNP   \n",
       "17248         1093    feminist   160    0     0    feminist      NN   \n",
       "49694           57       women  3835    0     0       women     NNS   \n",
       "4799           500       blaek   340    0     0       blaek      NN   \n",
       "\n",
       "         term_rank2         p  df       idf  tfidf_sum  \n",
       "term_id                                                 \n",
       "44426           659  0.001594   1  1.301030   0.016119  \n",
       "41109           386  0.007430   1  1.301030   0.012358  \n",
       "17248           579  0.003187   3  0.823909   0.011530  \n",
       "49694            57  0.076394  16  0.096910   0.007868  \n",
       "4799            412  0.006773   1  1.301030   0.006183  "
      ]
     },
     "execution_count": 39,
     "metadata": {},
     "output_type": "execute_result"
    }
   ],
   "source": [
    "VOCAB_reduced.head()"
   ]
  },
  {
   "cell_type": "code",
   "execution_count": 42,
   "id": "3af6267a-a190-426d-8d57-e6dffe882f51",
   "metadata": {},
   "outputs": [
    {
     "data": {
      "text/html": [
       "<div>\n",
       "<style scoped>\n",
       "    .dataframe tbody tr th:only-of-type {\n",
       "        vertical-align: middle;\n",
       "    }\n",
       "\n",
       "    .dataframe tbody tr th {\n",
       "        vertical-align: top;\n",
       "    }\n",
       "\n",
       "    .dataframe thead th {\n",
       "        text-align: right;\n",
       "    }\n",
       "</style>\n",
       "<table border=\"1\" class=\"dataframe\">\n",
       "  <thead>\n",
       "    <tr style=\"text-align: right;\">\n",
       "      <th></th>\n",
       "      <th>term_id</th>\n",
       "      <th>44426</th>\n",
       "      <th>41109</th>\n",
       "      <th>17248</th>\n",
       "      <th>49694</th>\n",
       "      <th>4799</th>\n",
       "      <th>5249</th>\n",
       "      <th>49444</th>\n",
       "      <th>19620</th>\n",
       "      <th>32656</th>\n",
       "      <th>47697</th>\n",
       "      <th>...</th>\n",
       "      <th>42699</th>\n",
       "      <th>27486</th>\n",
       "      <th>22741</th>\n",
       "      <th>48189</th>\n",
       "      <th>4806</th>\n",
       "      <th>37791</th>\n",
       "      <th>6702</th>\n",
       "      <th>46029</th>\n",
       "      <th>2760</th>\n",
       "      <th>28723</th>\n",
       "    </tr>\n",
       "    <tr>\n",
       "      <th>author</th>\n",
       "      <th>title</th>\n",
       "      <th></th>\n",
       "      <th></th>\n",
       "      <th></th>\n",
       "      <th></th>\n",
       "      <th></th>\n",
       "      <th></th>\n",
       "      <th></th>\n",
       "      <th></th>\n",
       "      <th></th>\n",
       "      <th></th>\n",
       "      <th></th>\n",
       "      <th></th>\n",
       "      <th></th>\n",
       "      <th></th>\n",
       "      <th></th>\n",
       "      <th></th>\n",
       "      <th></th>\n",
       "      <th></th>\n",
       "      <th></th>\n",
       "      <th></th>\n",
       "      <th></th>\n",
       "    </tr>\n",
       "  </thead>\n",
       "  <tbody>\n",
       "    <tr>\n",
       "      <th>Aristotle</th>\n",
       "      <th>NicomachaenEthics</th>\n",
       "      <td>-0.000806</td>\n",
       "      <td>-0.000618</td>\n",
       "      <td>-0.000576</td>\n",
       "      <td>-0.000389</td>\n",
       "      <td>-0.000309</td>\n",
       "      <td>-0.000259</td>\n",
       "      <td>-0.000244</td>\n",
       "      <td>-0.000232</td>\n",
       "      <td>-0.000212</td>\n",
       "      <td>-0.000212</td>\n",
       "      <td>...</td>\n",
       "      <td>-0.000001</td>\n",
       "      <td>-0.000005</td>\n",
       "      <td>7.441234e-06</td>\n",
       "      <td>-0.000005</td>\n",
       "      <td>-0.000005</td>\n",
       "      <td>0.000020</td>\n",
       "      <td>-0.000005</td>\n",
       "      <td>6.144065e-06</td>\n",
       "      <td>-0.000005</td>\n",
       "      <td>4.578956e-06</td>\n",
       "    </tr>\n",
       "    <tr>\n",
       "      <th>Cicero</th>\n",
       "      <th>OnDuties</th>\n",
       "      <td>-0.000806</td>\n",
       "      <td>-0.000618</td>\n",
       "      <td>-0.000576</td>\n",
       "      <td>-0.000391</td>\n",
       "      <td>-0.000309</td>\n",
       "      <td>-0.000259</td>\n",
       "      <td>-0.000250</td>\n",
       "      <td>-0.000232</td>\n",
       "      <td>-0.000212</td>\n",
       "      <td>0.003976</td>\n",
       "      <td>...</td>\n",
       "      <td>-0.000005</td>\n",
       "      <td>0.000052</td>\n",
       "      <td>-4.757566e-06</td>\n",
       "      <td>-0.000005</td>\n",
       "      <td>-0.000005</td>\n",
       "      <td>-0.000005</td>\n",
       "      <td>-0.000005</td>\n",
       "      <td>-1.713774e-06</td>\n",
       "      <td>-0.000005</td>\n",
       "      <td>-8.483020e-07</td>\n",
       "    </tr>\n",
       "    <tr>\n",
       "      <th>Foucault</th>\n",
       "      <th>TheOrderofThings</th>\n",
       "      <td>-0.000806</td>\n",
       "      <td>-0.000618</td>\n",
       "      <td>-0.000576</td>\n",
       "      <td>-0.000393</td>\n",
       "      <td>-0.000309</td>\n",
       "      <td>-0.000252</td>\n",
       "      <td>-0.000245</td>\n",
       "      <td>-0.000232</td>\n",
       "      <td>-0.000212</td>\n",
       "      <td>-0.000212</td>\n",
       "      <td>...</td>\n",
       "      <td>0.000002</td>\n",
       "      <td>0.000014</td>\n",
       "      <td>5.289120e-06</td>\n",
       "      <td>-0.000005</td>\n",
       "      <td>-0.000005</td>\n",
       "      <td>0.000019</td>\n",
       "      <td>-0.000005</td>\n",
       "      <td>-3.856255e-06</td>\n",
       "      <td>-0.000005</td>\n",
       "      <td>-4.753158e-06</td>\n",
       "    </tr>\n",
       "    <tr>\n",
       "      <th>Freire</th>\n",
       "      <th>PedagogyOfTheOppressed</th>\n",
       "      <td>-0.000806</td>\n",
       "      <td>-0.000618</td>\n",
       "      <td>-0.000576</td>\n",
       "      <td>-0.000389</td>\n",
       "      <td>-0.000309</td>\n",
       "      <td>-0.000205</td>\n",
       "      <td>-0.000250</td>\n",
       "      <td>-0.000232</td>\n",
       "      <td>-0.000212</td>\n",
       "      <td>-0.000212</td>\n",
       "      <td>...</td>\n",
       "      <td>-0.000005</td>\n",
       "      <td>-0.000005</td>\n",
       "      <td>-4.757566e-06</td>\n",
       "      <td>-0.000005</td>\n",
       "      <td>-0.000005</td>\n",
       "      <td>-0.000005</td>\n",
       "      <td>-0.000005</td>\n",
       "      <td>-1.224538e-06</td>\n",
       "      <td>-0.000005</td>\n",
       "      <td>-4.753158e-06</td>\n",
       "    </tr>\n",
       "    <tr>\n",
       "      <th>HannahArendt</th>\n",
       "      <th>TheOriginsofTotalitarianism</th>\n",
       "      <td>-0.000806</td>\n",
       "      <td>-0.000618</td>\n",
       "      <td>-0.000576</td>\n",
       "      <td>-0.000391</td>\n",
       "      <td>-0.000309</td>\n",
       "      <td>-0.000022</td>\n",
       "      <td>-0.000216</td>\n",
       "      <td>-0.000232</td>\n",
       "      <td>-0.000212</td>\n",
       "      <td>-0.000200</td>\n",
       "      <td>...</td>\n",
       "      <td>-0.000004</td>\n",
       "      <td>-0.000005</td>\n",
       "      <td>-9.642085e-07</td>\n",
       "      <td>-0.000002</td>\n",
       "      <td>-0.000005</td>\n",
       "      <td>-0.000003</td>\n",
       "      <td>-0.000005</td>\n",
       "      <td>-2.353659e-07</td>\n",
       "      <td>-0.000002</td>\n",
       "      <td>-4.753158e-06</td>\n",
       "    </tr>\n",
       "  </tbody>\n",
       "</table>\n",
       "<p>5 rows × 8000 columns</p>\n",
       "</div>"
      ],
      "text/plain": [
       "term_id                                      44426     41109     17248  \\\n",
       "author       title                                                       \n",
       "Aristotle    NicomachaenEthics           -0.000806 -0.000618 -0.000576   \n",
       "Cicero       OnDuties                    -0.000806 -0.000618 -0.000576   \n",
       "Foucault     TheOrderofThings            -0.000806 -0.000618 -0.000576   \n",
       "Freire       PedagogyOfTheOppressed      -0.000806 -0.000618 -0.000576   \n",
       "HannahArendt TheOriginsofTotalitarianism -0.000806 -0.000618 -0.000576   \n",
       "\n",
       "term_id                                      49694     4799      5249   \\\n",
       "author       title                                                       \n",
       "Aristotle    NicomachaenEthics           -0.000389 -0.000309 -0.000259   \n",
       "Cicero       OnDuties                    -0.000391 -0.000309 -0.000259   \n",
       "Foucault     TheOrderofThings            -0.000393 -0.000309 -0.000252   \n",
       "Freire       PedagogyOfTheOppressed      -0.000389 -0.000309 -0.000205   \n",
       "HannahArendt TheOriginsofTotalitarianism -0.000391 -0.000309 -0.000022   \n",
       "\n",
       "term_id                                      49444     19620     32656  \\\n",
       "author       title                                                       \n",
       "Aristotle    NicomachaenEthics           -0.000244 -0.000232 -0.000212   \n",
       "Cicero       OnDuties                    -0.000250 -0.000232 -0.000212   \n",
       "Foucault     TheOrderofThings            -0.000245 -0.000232 -0.000212   \n",
       "Freire       PedagogyOfTheOppressed      -0.000250 -0.000232 -0.000212   \n",
       "HannahArendt TheOriginsofTotalitarianism -0.000216 -0.000232 -0.000212   \n",
       "\n",
       "term_id                                      47697  ...     42699     27486  \\\n",
       "author       title                                  ...                       \n",
       "Aristotle    NicomachaenEthics           -0.000212  ... -0.000001 -0.000005   \n",
       "Cicero       OnDuties                     0.003976  ... -0.000005  0.000052   \n",
       "Foucault     TheOrderofThings            -0.000212  ...  0.000002  0.000014   \n",
       "Freire       PedagogyOfTheOppressed      -0.000212  ... -0.000005 -0.000005   \n",
       "HannahArendt TheOriginsofTotalitarianism -0.000200  ... -0.000004 -0.000005   \n",
       "\n",
       "term_id                                          22741     48189     4806   \\\n",
       "author       title                                                           \n",
       "Aristotle    NicomachaenEthics            7.441234e-06 -0.000005 -0.000005   \n",
       "Cicero       OnDuties                    -4.757566e-06 -0.000005 -0.000005   \n",
       "Foucault     TheOrderofThings             5.289120e-06 -0.000005 -0.000005   \n",
       "Freire       PedagogyOfTheOppressed      -4.757566e-06 -0.000005 -0.000005   \n",
       "HannahArendt TheOriginsofTotalitarianism -9.642085e-07 -0.000002 -0.000005   \n",
       "\n",
       "term_id                                      37791     6702          46029  \\\n",
       "author       title                                                           \n",
       "Aristotle    NicomachaenEthics            0.000020 -0.000005  6.144065e-06   \n",
       "Cicero       OnDuties                    -0.000005 -0.000005 -1.713774e-06   \n",
       "Foucault     TheOrderofThings             0.000019 -0.000005 -3.856255e-06   \n",
       "Freire       PedagogyOfTheOppressed      -0.000005 -0.000005 -1.224538e-06   \n",
       "HannahArendt TheOriginsofTotalitarianism -0.000003 -0.000005 -2.353659e-07   \n",
       "\n",
       "term_id                                      2760          28723  \n",
       "author       title                                                \n",
       "Aristotle    NicomachaenEthics           -0.000005  4.578956e-06  \n",
       "Cicero       OnDuties                    -0.000005 -8.483020e-07  \n",
       "Foucault     TheOrderofThings            -0.000005 -4.753158e-06  \n",
       "Freire       PedagogyOfTheOppressed      -0.000005 -4.753158e-06  \n",
       "HannahArendt TheOriginsofTotalitarianism -0.000002 -4.753158e-06  \n",
       "\n",
       "[5 rows x 8000 columns]"
      ]
     },
     "execution_count": 42,
     "metadata": {},
     "output_type": "execute_result"
    }
   ],
   "source": [
    "#normalize TFIDF vector lengths\n",
    "TFIDF_reduced.apply(lambda x: x / norm(x), 1)\n",
    "#center word vectors\n",
    "TFIDF_reduced = TFIDF_reduced-TFIDF_reduced.mean()\n",
    "TFIDF_reduced.head()"
   ]
  },
  {
   "cell_type": "code",
   "execution_count": 43,
   "id": "eb8a57fd-b07b-4c3b-a4e6-017775f3d1c8",
   "metadata": {},
   "outputs": [
    {
     "data": {
      "text/html": [
       "<div>\n",
       "<style scoped>\n",
       "    .dataframe tbody tr th:only-of-type {\n",
       "        vertical-align: middle;\n",
       "    }\n",
       "\n",
       "    .dataframe tbody tr th {\n",
       "        vertical-align: top;\n",
       "    }\n",
       "\n",
       "    .dataframe thead th {\n",
       "        text-align: right;\n",
       "    }\n",
       "</style>\n",
       "<table border=\"1\" class=\"dataframe\">\n",
       "  <thead>\n",
       "    <tr style=\"text-align: right;\">\n",
       "      <th>term_id</th>\n",
       "      <th>44426</th>\n",
       "      <th>41109</th>\n",
       "      <th>17248</th>\n",
       "      <th>49694</th>\n",
       "      <th>4799</th>\n",
       "      <th>5249</th>\n",
       "      <th>49444</th>\n",
       "      <th>19620</th>\n",
       "      <th>32656</th>\n",
       "      <th>47697</th>\n",
       "      <th>...</th>\n",
       "      <th>42699</th>\n",
       "      <th>27486</th>\n",
       "      <th>22741</th>\n",
       "      <th>48189</th>\n",
       "      <th>4806</th>\n",
       "      <th>37791</th>\n",
       "      <th>6702</th>\n",
       "      <th>46029</th>\n",
       "      <th>2760</th>\n",
       "      <th>28723</th>\n",
       "    </tr>\n",
       "    <tr>\n",
       "      <th>term_id</th>\n",
       "      <th></th>\n",
       "      <th></th>\n",
       "      <th></th>\n",
       "      <th></th>\n",
       "      <th></th>\n",
       "      <th></th>\n",
       "      <th></th>\n",
       "      <th></th>\n",
       "      <th></th>\n",
       "      <th></th>\n",
       "      <th></th>\n",
       "      <th></th>\n",
       "      <th></th>\n",
       "      <th></th>\n",
       "      <th></th>\n",
       "      <th></th>\n",
       "      <th></th>\n",
       "      <th></th>\n",
       "      <th></th>\n",
       "      <th></th>\n",
       "      <th></th>\n",
       "    </tr>\n",
       "  </thead>\n",
       "  <tbody>\n",
       "    <tr>\n",
       "      <th>44426</th>\n",
       "      <td>1.299161e-05</td>\n",
       "      <td>-5.242014e-07</td>\n",
       "      <td>-4.890835e-07</td>\n",
       "      <td>-3.082903e-07</td>\n",
       "      <td>-2.622891e-07</td>\n",
       "      <td>-2.200627e-07</td>\n",
       "      <td>-1.879083e-07</td>\n",
       "      <td>-1.967512e-07</td>\n",
       "      <td>-1.797851e-07</td>\n",
       "      <td>-1.794610e-07</td>\n",
       "      <td>...</td>\n",
       "      <td>-4.036291e-09</td>\n",
       "      <td>-4.036261e-09</td>\n",
       "      <td>-4.036247e-09</td>\n",
       "      <td>-4.036152e-09</td>\n",
       "      <td>-4.034790e-09</td>\n",
       "      <td>-4.034735e-09</td>\n",
       "      <td>-4.033729e-09</td>\n",
       "      <td>-4.033035e-09</td>\n",
       "      <td>-4.032690e-09</td>\n",
       "      <td>-4.032508e-09</td>\n",
       "    </tr>\n",
       "    <tr>\n",
       "      <th>41109</th>\n",
       "      <td>-5.242014e-07</td>\n",
       "      <td>7.635553e-06</td>\n",
       "      <td>-3.749486e-07</td>\n",
       "      <td>-2.446340e-07</td>\n",
       "      <td>-2.010800e-07</td>\n",
       "      <td>-1.687078e-07</td>\n",
       "      <td>-1.505077e-07</td>\n",
       "      <td>2.865891e-06</td>\n",
       "      <td>-1.378296e-07</td>\n",
       "      <td>-1.375811e-07</td>\n",
       "      <td>...</td>\n",
       "      <td>1.186289e-08</td>\n",
       "      <td>-3.094340e-09</td>\n",
       "      <td>-3.094329e-09</td>\n",
       "      <td>-3.094256e-09</td>\n",
       "      <td>-3.093212e-09</td>\n",
       "      <td>-3.093170e-09</td>\n",
       "      <td>-3.092398e-09</td>\n",
       "      <td>-3.091866e-09</td>\n",
       "      <td>-3.091602e-09</td>\n",
       "      <td>-3.091462e-09</td>\n",
       "    </tr>\n",
       "    <tr>\n",
       "      <th>17248</th>\n",
       "      <td>-4.890835e-07</td>\n",
       "      <td>-3.749486e-07</td>\n",
       "      <td>5.150624e-06</td>\n",
       "      <td>1.613787e-06</td>\n",
       "      <td>2.509012e-07</td>\n",
       "      <td>-1.572735e-07</td>\n",
       "      <td>1.024431e-06</td>\n",
       "      <td>-1.407314e-07</td>\n",
       "      <td>1.799599e-06</td>\n",
       "      <td>-1.283641e-07</td>\n",
       "      <td>...</td>\n",
       "      <td>-2.540840e-09</td>\n",
       "      <td>-2.837197e-09</td>\n",
       "      <td>-2.868673e-09</td>\n",
       "      <td>-2.876391e-09</td>\n",
       "      <td>-2.885988e-09</td>\n",
       "      <td>-2.863421e-10</td>\n",
       "      <td>-2.885229e-09</td>\n",
       "      <td>-1.027989e-09</td>\n",
       "      <td>-2.747417e-09</td>\n",
       "      <td>-1.667797e-09</td>\n",
       "    </tr>\n",
       "    <tr>\n",
       "      <th>49694</th>\n",
       "      <td>-3.082903e-07</td>\n",
       "      <td>-2.446340e-07</td>\n",
       "      <td>1.613787e-06</td>\n",
       "      <td>7.528017e-07</td>\n",
       "      <td>6.315449e-07</td>\n",
       "      <td>-8.894268e-08</td>\n",
       "      <td>5.705305e-07</td>\n",
       "      <td>-9.181972e-08</td>\n",
       "      <td>5.828267e-07</td>\n",
       "      <td>-8.696683e-08</td>\n",
       "      <td>...</td>\n",
       "      <td>-1.007784e-09</td>\n",
       "      <td>-1.583510e-09</td>\n",
       "      <td>-1.704231e-09</td>\n",
       "      <td>2.477489e-09</td>\n",
       "      <td>-1.959274e-09</td>\n",
       "      <td>2.598845e-09</td>\n",
       "      <td>-1.588863e-09</td>\n",
       "      <td>1.457715e-09</td>\n",
       "      <td>-9.005367e-10</td>\n",
       "      <td>1.096753e-09</td>\n",
       "    </tr>\n",
       "    <tr>\n",
       "      <th>4799</th>\n",
       "      <td>-2.622891e-07</td>\n",
       "      <td>-2.010800e-07</td>\n",
       "      <td>2.509012e-07</td>\n",
       "      <td>6.315449e-07</td>\n",
       "      <td>1.911633e-06</td>\n",
       "      <td>-8.441453e-08</td>\n",
       "      <td>9.091183e-07</td>\n",
       "      <td>-7.547240e-08</td>\n",
       "      <td>1.521647e-07</td>\n",
       "      <td>-6.884002e-08</td>\n",
       "      <td>...</td>\n",
       "      <td>-1.789116e-10</td>\n",
       "      <td>-1.548282e-09</td>\n",
       "      <td>-1.548277e-09</td>\n",
       "      <td>-1.548240e-09</td>\n",
       "      <td>-1.547718e-09</td>\n",
       "      <td>1.034515e-08</td>\n",
       "      <td>-1.547310e-09</td>\n",
       "      <td>6.908721e-09</td>\n",
       "      <td>-1.546912e-09</td>\n",
       "      <td>3.883830e-09</td>\n",
       "    </tr>\n",
       "  </tbody>\n",
       "</table>\n",
       "<p>5 rows × 8000 columns</p>\n",
       "</div>"
      ],
      "text/plain": [
       "term_id         44426         41109         17248         49694         4799   \\\n",
       "term_id                                                                         \n",
       "44426    1.299161e-05 -5.242014e-07 -4.890835e-07 -3.082903e-07 -2.622891e-07   \n",
       "41109   -5.242014e-07  7.635553e-06 -3.749486e-07 -2.446340e-07 -2.010800e-07   \n",
       "17248   -4.890835e-07 -3.749486e-07  5.150624e-06  1.613787e-06  2.509012e-07   \n",
       "49694   -3.082903e-07 -2.446340e-07  1.613787e-06  7.528017e-07  6.315449e-07   \n",
       "4799    -2.622891e-07 -2.010800e-07  2.509012e-07  6.315449e-07  1.911633e-06   \n",
       "\n",
       "term_id         5249          49444         19620         32656         47697  \\\n",
       "term_id                                                                         \n",
       "44426   -2.200627e-07 -1.879083e-07 -1.967512e-07 -1.797851e-07 -1.794610e-07   \n",
       "41109   -1.687078e-07 -1.505077e-07  2.865891e-06 -1.378296e-07 -1.375811e-07   \n",
       "17248   -1.572735e-07  1.024431e-06 -1.407314e-07  1.799599e-06 -1.283641e-07   \n",
       "49694   -8.894268e-08  5.705305e-07 -9.181972e-08  5.828267e-07 -8.696683e-08   \n",
       "4799    -8.441453e-08  9.091183e-07 -7.547240e-08  1.521647e-07 -6.884002e-08   \n",
       "\n",
       "term_id  ...         42699         27486         22741         48189  \\\n",
       "term_id  ...                                                           \n",
       "44426    ... -4.036291e-09 -4.036261e-09 -4.036247e-09 -4.036152e-09   \n",
       "41109    ...  1.186289e-08 -3.094340e-09 -3.094329e-09 -3.094256e-09   \n",
       "17248    ... -2.540840e-09 -2.837197e-09 -2.868673e-09 -2.876391e-09   \n",
       "49694    ... -1.007784e-09 -1.583510e-09 -1.704231e-09  2.477489e-09   \n",
       "4799     ... -1.789116e-10 -1.548282e-09 -1.548277e-09 -1.548240e-09   \n",
       "\n",
       "term_id         4806          37791         6702          46029         2760   \\\n",
       "term_id                                                                         \n",
       "44426   -4.034790e-09 -4.034735e-09 -4.033729e-09 -4.033035e-09 -4.032690e-09   \n",
       "41109   -3.093212e-09 -3.093170e-09 -3.092398e-09 -3.091866e-09 -3.091602e-09   \n",
       "17248   -2.885988e-09 -2.863421e-10 -2.885229e-09 -1.027989e-09 -2.747417e-09   \n",
       "49694   -1.959274e-09  2.598845e-09 -1.588863e-09  1.457715e-09 -9.005367e-10   \n",
       "4799    -1.547718e-09  1.034515e-08 -1.547310e-09  6.908721e-09 -1.546912e-09   \n",
       "\n",
       "term_id         28723  \n",
       "term_id                \n",
       "44426   -4.032508e-09  \n",
       "41109   -3.091462e-09  \n",
       "17248   -1.667797e-09  \n",
       "49694    1.096753e-09  \n",
       "4799     3.883830e-09  \n",
       "\n",
       "[5 rows x 8000 columns]"
      ]
     },
     "execution_count": 43,
     "metadata": {},
     "output_type": "execute_result"
    }
   ],
   "source": [
    "#Extract a term covariance matrix (COV) from TFIDF\n",
    "COV = TFIDF_reduced.cov()\n",
    "COV.head()"
   ]
  },
  {
   "cell_type": "code",
   "execution_count": 44,
   "id": "0fc5a7c6-0548-4d23-84e8-4f3cafcf66a7",
   "metadata": {},
   "outputs": [],
   "source": [
    "#Apply eigendecomposition to the COV table\n",
    "#eigh(), since covarience matrix is symmetric\n",
    "eig_val, eig_vec = eig(COV)"
   ]
  },
  {
   "cell_type": "code",
   "execution_count": 45,
   "id": "d1dbfae5-8c8b-43c9-a369-4cde98d9b967",
   "metadata": {},
   "outputs": [],
   "source": [
    "#Combine eigenvalues and eigenvectors into a single table\n",
    "#convert eigen data to dataframes\n",
    "term_index = COV.index \n",
    "eig_vec_table = pd.DataFrame(eig_vec, index=term_index, columns=term_index)\n",
    "eig_val_table = pd.DataFrame(eig_val, index=term_index, columns=['eig_val'])\n",
    "eig_val_table.index.name = 'term_id'"
   ]
  },
  {
   "cell_type": "code",
   "execution_count": 46,
   "id": "f1c7e2ee-c24d-42d3-b673-bf6931f7084c",
   "metadata": {},
   "outputs": [
    {
     "data": {
      "text/html": [
       "<div>\n",
       "<style scoped>\n",
       "    .dataframe tbody tr th:only-of-type {\n",
       "        vertical-align: middle;\n",
       "    }\n",
       "\n",
       "    .dataframe tbody tr th {\n",
       "        vertical-align: top;\n",
       "    }\n",
       "\n",
       "    .dataframe thead th {\n",
       "        text-align: right;\n",
       "    }\n",
       "</style>\n",
       "<table border=\"1\" class=\"dataframe\">\n",
       "  <thead>\n",
       "    <tr style=\"text-align: right;\">\n",
       "      <th>term_id</th>\n",
       "      <th>44426</th>\n",
       "      <th>41109</th>\n",
       "      <th>17248</th>\n",
       "      <th>49694</th>\n",
       "      <th>4799</th>\n",
       "      <th>5249</th>\n",
       "      <th>49444</th>\n",
       "      <th>19620</th>\n",
       "      <th>32656</th>\n",
       "      <th>47697</th>\n",
       "      <th>...</th>\n",
       "      <th>42699</th>\n",
       "      <th>27486</th>\n",
       "      <th>22741</th>\n",
       "      <th>48189</th>\n",
       "      <th>4806</th>\n",
       "      <th>37791</th>\n",
       "      <th>6702</th>\n",
       "      <th>46029</th>\n",
       "      <th>2760</th>\n",
       "      <th>28723</th>\n",
       "    </tr>\n",
       "    <tr>\n",
       "      <th>term_id</th>\n",
       "      <th></th>\n",
       "      <th></th>\n",
       "      <th></th>\n",
       "      <th></th>\n",
       "      <th></th>\n",
       "      <th></th>\n",
       "      <th></th>\n",
       "      <th></th>\n",
       "      <th></th>\n",
       "      <th></th>\n",
       "      <th></th>\n",
       "      <th></th>\n",
       "      <th></th>\n",
       "      <th></th>\n",
       "      <th></th>\n",
       "      <th></th>\n",
       "      <th></th>\n",
       "      <th></th>\n",
       "      <th></th>\n",
       "      <th></th>\n",
       "      <th></th>\n",
       "    </tr>\n",
       "  </thead>\n",
       "  <tbody>\n",
       "    <tr>\n",
       "      <th>44426</th>\n",
       "      <td>-0.063371</td>\n",
       "      <td>0.036164</td>\n",
       "      <td>0.087902</td>\n",
       "      <td>-0.212614</td>\n",
       "      <td>0.049258</td>\n",
       "      <td>0.000000</td>\n",
       "      <td>0.000000</td>\n",
       "      <td>0.000000</td>\n",
       "      <td>0.000000</td>\n",
       "      <td>0.000000</td>\n",
       "      <td>...</td>\n",
       "      <td>0.025636</td>\n",
       "      <td>-0.008460</td>\n",
       "      <td>-0.020451</td>\n",
       "      <td>-0.021952</td>\n",
       "      <td>0.058582</td>\n",
       "      <td>0.017052</td>\n",
       "      <td>-0.211563</td>\n",
       "      <td>0.034048</td>\n",
       "      <td>-0.259724</td>\n",
       "      <td>0.899484</td>\n",
       "    </tr>\n",
       "    <tr>\n",
       "      <th>41109</th>\n",
       "      <td>0.100948</td>\n",
       "      <td>-0.014685</td>\n",
       "      <td>0.107983</td>\n",
       "      <td>-0.080295</td>\n",
       "      <td>-0.129709</td>\n",
       "      <td>0.020802</td>\n",
       "      <td>0.048033</td>\n",
       "      <td>-0.017662</td>\n",
       "      <td>0.023792</td>\n",
       "      <td>-0.031113</td>\n",
       "      <td>...</td>\n",
       "      <td>0.023495</td>\n",
       "      <td>-0.009519</td>\n",
       "      <td>-0.021488</td>\n",
       "      <td>-0.024643</td>\n",
       "      <td>0.067658</td>\n",
       "      <td>0.021713</td>\n",
       "      <td>-0.531287</td>\n",
       "      <td>-0.602140</td>\n",
       "      <td>0.246196</td>\n",
       "      <td>-0.044683</td>\n",
       "    </tr>\n",
       "    <tr>\n",
       "      <th>17248</th>\n",
       "      <td>-0.124284</td>\n",
       "      <td>0.412217</td>\n",
       "      <td>0.128354</td>\n",
       "      <td>-0.005571</td>\n",
       "      <td>-0.092686</td>\n",
       "      <td>0.005778</td>\n",
       "      <td>0.012634</td>\n",
       "      <td>-0.001559</td>\n",
       "      <td>0.008194</td>\n",
       "      <td>0.031400</td>\n",
       "      <td>...</td>\n",
       "      <td>-0.010494</td>\n",
       "      <td>0.040961</td>\n",
       "      <td>0.001641</td>\n",
       "      <td>0.003098</td>\n",
       "      <td>-0.000151</td>\n",
       "      <td>-0.113476</td>\n",
       "      <td>-0.262637</td>\n",
       "      <td>0.021653</td>\n",
       "      <td>-0.542041</td>\n",
       "      <td>-0.216968</td>\n",
       "    </tr>\n",
       "    <tr>\n",
       "      <th>49694</th>\n",
       "      <td>0.416287</td>\n",
       "      <td>-0.174308</td>\n",
       "      <td>-0.106791</td>\n",
       "      <td>-0.191686</td>\n",
       "      <td>-0.190630</td>\n",
       "      <td>0.185505</td>\n",
       "      <td>0.078309</td>\n",
       "      <td>0.021562</td>\n",
       "      <td>0.060506</td>\n",
       "      <td>-0.026048</td>\n",
       "      <td>...</td>\n",
       "      <td>0.060518</td>\n",
       "      <td>-0.278606</td>\n",
       "      <td>0.041015</td>\n",
       "      <td>0.034480</td>\n",
       "      <td>0.052778</td>\n",
       "      <td>0.144765</td>\n",
       "      <td>-0.058364</td>\n",
       "      <td>0.005703</td>\n",
       "      <td>-0.187123</td>\n",
       "      <td>-0.082608</td>\n",
       "    </tr>\n",
       "    <tr>\n",
       "      <th>4799</th>\n",
       "      <td>0.440061</td>\n",
       "      <td>0.453979</td>\n",
       "      <td>-0.091289</td>\n",
       "      <td>-0.042645</td>\n",
       "      <td>0.097410</td>\n",
       "      <td>-0.057657</td>\n",
       "      <td>-0.057810</td>\n",
       "      <td>-0.031031</td>\n",
       "      <td>0.004876</td>\n",
       "      <td>0.036678</td>\n",
       "      <td>...</td>\n",
       "      <td>0.044848</td>\n",
       "      <td>0.063016</td>\n",
       "      <td>-0.007799</td>\n",
       "      <td>-0.018086</td>\n",
       "      <td>0.221108</td>\n",
       "      <td>0.592021</td>\n",
       "      <td>0.023632</td>\n",
       "      <td>0.000604</td>\n",
       "      <td>-0.070639</td>\n",
       "      <td>-0.042090</td>\n",
       "    </tr>\n",
       "  </tbody>\n",
       "</table>\n",
       "<p>5 rows × 8000 columns</p>\n",
       "</div>"
      ],
      "text/plain": [
       "term_id     44426     41109     17248     49694     4799      5249      49444  \\\n",
       "term_id                                                                         \n",
       "44426   -0.063371  0.036164  0.087902 -0.212614  0.049258  0.000000  0.000000   \n",
       "41109    0.100948 -0.014685  0.107983 -0.080295 -0.129709  0.020802  0.048033   \n",
       "17248   -0.124284  0.412217  0.128354 -0.005571 -0.092686  0.005778  0.012634   \n",
       "49694    0.416287 -0.174308 -0.106791 -0.191686 -0.190630  0.185505  0.078309   \n",
       "4799     0.440061  0.453979 -0.091289 -0.042645  0.097410 -0.057657 -0.057810   \n",
       "\n",
       "term_id     19620     32656     47697  ...     42699     27486     22741  \\\n",
       "term_id                                ...                                 \n",
       "44426    0.000000  0.000000  0.000000  ...  0.025636 -0.008460 -0.020451   \n",
       "41109   -0.017662  0.023792 -0.031113  ...  0.023495 -0.009519 -0.021488   \n",
       "17248   -0.001559  0.008194  0.031400  ... -0.010494  0.040961  0.001641   \n",
       "49694    0.021562  0.060506 -0.026048  ...  0.060518 -0.278606  0.041015   \n",
       "4799    -0.031031  0.004876  0.036678  ...  0.044848  0.063016 -0.007799   \n",
       "\n",
       "term_id     48189     4806      37791     6702      46029     2760      28723  \n",
       "term_id                                                                        \n",
       "44426   -0.021952  0.058582  0.017052 -0.211563  0.034048 -0.259724  0.899484  \n",
       "41109   -0.024643  0.067658  0.021713 -0.531287 -0.602140  0.246196 -0.044683  \n",
       "17248    0.003098 -0.000151 -0.113476 -0.262637  0.021653 -0.542041 -0.216968  \n",
       "49694    0.034480  0.052778  0.144765 -0.058364  0.005703 -0.187123 -0.082608  \n",
       "4799    -0.018086  0.221108  0.592021  0.023632  0.000604 -0.070639 -0.042090  \n",
       "\n",
       "[5 rows x 8000 columns]"
      ]
     },
     "execution_count": 46,
     "metadata": {},
     "output_type": "execute_result"
    }
   ],
   "source": [
    "eig_vec_table.head()"
   ]
  },
  {
   "cell_type": "code",
   "execution_count": 47,
   "id": "45e58905-f74e-4a89-8799-018a58f45e8c",
   "metadata": {},
   "outputs": [
    {
     "data": {
      "text/html": [
       "<div>\n",
       "<style scoped>\n",
       "    .dataframe tbody tr th:only-of-type {\n",
       "        vertical-align: middle;\n",
       "    }\n",
       "\n",
       "    .dataframe tbody tr th {\n",
       "        vertical-align: top;\n",
       "    }\n",
       "\n",
       "    .dataframe thead th {\n",
       "        text-align: right;\n",
       "    }\n",
       "</style>\n",
       "<table border=\"1\" class=\"dataframe\">\n",
       "  <thead>\n",
       "    <tr style=\"text-align: right;\">\n",
       "      <th></th>\n",
       "      <th>eig_val</th>\n",
       "    </tr>\n",
       "    <tr>\n",
       "      <th>term_id</th>\n",
       "      <th></th>\n",
       "    </tr>\n",
       "  </thead>\n",
       "  <tbody>\n",
       "    <tr>\n",
       "      <th>44426</th>\n",
       "      <td>-3.631773e-20</td>\n",
       "    </tr>\n",
       "    <tr>\n",
       "      <th>41109</th>\n",
       "      <td>-2.121491e-20</td>\n",
       "    </tr>\n",
       "    <tr>\n",
       "      <th>17248</th>\n",
       "      <td>-1.939297e-20</td>\n",
       "    </tr>\n",
       "    <tr>\n",
       "      <th>49694</th>\n",
       "      <td>-1.436382e-20</td>\n",
       "    </tr>\n",
       "    <tr>\n",
       "      <th>4799</th>\n",
       "      <td>-7.398657e-21</td>\n",
       "    </tr>\n",
       "  </tbody>\n",
       "</table>\n",
       "</div>"
      ],
      "text/plain": [
       "              eig_val\n",
       "term_id              \n",
       "44426   -3.631773e-20\n",
       "41109   -2.121491e-20\n",
       "17248   -1.939297e-20\n",
       "49694   -1.436382e-20\n",
       "4799    -7.398657e-21"
      ]
     },
     "execution_count": 47,
     "metadata": {},
     "output_type": "execute_result"
    }
   ],
   "source": [
    "eig_val_table.head()"
   ]
  },
  {
   "cell_type": "code",
   "execution_count": 48,
   "id": "14dc3641-3ac1-49b4-8241-f71215a9d9e7",
   "metadata": {},
   "outputs": [
    {
     "data": {
      "text/html": [
       "<div>\n",
       "<style scoped>\n",
       "    .dataframe tbody tr th:only-of-type {\n",
       "        vertical-align: middle;\n",
       "    }\n",
       "\n",
       "    .dataframe tbody tr th {\n",
       "        vertical-align: top;\n",
       "    }\n",
       "\n",
       "    .dataframe thead th {\n",
       "        text-align: right;\n",
       "    }\n",
       "</style>\n",
       "<table border=\"1\" class=\"dataframe\">\n",
       "  <thead>\n",
       "    <tr style=\"text-align: right;\">\n",
       "      <th></th>\n",
       "      <th>eig_val</th>\n",
       "      <th>44426</th>\n",
       "      <th>41109</th>\n",
       "      <th>17248</th>\n",
       "      <th>49694</th>\n",
       "      <th>4799</th>\n",
       "      <th>5249</th>\n",
       "      <th>49444</th>\n",
       "      <th>19620</th>\n",
       "      <th>32656</th>\n",
       "      <th>...</th>\n",
       "      <th>42699</th>\n",
       "      <th>27486</th>\n",
       "      <th>22741</th>\n",
       "      <th>48189</th>\n",
       "      <th>4806</th>\n",
       "      <th>37791</th>\n",
       "      <th>6702</th>\n",
       "      <th>46029</th>\n",
       "      <th>2760</th>\n",
       "      <th>28723</th>\n",
       "    </tr>\n",
       "    <tr>\n",
       "      <th>term_id</th>\n",
       "      <th></th>\n",
       "      <th></th>\n",
       "      <th></th>\n",
       "      <th></th>\n",
       "      <th></th>\n",
       "      <th></th>\n",
       "      <th></th>\n",
       "      <th></th>\n",
       "      <th></th>\n",
       "      <th></th>\n",
       "      <th></th>\n",
       "      <th></th>\n",
       "      <th></th>\n",
       "      <th></th>\n",
       "      <th></th>\n",
       "      <th></th>\n",
       "      <th></th>\n",
       "      <th></th>\n",
       "      <th></th>\n",
       "      <th></th>\n",
       "      <th></th>\n",
       "    </tr>\n",
       "  </thead>\n",
       "  <tbody>\n",
       "    <tr>\n",
       "      <th>44426</th>\n",
       "      <td>-3.631773e-20</td>\n",
       "      <td>-0.063371</td>\n",
       "      <td>0.100948</td>\n",
       "      <td>-0.124284</td>\n",
       "      <td>0.416287</td>\n",
       "      <td>0.440061</td>\n",
       "      <td>-0.185656</td>\n",
       "      <td>-0.468540</td>\n",
       "      <td>-0.227847</td>\n",
       "      <td>0.189534</td>\n",
       "      <td>...</td>\n",
       "      <td>0.000018</td>\n",
       "      <td>0.000222</td>\n",
       "      <td>0.000064</td>\n",
       "      <td>-0.001874</td>\n",
       "      <td>0.000713</td>\n",
       "      <td>-0.001885</td>\n",
       "      <td>0.000418</td>\n",
       "      <td>-0.000880</td>\n",
       "      <td>0.000325</td>\n",
       "      <td>-0.002048</td>\n",
       "    </tr>\n",
       "    <tr>\n",
       "      <th>41109</th>\n",
       "      <td>-2.121491e-20</td>\n",
       "      <td>0.036164</td>\n",
       "      <td>-0.014685</td>\n",
       "      <td>0.412217</td>\n",
       "      <td>-0.174308</td>\n",
       "      <td>0.453979</td>\n",
       "      <td>0.130788</td>\n",
       "      <td>-0.073306</td>\n",
       "      <td>0.045432</td>\n",
       "      <td>-0.536874</td>\n",
       "      <td>...</td>\n",
       "      <td>0.000681</td>\n",
       "      <td>0.001275</td>\n",
       "      <td>-0.000650</td>\n",
       "      <td>0.001864</td>\n",
       "      <td>0.000420</td>\n",
       "      <td>-0.001733</td>\n",
       "      <td>-0.000020</td>\n",
       "      <td>-0.001435</td>\n",
       "      <td>0.000659</td>\n",
       "      <td>-0.000404</td>\n",
       "    </tr>\n",
       "    <tr>\n",
       "      <th>17248</th>\n",
       "      <td>-1.939297e-20</td>\n",
       "      <td>0.087902</td>\n",
       "      <td>0.107983</td>\n",
       "      <td>0.128354</td>\n",
       "      <td>-0.106791</td>\n",
       "      <td>-0.091289</td>\n",
       "      <td>0.154320</td>\n",
       "      <td>-0.405488</td>\n",
       "      <td>-0.497631</td>\n",
       "      <td>0.070154</td>\n",
       "      <td>...</td>\n",
       "      <td>0.000112</td>\n",
       "      <td>-0.003147</td>\n",
       "      <td>0.000255</td>\n",
       "      <td>0.000619</td>\n",
       "      <td>0.000362</td>\n",
       "      <td>0.001331</td>\n",
       "      <td>0.000394</td>\n",
       "      <td>0.001179</td>\n",
       "      <td>-0.000744</td>\n",
       "      <td>0.000413</td>\n",
       "    </tr>\n",
       "    <tr>\n",
       "      <th>49694</th>\n",
       "      <td>-1.436382e-20</td>\n",
       "      <td>-0.212614</td>\n",
       "      <td>-0.080295</td>\n",
       "      <td>-0.005571</td>\n",
       "      <td>-0.191686</td>\n",
       "      <td>-0.042645</td>\n",
       "      <td>0.187437</td>\n",
       "      <td>-0.040192</td>\n",
       "      <td>-0.152415</td>\n",
       "      <td>-0.138443</td>\n",
       "      <td>...</td>\n",
       "      <td>0.000327</td>\n",
       "      <td>-0.001319</td>\n",
       "      <td>-0.002934</td>\n",
       "      <td>-0.000501</td>\n",
       "      <td>-0.001314</td>\n",
       "      <td>-0.000512</td>\n",
       "      <td>-0.002239</td>\n",
       "      <td>-0.000183</td>\n",
       "      <td>-0.003833</td>\n",
       "      <td>-0.000549</td>\n",
       "    </tr>\n",
       "    <tr>\n",
       "      <th>4799</th>\n",
       "      <td>-7.398657e-21</td>\n",
       "      <td>0.049258</td>\n",
       "      <td>-0.129709</td>\n",
       "      <td>-0.092686</td>\n",
       "      <td>-0.190630</td>\n",
       "      <td>0.097410</td>\n",
       "      <td>0.012716</td>\n",
       "      <td>0.109198</td>\n",
       "      <td>-0.224612</td>\n",
       "      <td>-0.044133</td>\n",
       "      <td>...</td>\n",
       "      <td>0.001281</td>\n",
       "      <td>0.001048</td>\n",
       "      <td>0.000102</td>\n",
       "      <td>0.001812</td>\n",
       "      <td>-0.000118</td>\n",
       "      <td>0.000112</td>\n",
       "      <td>-0.000907</td>\n",
       "      <td>-0.000211</td>\n",
       "      <td>-0.002222</td>\n",
       "      <td>0.000851</td>\n",
       "    </tr>\n",
       "  </tbody>\n",
       "</table>\n",
       "<p>5 rows × 8001 columns</p>\n",
       "</div>"
      ],
      "text/plain": [
       "              eig_val     44426     41109     17248     49694      4799  \\\n",
       "term_id                                                                   \n",
       "44426   -3.631773e-20 -0.063371  0.100948 -0.124284  0.416287  0.440061   \n",
       "41109   -2.121491e-20  0.036164 -0.014685  0.412217 -0.174308  0.453979   \n",
       "17248   -1.939297e-20  0.087902  0.107983  0.128354 -0.106791 -0.091289   \n",
       "49694   -1.436382e-20 -0.212614 -0.080295 -0.005571 -0.191686 -0.042645   \n",
       "4799    -7.398657e-21  0.049258 -0.129709 -0.092686 -0.190630  0.097410   \n",
       "\n",
       "             5249     49444     19620     32656  ...     42699     27486  \\\n",
       "term_id                                          ...                       \n",
       "44426   -0.185656 -0.468540 -0.227847  0.189534  ...  0.000018  0.000222   \n",
       "41109    0.130788 -0.073306  0.045432 -0.536874  ...  0.000681  0.001275   \n",
       "17248    0.154320 -0.405488 -0.497631  0.070154  ...  0.000112 -0.003147   \n",
       "49694    0.187437 -0.040192 -0.152415 -0.138443  ...  0.000327 -0.001319   \n",
       "4799     0.012716  0.109198 -0.224612 -0.044133  ...  0.001281  0.001048   \n",
       "\n",
       "            22741     48189      4806     37791      6702     46029      2760  \\\n",
       "term_id                                                                         \n",
       "44426    0.000064 -0.001874  0.000713 -0.001885  0.000418 -0.000880  0.000325   \n",
       "41109   -0.000650  0.001864  0.000420 -0.001733 -0.000020 -0.001435  0.000659   \n",
       "17248    0.000255  0.000619  0.000362  0.001331  0.000394  0.001179 -0.000744   \n",
       "49694   -0.002934 -0.000501 -0.001314 -0.000512 -0.002239 -0.000183 -0.003833   \n",
       "4799     0.000102  0.001812 -0.000118  0.000112 -0.000907 -0.000211 -0.002222   \n",
       "\n",
       "            28723  \n",
       "term_id            \n",
       "44426   -0.002048  \n",
       "41109   -0.000404  \n",
       "17248    0.000413  \n",
       "49694   -0.000549  \n",
       "4799     0.000851  \n",
       "\n",
       "[5 rows x 8001 columns]"
      ]
     },
     "execution_count": 48,
     "metadata": {},
     "output_type": "execute_result"
    }
   ],
   "source": [
    "#associate each eigenvalue with its corresponding column in the eigenvalue matrix\n",
    "#transpose eig_vec_table and join tables \n",
    "eig_table = eig_val_table.join(eig_vec_table.T)\n",
    "eig_table.head()"
   ]
  },
  {
   "cell_type": "code",
   "execution_count": 49,
   "id": "9ccc6d05-64b3-46b4-9611-272a09297c29",
   "metadata": {},
   "outputs": [
    {
     "data": {
      "text/html": [
       "<div>\n",
       "<style scoped>\n",
       "    .dataframe tbody tr th:only-of-type {\n",
       "        vertical-align: middle;\n",
       "    }\n",
       "\n",
       "    .dataframe tbody tr th {\n",
       "        vertical-align: top;\n",
       "    }\n",
       "\n",
       "    .dataframe thead th {\n",
       "        text-align: right;\n",
       "    }\n",
       "</style>\n",
       "<table border=\"1\" class=\"dataframe\">\n",
       "  <thead>\n",
       "    <tr style=\"text-align: right;\">\n",
       "      <th></th>\n",
       "      <th>eig_val</th>\n",
       "      <th>44426</th>\n",
       "      <th>41109</th>\n",
       "      <th>17248</th>\n",
       "      <th>49694</th>\n",
       "      <th>4799</th>\n",
       "      <th>5249</th>\n",
       "      <th>49444</th>\n",
       "      <th>19620</th>\n",
       "      <th>32656</th>\n",
       "      <th>...</th>\n",
       "      <th>27486</th>\n",
       "      <th>22741</th>\n",
       "      <th>48189</th>\n",
       "      <th>4806</th>\n",
       "      <th>37791</th>\n",
       "      <th>6702</th>\n",
       "      <th>46029</th>\n",
       "      <th>2760</th>\n",
       "      <th>28723</th>\n",
       "      <th>exp_var</th>\n",
       "    </tr>\n",
       "  </thead>\n",
       "  <tbody>\n",
       "    <tr>\n",
       "      <th>PC0</th>\n",
       "      <td>1.442651e-05</td>\n",
       "      <td>0.899484</td>\n",
       "      <td>-0.044683</td>\n",
       "      <td>-0.216968</td>\n",
       "      <td>-0.082608</td>\n",
       "      <td>-0.042090</td>\n",
       "      <td>-0.009603</td>\n",
       "      <td>-0.056238</td>\n",
       "      <td>-0.016771</td>\n",
       "      <td>-0.076923</td>\n",
       "      <td>...</td>\n",
       "      <td>-0.000350</td>\n",
       "      <td>-0.000114</td>\n",
       "      <td>-0.000148</td>\n",
       "      <td>-0.000110</td>\n",
       "      <td>-0.000321</td>\n",
       "      <td>-0.000102</td>\n",
       "      <td>-0.000273</td>\n",
       "      <td>-0.000111</td>\n",
       "      <td>-0.000224</td>\n",
       "      <td>22.76</td>\n",
       "    </tr>\n",
       "    <tr>\n",
       "      <th>PC1</th>\n",
       "      <td>1.273266e-05</td>\n",
       "      <td>-0.259724</td>\n",
       "      <td>0.246196</td>\n",
       "      <td>-0.542041</td>\n",
       "      <td>-0.187123</td>\n",
       "      <td>-0.070639</td>\n",
       "      <td>0.016333</td>\n",
       "      <td>-0.128200</td>\n",
       "      <td>0.092406</td>\n",
       "      <td>-0.190916</td>\n",
       "      <td>...</td>\n",
       "      <td>0.001414</td>\n",
       "      <td>0.000238</td>\n",
       "      <td>0.000163</td>\n",
       "      <td>0.000250</td>\n",
       "      <td>-0.000272</td>\n",
       "      <td>0.000240</td>\n",
       "      <td>-0.000063</td>\n",
       "      <td>0.000197</td>\n",
       "      <td>0.000068</td>\n",
       "      <td>20.09</td>\n",
       "    </tr>\n",
       "    <tr>\n",
       "      <th>PC2</th>\n",
       "      <td>1.129413e-05</td>\n",
       "      <td>0.034048</td>\n",
       "      <td>-0.602140</td>\n",
       "      <td>0.021653</td>\n",
       "      <td>0.005703</td>\n",
       "      <td>0.000604</td>\n",
       "      <td>-0.001569</td>\n",
       "      <td>0.003237</td>\n",
       "      <td>-0.226004</td>\n",
       "      <td>0.007543</td>\n",
       "      <td>...</td>\n",
       "      <td>0.002690</td>\n",
       "      <td>-0.000020</td>\n",
       "      <td>-0.000017</td>\n",
       "      <td>-0.000012</td>\n",
       "      <td>-0.000004</td>\n",
       "      <td>-0.000027</td>\n",
       "      <td>0.000132</td>\n",
       "      <td>-0.000043</td>\n",
       "      <td>0.000163</td>\n",
       "      <td>17.82</td>\n",
       "    </tr>\n",
       "    <tr>\n",
       "      <th>PC3</th>\n",
       "      <td>9.629301e-06</td>\n",
       "      <td>-0.211563</td>\n",
       "      <td>-0.531287</td>\n",
       "      <td>-0.262637</td>\n",
       "      <td>-0.058364</td>\n",
       "      <td>0.023632</td>\n",
       "      <td>0.068028</td>\n",
       "      <td>-0.036322</td>\n",
       "      <td>-0.199411</td>\n",
       "      <td>-0.090422</td>\n",
       "      <td>...</td>\n",
       "      <td>-0.002065</td>\n",
       "      <td>0.000729</td>\n",
       "      <td>0.000710</td>\n",
       "      <td>0.000717</td>\n",
       "      <td>0.000585</td>\n",
       "      <td>0.000710</td>\n",
       "      <td>0.000479</td>\n",
       "      <td>0.000697</td>\n",
       "      <td>0.000455</td>\n",
       "      <td>15.19</td>\n",
       "    </tr>\n",
       "    <tr>\n",
       "      <th>PC4</th>\n",
       "      <td>4.623427e-06</td>\n",
       "      <td>0.017052</td>\n",
       "      <td>0.021713</td>\n",
       "      <td>-0.113476</td>\n",
       "      <td>0.144765</td>\n",
       "      <td>0.592021</td>\n",
       "      <td>-0.187590</td>\n",
       "      <td>0.248125</td>\n",
       "      <td>0.008150</td>\n",
       "      <td>-0.019246</td>\n",
       "      <td>...</td>\n",
       "      <td>0.000100</td>\n",
       "      <td>-0.000294</td>\n",
       "      <td>-0.000091</td>\n",
       "      <td>-0.000335</td>\n",
       "      <td>0.003306</td>\n",
       "      <td>-0.000299</td>\n",
       "      <td>0.002295</td>\n",
       "      <td>0.000013</td>\n",
       "      <td>0.001491</td>\n",
       "      <td>7.29</td>\n",
       "    </tr>\n",
       "    <tr>\n",
       "      <th>PC5</th>\n",
       "      <td>3.852601e-06</td>\n",
       "      <td>0.058582</td>\n",
       "      <td>0.067658</td>\n",
       "      <td>-0.000151</td>\n",
       "      <td>0.052778</td>\n",
       "      <td>0.221108</td>\n",
       "      <td>0.496932</td>\n",
       "      <td>0.099480</td>\n",
       "      <td>0.025394</td>\n",
       "      <td>0.007337</td>\n",
       "      <td>...</td>\n",
       "      <td>-0.000069</td>\n",
       "      <td>-0.001065</td>\n",
       "      <td>-0.000962</td>\n",
       "      <td>-0.001076</td>\n",
       "      <td>0.000665</td>\n",
       "      <td>-0.001050</td>\n",
       "      <td>0.000225</td>\n",
       "      <td>-0.000923</td>\n",
       "      <td>-0.000183</td>\n",
       "      <td>6.08</td>\n",
       "    </tr>\n",
       "    <tr>\n",
       "      <th>PC6</th>\n",
       "      <td>1.645072e-06</td>\n",
       "      <td>-0.021952</td>\n",
       "      <td>-0.024643</td>\n",
       "      <td>0.003098</td>\n",
       "      <td>0.034480</td>\n",
       "      <td>-0.018086</td>\n",
       "      <td>-0.010479</td>\n",
       "      <td>-0.006281</td>\n",
       "      <td>-0.009249</td>\n",
       "      <td>0.000733</td>\n",
       "      <td>...</td>\n",
       "      <td>0.000350</td>\n",
       "      <td>0.001259</td>\n",
       "      <td>0.001678</td>\n",
       "      <td>0.001285</td>\n",
       "      <td>0.000535</td>\n",
       "      <td>0.001388</td>\n",
       "      <td>0.000171</td>\n",
       "      <td>0.001469</td>\n",
       "      <td>0.001054</td>\n",
       "      <td>2.60</td>\n",
       "    </tr>\n",
       "    <tr>\n",
       "      <th>PC7</th>\n",
       "      <td>1.264120e-06</td>\n",
       "      <td>-0.020451</td>\n",
       "      <td>-0.021488</td>\n",
       "      <td>0.001641</td>\n",
       "      <td>0.041015</td>\n",
       "      <td>-0.007799</td>\n",
       "      <td>-0.001802</td>\n",
       "      <td>-0.008713</td>\n",
       "      <td>-0.008065</td>\n",
       "      <td>0.000678</td>\n",
       "      <td>...</td>\n",
       "      <td>0.000276</td>\n",
       "      <td>0.000792</td>\n",
       "      <td>0.000983</td>\n",
       "      <td>0.001604</td>\n",
       "      <td>-0.000045</td>\n",
       "      <td>0.001762</td>\n",
       "      <td>0.000179</td>\n",
       "      <td>0.001273</td>\n",
       "      <td>0.001494</td>\n",
       "      <td>1.99</td>\n",
       "    </tr>\n",
       "    <tr>\n",
       "      <th>PC8</th>\n",
       "      <td>7.090870e-07</td>\n",
       "      <td>-0.008460</td>\n",
       "      <td>-0.009519</td>\n",
       "      <td>0.040961</td>\n",
       "      <td>-0.278606</td>\n",
       "      <td>0.063016</td>\n",
       "      <td>-0.008412</td>\n",
       "      <td>0.036485</td>\n",
       "      <td>-0.003573</td>\n",
       "      <td>0.015921</td>\n",
       "      <td>...</td>\n",
       "      <td>0.001253</td>\n",
       "      <td>0.003362</td>\n",
       "      <td>-0.015601</td>\n",
       "      <td>0.002071</td>\n",
       "      <td>0.003249</td>\n",
       "      <td>0.001432</td>\n",
       "      <td>0.001590</td>\n",
       "      <td>-0.000866</td>\n",
       "      <td>0.000704</td>\n",
       "      <td>1.12</td>\n",
       "    </tr>\n",
       "    <tr>\n",
       "      <th>PC9</th>\n",
       "      <td>6.508140e-07</td>\n",
       "      <td>0.025636</td>\n",
       "      <td>0.023495</td>\n",
       "      <td>-0.010494</td>\n",
       "      <td>0.060518</td>\n",
       "      <td>0.044848</td>\n",
       "      <td>-0.007575</td>\n",
       "      <td>0.015379</td>\n",
       "      <td>0.008818</td>\n",
       "      <td>-0.004625</td>\n",
       "      <td>...</td>\n",
       "      <td>0.001008</td>\n",
       "      <td>0.000995</td>\n",
       "      <td>0.005654</td>\n",
       "      <td>0.000196</td>\n",
       "      <td>0.004559</td>\n",
       "      <td>-0.002374</td>\n",
       "      <td>-0.000729</td>\n",
       "      <td>-0.010319</td>\n",
       "      <td>-0.003288</td>\n",
       "      <td>1.03</td>\n",
       "    </tr>\n",
       "  </tbody>\n",
       "</table>\n",
       "<p>10 rows × 8002 columns</p>\n",
       "</div>"
      ],
      "text/plain": [
       "          eig_val     44426     41109     17248     49694      4799      5249  \\\n",
       "PC0  1.442651e-05  0.899484 -0.044683 -0.216968 -0.082608 -0.042090 -0.009603   \n",
       "PC1  1.273266e-05 -0.259724  0.246196 -0.542041 -0.187123 -0.070639  0.016333   \n",
       "PC2  1.129413e-05  0.034048 -0.602140  0.021653  0.005703  0.000604 -0.001569   \n",
       "PC3  9.629301e-06 -0.211563 -0.531287 -0.262637 -0.058364  0.023632  0.068028   \n",
       "PC4  4.623427e-06  0.017052  0.021713 -0.113476  0.144765  0.592021 -0.187590   \n",
       "PC5  3.852601e-06  0.058582  0.067658 -0.000151  0.052778  0.221108  0.496932   \n",
       "PC6  1.645072e-06 -0.021952 -0.024643  0.003098  0.034480 -0.018086 -0.010479   \n",
       "PC7  1.264120e-06 -0.020451 -0.021488  0.001641  0.041015 -0.007799 -0.001802   \n",
       "PC8  7.090870e-07 -0.008460 -0.009519  0.040961 -0.278606  0.063016 -0.008412   \n",
       "PC9  6.508140e-07  0.025636  0.023495 -0.010494  0.060518  0.044848 -0.007575   \n",
       "\n",
       "        49444     19620     32656  ...     27486     22741     48189  \\\n",
       "PC0 -0.056238 -0.016771 -0.076923  ... -0.000350 -0.000114 -0.000148   \n",
       "PC1 -0.128200  0.092406 -0.190916  ...  0.001414  0.000238  0.000163   \n",
       "PC2  0.003237 -0.226004  0.007543  ...  0.002690 -0.000020 -0.000017   \n",
       "PC3 -0.036322 -0.199411 -0.090422  ... -0.002065  0.000729  0.000710   \n",
       "PC4  0.248125  0.008150 -0.019246  ...  0.000100 -0.000294 -0.000091   \n",
       "PC5  0.099480  0.025394  0.007337  ... -0.000069 -0.001065 -0.000962   \n",
       "PC6 -0.006281 -0.009249  0.000733  ...  0.000350  0.001259  0.001678   \n",
       "PC7 -0.008713 -0.008065  0.000678  ...  0.000276  0.000792  0.000983   \n",
       "PC8  0.036485 -0.003573  0.015921  ...  0.001253  0.003362 -0.015601   \n",
       "PC9  0.015379  0.008818 -0.004625  ...  0.001008  0.000995  0.005654   \n",
       "\n",
       "         4806     37791      6702     46029      2760     28723  exp_var  \n",
       "PC0 -0.000110 -0.000321 -0.000102 -0.000273 -0.000111 -0.000224    22.76  \n",
       "PC1  0.000250 -0.000272  0.000240 -0.000063  0.000197  0.000068    20.09  \n",
       "PC2 -0.000012 -0.000004 -0.000027  0.000132 -0.000043  0.000163    17.82  \n",
       "PC3  0.000717  0.000585  0.000710  0.000479  0.000697  0.000455    15.19  \n",
       "PC4 -0.000335  0.003306 -0.000299  0.002295  0.000013  0.001491     7.29  \n",
       "PC5 -0.001076  0.000665 -0.001050  0.000225 -0.000923 -0.000183     6.08  \n",
       "PC6  0.001285  0.000535  0.001388  0.000171  0.001469  0.001054     2.60  \n",
       "PC7  0.001604 -0.000045  0.001762  0.000179  0.001273  0.001494     1.99  \n",
       "PC8  0.002071  0.003249  0.001432  0.001590 -0.000866  0.000704     1.12  \n",
       "PC9  0.000196  0.004559 -0.002374 -0.000729 -0.010319 -0.003288     1.03  \n",
       "\n",
       "[10 rows x 8002 columns]"
      ]
     },
     "execution_count": 49,
     "metadata": {},
     "output_type": "execute_result"
    }
   ],
   "source": [
    "#Extract the the top 10 components using explained variance as your metric\n",
    "eig_table['exp_var'] = np.round((eig_table.eig_val/eig_table.eig_val.sum()) * 100, 2)\n",
    "\n",
    "top = eig_table.sort_values('exp_var', ascending=False).head(10).reset_index(drop=True)\n",
    "top.index.name = 'comp_id'\n",
    "top.index = [\"PC{}\".format(i) for i in top.index.tolist()]\n",
    "top"
   ]
  },
  {
   "cell_type": "code",
   "execution_count": 50,
   "id": "5a80ca5f-1286-44d3-9fa1-2be93fd9ec65",
   "metadata": {},
   "outputs": [
    {
     "data": {
      "text/html": [
       "<div>\n",
       "<style scoped>\n",
       "    .dataframe tbody tr th:only-of-type {\n",
       "        vertical-align: middle;\n",
       "    }\n",
       "\n",
       "    .dataframe tbody tr th {\n",
       "        vertical-align: top;\n",
       "    }\n",
       "\n",
       "    .dataframe thead th {\n",
       "        text-align: right;\n",
       "    }\n",
       "</style>\n",
       "<table border=\"1\" class=\"dataframe\">\n",
       "  <thead>\n",
       "    <tr style=\"text-align: right;\">\n",
       "      <th></th>\n",
       "      <th></th>\n",
       "      <th>PC0</th>\n",
       "      <th>PC1</th>\n",
       "      <th>PC2</th>\n",
       "      <th>PC3</th>\n",
       "      <th>PC4</th>\n",
       "      <th>PC5</th>\n",
       "      <th>PC6</th>\n",
       "      <th>PC7</th>\n",
       "      <th>PC8</th>\n",
       "      <th>PC9</th>\n",
       "    </tr>\n",
       "    <tr>\n",
       "      <th>author</th>\n",
       "      <th>title</th>\n",
       "      <th></th>\n",
       "      <th></th>\n",
       "      <th></th>\n",
       "      <th></th>\n",
       "      <th></th>\n",
       "      <th></th>\n",
       "      <th></th>\n",
       "      <th></th>\n",
       "      <th></th>\n",
       "      <th></th>\n",
       "    </tr>\n",
       "  </thead>\n",
       "  <tbody>\n",
       "    <tr>\n",
       "      <th>Aristotle</th>\n",
       "      <th>NicomachaenEthics</th>\n",
       "      <td>-0.000314</td>\n",
       "      <td>0.000624</td>\n",
       "      <td>-0.000042</td>\n",
       "      <td>0.001365</td>\n",
       "      <td>-0.000304</td>\n",
       "      <td>-0.000826</td>\n",
       "      <td>0.000403</td>\n",
       "      <td>0.000397</td>\n",
       "      <td>0.000301</td>\n",
       "      <td>-0.000032</td>\n",
       "    </tr>\n",
       "    <tr>\n",
       "      <th>Cicero</th>\n",
       "      <th>OnDuties</th>\n",
       "      <td>-0.001459</td>\n",
       "      <td>0.005701</td>\n",
       "      <td>0.010237</td>\n",
       "      <td>-0.007611</td>\n",
       "      <td>0.000197</td>\n",
       "      <td>0.000409</td>\n",
       "      <td>-0.000061</td>\n",
       "      <td>-0.000005</td>\n",
       "      <td>-0.000016</td>\n",
       "      <td>-0.000004</td>\n",
       "    </tr>\n",
       "    <tr>\n",
       "      <th>Foucault</th>\n",
       "      <th>TheOrderofThings</th>\n",
       "      <td>-0.000359</td>\n",
       "      <td>0.000605</td>\n",
       "      <td>-0.000002</td>\n",
       "      <td>0.001424</td>\n",
       "      <td>-0.000332</td>\n",
       "      <td>-0.000827</td>\n",
       "      <td>0.000247</td>\n",
       "      <td>-0.000172</td>\n",
       "      <td>0.001313</td>\n",
       "      <td>0.002506</td>\n",
       "    </tr>\n",
       "    <tr>\n",
       "      <th>Freire</th>\n",
       "      <th>PedagogyOfTheOppressed</th>\n",
       "      <td>-0.000438</td>\n",
       "      <td>0.000496</td>\n",
       "      <td>-0.000047</td>\n",
       "      <td>0.001599</td>\n",
       "      <td>-0.000359</td>\n",
       "      <td>-0.000909</td>\n",
       "      <td>-0.005359</td>\n",
       "      <td>0.000062</td>\n",
       "      <td>-0.000165</td>\n",
       "      <td>-0.000078</td>\n",
       "    </tr>\n",
       "    <tr>\n",
       "      <th>HannahArendt</th>\n",
       "      <th>TheOriginsofTotalitarianism</th>\n",
       "      <td>-0.000430</td>\n",
       "      <td>0.000563</td>\n",
       "      <td>0.000019</td>\n",
       "      <td>0.001530</td>\n",
       "      <td>-0.000400</td>\n",
       "      <td>-0.000453</td>\n",
       "      <td>0.000381</td>\n",
       "      <td>-0.004676</td>\n",
       "      <td>-0.000164</td>\n",
       "      <td>-0.000326</td>\n",
       "    </tr>\n",
       "  </tbody>\n",
       "</table>\n",
       "</div>"
      ],
      "text/plain": [
       "                                               PC0       PC1       PC2  \\\n",
       "author       title                                                       \n",
       "Aristotle    NicomachaenEthics           -0.000314  0.000624 -0.000042   \n",
       "Cicero       OnDuties                    -0.001459  0.005701  0.010237   \n",
       "Foucault     TheOrderofThings            -0.000359  0.000605 -0.000002   \n",
       "Freire       PedagogyOfTheOppressed      -0.000438  0.000496 -0.000047   \n",
       "HannahArendt TheOriginsofTotalitarianism -0.000430  0.000563  0.000019   \n",
       "\n",
       "                                               PC3       PC4       PC5  \\\n",
       "author       title                                                       \n",
       "Aristotle    NicomachaenEthics            0.001365 -0.000304 -0.000826   \n",
       "Cicero       OnDuties                    -0.007611  0.000197  0.000409   \n",
       "Foucault     TheOrderofThings             0.001424 -0.000332 -0.000827   \n",
       "Freire       PedagogyOfTheOppressed       0.001599 -0.000359 -0.000909   \n",
       "HannahArendt TheOriginsofTotalitarianism  0.001530 -0.000400 -0.000453   \n",
       "\n",
       "                                               PC6       PC7       PC8  \\\n",
       "author       title                                                       \n",
       "Aristotle    NicomachaenEthics            0.000403  0.000397  0.000301   \n",
       "Cicero       OnDuties                    -0.000061 -0.000005 -0.000016   \n",
       "Foucault     TheOrderofThings             0.000247 -0.000172  0.001313   \n",
       "Freire       PedagogyOfTheOppressed      -0.005359  0.000062 -0.000165   \n",
       "HannahArendt TheOriginsofTotalitarianism  0.000381 -0.004676 -0.000164   \n",
       "\n",
       "                                               PC9  \n",
       "author       title                                  \n",
       "Aristotle    NicomachaenEthics           -0.000032  \n",
       "Cicero       OnDuties                    -0.000004  \n",
       "Foucault     TheOrderofThings             0.002506  \n",
       "Freire       PedagogyOfTheOppressed      -0.000078  \n",
       "HannahArendt TheOriginsofTotalitarianism -0.000326  "
      ]
     },
     "execution_count": 50,
     "metadata": {},
     "output_type": "execute_result"
    }
   ],
   "source": [
    "#Project the document matrix onto the reduced component space\n",
    "#creating a document-component table (DCM)\n",
    "#replaces features of DTM with features of transposed component matrix\n",
    "DCM = TFIDF_reduced.dot(top[term_index].T)\n",
    "DCM.head()"
   ]
  },
  {
   "cell_type": "code",
   "execution_count": 51,
   "id": "41558d4a-7c6d-44df-87c9-4b93e0370b44",
   "metadata": {},
   "outputs": [
    {
     "data": {
      "text/html": [
       "<div>\n",
       "<style scoped>\n",
       "    .dataframe tbody tr th:only-of-type {\n",
       "        vertical-align: middle;\n",
       "    }\n",
       "\n",
       "    .dataframe tbody tr th {\n",
       "        vertical-align: top;\n",
       "    }\n",
       "\n",
       "    .dataframe thead th {\n",
       "        text-align: right;\n",
       "    }\n",
       "</style>\n",
       "<table border=\"1\" class=\"dataframe\">\n",
       "  <thead>\n",
       "    <tr style=\"text-align: right;\">\n",
       "      <th></th>\n",
       "      <th>author</th>\n",
       "      <th>PC0</th>\n",
       "      <th>PC1</th>\n",
       "      <th>PC2</th>\n",
       "      <th>PC3</th>\n",
       "      <th>PC4</th>\n",
       "      <th>PC5</th>\n",
       "      <th>PC6</th>\n",
       "      <th>PC7</th>\n",
       "      <th>PC8</th>\n",
       "      <th>PC9</th>\n",
       "    </tr>\n",
       "    <tr>\n",
       "      <th>title</th>\n",
       "      <th></th>\n",
       "      <th></th>\n",
       "      <th></th>\n",
       "      <th></th>\n",
       "      <th></th>\n",
       "      <th></th>\n",
       "      <th></th>\n",
       "      <th></th>\n",
       "      <th></th>\n",
       "      <th></th>\n",
       "      <th></th>\n",
       "    </tr>\n",
       "  </thead>\n",
       "  <tbody>\n",
       "    <tr>\n",
       "      <th>NicomachaenEthics</th>\n",
       "      <td>Aristotle</td>\n",
       "      <td>-0.000314</td>\n",
       "      <td>0.000624</td>\n",
       "      <td>-0.000042</td>\n",
       "      <td>0.001365</td>\n",
       "      <td>-0.000304</td>\n",
       "      <td>-0.000826</td>\n",
       "      <td>0.000403</td>\n",
       "      <td>0.000397</td>\n",
       "      <td>0.000301</td>\n",
       "      <td>-0.000032</td>\n",
       "    </tr>\n",
       "    <tr>\n",
       "      <th>OnDuties</th>\n",
       "      <td>Cicero</td>\n",
       "      <td>-0.001459</td>\n",
       "      <td>0.005701</td>\n",
       "      <td>0.010237</td>\n",
       "      <td>-0.007611</td>\n",
       "      <td>0.000197</td>\n",
       "      <td>0.000409</td>\n",
       "      <td>-0.000061</td>\n",
       "      <td>-0.000005</td>\n",
       "      <td>-0.000016</td>\n",
       "      <td>-0.000004</td>\n",
       "    </tr>\n",
       "    <tr>\n",
       "      <th>TheOrderofThings</th>\n",
       "      <td>Foucault</td>\n",
       "      <td>-0.000359</td>\n",
       "      <td>0.000605</td>\n",
       "      <td>-0.000002</td>\n",
       "      <td>0.001424</td>\n",
       "      <td>-0.000332</td>\n",
       "      <td>-0.000827</td>\n",
       "      <td>0.000247</td>\n",
       "      <td>-0.000172</td>\n",
       "      <td>0.001313</td>\n",
       "      <td>0.002506</td>\n",
       "    </tr>\n",
       "    <tr>\n",
       "      <th>PedagogyOfTheOppressed</th>\n",
       "      <td>Freire</td>\n",
       "      <td>-0.000438</td>\n",
       "      <td>0.000496</td>\n",
       "      <td>-0.000047</td>\n",
       "      <td>0.001599</td>\n",
       "      <td>-0.000359</td>\n",
       "      <td>-0.000909</td>\n",
       "      <td>-0.005359</td>\n",
       "      <td>0.000062</td>\n",
       "      <td>-0.000165</td>\n",
       "      <td>-0.000078</td>\n",
       "    </tr>\n",
       "    <tr>\n",
       "      <th>TheOriginsofTotalitarianism</th>\n",
       "      <td>HannahArendt</td>\n",
       "      <td>-0.000430</td>\n",
       "      <td>0.000563</td>\n",
       "      <td>0.000019</td>\n",
       "      <td>0.001530</td>\n",
       "      <td>-0.000400</td>\n",
       "      <td>-0.000453</td>\n",
       "      <td>0.000381</td>\n",
       "      <td>-0.004676</td>\n",
       "      <td>-0.000164</td>\n",
       "      <td>-0.000326</td>\n",
       "    </tr>\n",
       "  </tbody>\n",
       "</table>\n",
       "</div>"
      ],
      "text/plain": [
       "                                   author       PC0       PC1       PC2  \\\n",
       "title                                                                     \n",
       "NicomachaenEthics               Aristotle -0.000314  0.000624 -0.000042   \n",
       "OnDuties                           Cicero -0.001459  0.005701  0.010237   \n",
       "TheOrderofThings                 Foucault -0.000359  0.000605 -0.000002   \n",
       "PedagogyOfTheOppressed             Freire -0.000438  0.000496 -0.000047   \n",
       "TheOriginsofTotalitarianism  HannahArendt -0.000430  0.000563  0.000019   \n",
       "\n",
       "                                  PC3       PC4       PC5       PC6       PC7  \\\n",
       "title                                                                           \n",
       "NicomachaenEthics            0.001365 -0.000304 -0.000826  0.000403  0.000397   \n",
       "OnDuties                    -0.007611  0.000197  0.000409 -0.000061 -0.000005   \n",
       "TheOrderofThings             0.001424 -0.000332 -0.000827  0.000247 -0.000172   \n",
       "PedagogyOfTheOppressed       0.001599 -0.000359 -0.000909 -0.005359  0.000062   \n",
       "TheOriginsofTotalitarianism  0.001530 -0.000400 -0.000453  0.000381 -0.004676   \n",
       "\n",
       "                                  PC8       PC9  \n",
       "title                                            \n",
       "NicomachaenEthics            0.000301 -0.000032  \n",
       "OnDuties                    -0.000016 -0.000004  \n",
       "TheOrderofThings             0.001313  0.002506  \n",
       "PedagogyOfTheOppressed      -0.000165 -0.000078  \n",
       "TheOriginsofTotalitarianism -0.000164 -0.000326  "
      ]
     },
     "execution_count": 51,
     "metadata": {},
     "output_type": "execute_result"
    }
   ],
   "source": [
    "DCM.reset_index(inplace=True, level = ['author'])\n",
    "DCM.head()"
   ]
  },
  {
   "cell_type": "code",
   "execution_count": 57,
   "id": "33f7688b-4c44-4098-bc6b-24e0c5de1177",
   "metadata": {},
   "outputs": [
    {
     "data": {
      "application/vnd.plotly.v1+json": {
       "config": {
        "plotlyServerURL": "https://plot.ly"
       },
       "data": [
        {
         "hovertemplate": "PC0=%{x}<br>PC1=%{y}<extra></extra>",
         "legendgroup": "",
         "marker": {
          "color": "#636efa",
          "symbol": "circle"
         },
         "mode": "markers",
         "name": "",
         "orientation": "v",
         "showlegend": false,
         "type": "scatter",
         "x": [
          -0.00031351877433962995,
          -0.0014593697763888873,
          -0.0003590990594281636,
          -0.00043812997644045035,
          -0.00043021147440591506,
          -0.00046936384846154276,
          -0.0009911092014877783,
          -0.0003156806142187768,
          -0.00032360043707164207,
          -0.0002932520773229526,
          0.015295430392119317,
          -0.0005140620043043867,
          -0.0002789613196800329,
          -0.00035534145586305164,
          -0.00031475047784557564,
          -0.000305450065479422,
          -0.0003311937981165522,
          -0.00031742288254382804,
          -0.0018658531780346046,
          -0.005619059970686109
         ],
         "xaxis": "x",
         "y": [
          0.0006240137700822692,
          0.00570138854722066,
          0.000604672396730657,
          0.0004960686698331819,
          0.0005628427911742649,
          0.0003366208555290406,
          0.0048196912174117736,
          0.0006535879313171659,
          0.0006461977203412733,
          0.0006353330901245996,
          -0.0038979736955239838,
          0.0007784759379673098,
          0.0006159847496876629,
          0.0004914129531586114,
          0.0006259061547720206,
          0.0006160864065083953,
          0.0003996346097823785,
          0.0006284057446964391,
          -0.0027637662594269634,
          -0.012574583591386905
         ],
         "yaxis": "y"
        }
       ],
       "layout": {
        "autosize": true,
        "legend": {
         "tracegroupgap": 0
        },
        "margin": {
         "t": 60
        },
        "template": {
         "data": {
          "bar": [
           {
            "error_x": {
             "color": "#2a3f5f"
            },
            "error_y": {
             "color": "#2a3f5f"
            },
            "marker": {
             "line": {
              "color": "#E5ECF6",
              "width": 0.5
             },
             "pattern": {
              "fillmode": "overlay",
              "size": 10,
              "solidity": 0.2
             }
            },
            "type": "bar"
           }
          ],
          "barpolar": [
           {
            "marker": {
             "line": {
              "color": "#E5ECF6",
              "width": 0.5
             },
             "pattern": {
              "fillmode": "overlay",
              "size": 10,
              "solidity": 0.2
             }
            },
            "type": "barpolar"
           }
          ],
          "carpet": [
           {
            "aaxis": {
             "endlinecolor": "#2a3f5f",
             "gridcolor": "white",
             "linecolor": "white",
             "minorgridcolor": "white",
             "startlinecolor": "#2a3f5f"
            },
            "baxis": {
             "endlinecolor": "#2a3f5f",
             "gridcolor": "white",
             "linecolor": "white",
             "minorgridcolor": "white",
             "startlinecolor": "#2a3f5f"
            },
            "type": "carpet"
           }
          ],
          "choropleth": [
           {
            "colorbar": {
             "outlinewidth": 0,
             "ticks": ""
            },
            "type": "choropleth"
           }
          ],
          "contour": [
           {
            "colorbar": {
             "outlinewidth": 0,
             "ticks": ""
            },
            "colorscale": [
             [
              0,
              "#0d0887"
             ],
             [
              0.1111111111111111,
              "#46039f"
             ],
             [
              0.2222222222222222,
              "#7201a8"
             ],
             [
              0.3333333333333333,
              "#9c179e"
             ],
             [
              0.4444444444444444,
              "#bd3786"
             ],
             [
              0.5555555555555556,
              "#d8576b"
             ],
             [
              0.6666666666666666,
              "#ed7953"
             ],
             [
              0.7777777777777778,
              "#fb9f3a"
             ],
             [
              0.8888888888888888,
              "#fdca26"
             ],
             [
              1,
              "#f0f921"
             ]
            ],
            "type": "contour"
           }
          ],
          "contourcarpet": [
           {
            "colorbar": {
             "outlinewidth": 0,
             "ticks": ""
            },
            "type": "contourcarpet"
           }
          ],
          "heatmap": [
           {
            "colorbar": {
             "outlinewidth": 0,
             "ticks": ""
            },
            "colorscale": [
             [
              0,
              "#0d0887"
             ],
             [
              0.1111111111111111,
              "#46039f"
             ],
             [
              0.2222222222222222,
              "#7201a8"
             ],
             [
              0.3333333333333333,
              "#9c179e"
             ],
             [
              0.4444444444444444,
              "#bd3786"
             ],
             [
              0.5555555555555556,
              "#d8576b"
             ],
             [
              0.6666666666666666,
              "#ed7953"
             ],
             [
              0.7777777777777778,
              "#fb9f3a"
             ],
             [
              0.8888888888888888,
              "#fdca26"
             ],
             [
              1,
              "#f0f921"
             ]
            ],
            "type": "heatmap"
           }
          ],
          "heatmapgl": [
           {
            "colorbar": {
             "outlinewidth": 0,
             "ticks": ""
            },
            "colorscale": [
             [
              0,
              "#0d0887"
             ],
             [
              0.1111111111111111,
              "#46039f"
             ],
             [
              0.2222222222222222,
              "#7201a8"
             ],
             [
              0.3333333333333333,
              "#9c179e"
             ],
             [
              0.4444444444444444,
              "#bd3786"
             ],
             [
              0.5555555555555556,
              "#d8576b"
             ],
             [
              0.6666666666666666,
              "#ed7953"
             ],
             [
              0.7777777777777778,
              "#fb9f3a"
             ],
             [
              0.8888888888888888,
              "#fdca26"
             ],
             [
              1,
              "#f0f921"
             ]
            ],
            "type": "heatmapgl"
           }
          ],
          "histogram": [
           {
            "marker": {
             "pattern": {
              "fillmode": "overlay",
              "size": 10,
              "solidity": 0.2
             }
            },
            "type": "histogram"
           }
          ],
          "histogram2d": [
           {
            "colorbar": {
             "outlinewidth": 0,
             "ticks": ""
            },
            "colorscale": [
             [
              0,
              "#0d0887"
             ],
             [
              0.1111111111111111,
              "#46039f"
             ],
             [
              0.2222222222222222,
              "#7201a8"
             ],
             [
              0.3333333333333333,
              "#9c179e"
             ],
             [
              0.4444444444444444,
              "#bd3786"
             ],
             [
              0.5555555555555556,
              "#d8576b"
             ],
             [
              0.6666666666666666,
              "#ed7953"
             ],
             [
              0.7777777777777778,
              "#fb9f3a"
             ],
             [
              0.8888888888888888,
              "#fdca26"
             ],
             [
              1,
              "#f0f921"
             ]
            ],
            "type": "histogram2d"
           }
          ],
          "histogram2dcontour": [
           {
            "colorbar": {
             "outlinewidth": 0,
             "ticks": ""
            },
            "colorscale": [
             [
              0,
              "#0d0887"
             ],
             [
              0.1111111111111111,
              "#46039f"
             ],
             [
              0.2222222222222222,
              "#7201a8"
             ],
             [
              0.3333333333333333,
              "#9c179e"
             ],
             [
              0.4444444444444444,
              "#bd3786"
             ],
             [
              0.5555555555555556,
              "#d8576b"
             ],
             [
              0.6666666666666666,
              "#ed7953"
             ],
             [
              0.7777777777777778,
              "#fb9f3a"
             ],
             [
              0.8888888888888888,
              "#fdca26"
             ],
             [
              1,
              "#f0f921"
             ]
            ],
            "type": "histogram2dcontour"
           }
          ],
          "mesh3d": [
           {
            "colorbar": {
             "outlinewidth": 0,
             "ticks": ""
            },
            "type": "mesh3d"
           }
          ],
          "parcoords": [
           {
            "line": {
             "colorbar": {
              "outlinewidth": 0,
              "ticks": ""
             }
            },
            "type": "parcoords"
           }
          ],
          "pie": [
           {
            "automargin": true,
            "type": "pie"
           }
          ],
          "scatter": [
           {
            "fillpattern": {
             "fillmode": "overlay",
             "size": 10,
             "solidity": 0.2
            },
            "type": "scatter"
           }
          ],
          "scatter3d": [
           {
            "line": {
             "colorbar": {
              "outlinewidth": 0,
              "ticks": ""
             }
            },
            "marker": {
             "colorbar": {
              "outlinewidth": 0,
              "ticks": ""
             }
            },
            "type": "scatter3d"
           }
          ],
          "scattercarpet": [
           {
            "marker": {
             "colorbar": {
              "outlinewidth": 0,
              "ticks": ""
             }
            },
            "type": "scattercarpet"
           }
          ],
          "scattergeo": [
           {
            "marker": {
             "colorbar": {
              "outlinewidth": 0,
              "ticks": ""
             }
            },
            "type": "scattergeo"
           }
          ],
          "scattergl": [
           {
            "marker": {
             "colorbar": {
              "outlinewidth": 0,
              "ticks": ""
             }
            },
            "type": "scattergl"
           }
          ],
          "scattermapbox": [
           {
            "marker": {
             "colorbar": {
              "outlinewidth": 0,
              "ticks": ""
             }
            },
            "type": "scattermapbox"
           }
          ],
          "scatterpolar": [
           {
            "marker": {
             "colorbar": {
              "outlinewidth": 0,
              "ticks": ""
             }
            },
            "type": "scatterpolar"
           }
          ],
          "scatterpolargl": [
           {
            "marker": {
             "colorbar": {
              "outlinewidth": 0,
              "ticks": ""
             }
            },
            "type": "scatterpolargl"
           }
          ],
          "scatterternary": [
           {
            "marker": {
             "colorbar": {
              "outlinewidth": 0,
              "ticks": ""
             }
            },
            "type": "scatterternary"
           }
          ],
          "surface": [
           {
            "colorbar": {
             "outlinewidth": 0,
             "ticks": ""
            },
            "colorscale": [
             [
              0,
              "#0d0887"
             ],
             [
              0.1111111111111111,
              "#46039f"
             ],
             [
              0.2222222222222222,
              "#7201a8"
             ],
             [
              0.3333333333333333,
              "#9c179e"
             ],
             [
              0.4444444444444444,
              "#bd3786"
             ],
             [
              0.5555555555555556,
              "#d8576b"
             ],
             [
              0.6666666666666666,
              "#ed7953"
             ],
             [
              0.7777777777777778,
              "#fb9f3a"
             ],
             [
              0.8888888888888888,
              "#fdca26"
             ],
             [
              1,
              "#f0f921"
             ]
            ],
            "type": "surface"
           }
          ],
          "table": [
           {
            "cells": {
             "fill": {
              "color": "#EBF0F8"
             },
             "line": {
              "color": "white"
             }
            },
            "header": {
             "fill": {
              "color": "#C8D4E3"
             },
             "line": {
              "color": "white"
             }
            },
            "type": "table"
           }
          ]
         },
         "layout": {
          "annotationdefaults": {
           "arrowcolor": "#2a3f5f",
           "arrowhead": 0,
           "arrowwidth": 1
          },
          "autotypenumbers": "strict",
          "coloraxis": {
           "colorbar": {
            "outlinewidth": 0,
            "ticks": ""
           }
          },
          "colorscale": {
           "diverging": [
            [
             0,
             "#8e0152"
            ],
            [
             0.1,
             "#c51b7d"
            ],
            [
             0.2,
             "#de77ae"
            ],
            [
             0.3,
             "#f1b6da"
            ],
            [
             0.4,
             "#fde0ef"
            ],
            [
             0.5,
             "#f7f7f7"
            ],
            [
             0.6,
             "#e6f5d0"
            ],
            [
             0.7,
             "#b8e186"
            ],
            [
             0.8,
             "#7fbc41"
            ],
            [
             0.9,
             "#4d9221"
            ],
            [
             1,
             "#276419"
            ]
           ],
           "sequential": [
            [
             0,
             "#0d0887"
            ],
            [
             0.1111111111111111,
             "#46039f"
            ],
            [
             0.2222222222222222,
             "#7201a8"
            ],
            [
             0.3333333333333333,
             "#9c179e"
            ],
            [
             0.4444444444444444,
             "#bd3786"
            ],
            [
             0.5555555555555556,
             "#d8576b"
            ],
            [
             0.6666666666666666,
             "#ed7953"
            ],
            [
             0.7777777777777778,
             "#fb9f3a"
            ],
            [
             0.8888888888888888,
             "#fdca26"
            ],
            [
             1,
             "#f0f921"
            ]
           ],
           "sequentialminus": [
            [
             0,
             "#0d0887"
            ],
            [
             0.1111111111111111,
             "#46039f"
            ],
            [
             0.2222222222222222,
             "#7201a8"
            ],
            [
             0.3333333333333333,
             "#9c179e"
            ],
            [
             0.4444444444444444,
             "#bd3786"
            ],
            [
             0.5555555555555556,
             "#d8576b"
            ],
            [
             0.6666666666666666,
             "#ed7953"
            ],
            [
             0.7777777777777778,
             "#fb9f3a"
            ],
            [
             0.8888888888888888,
             "#fdca26"
            ],
            [
             1,
             "#f0f921"
            ]
           ]
          },
          "colorway": [
           "#636efa",
           "#EF553B",
           "#00cc96",
           "#ab63fa",
           "#FFA15A",
           "#19d3f3",
           "#FF6692",
           "#B6E880",
           "#FF97FF",
           "#FECB52"
          ],
          "font": {
           "color": "#2a3f5f"
          },
          "geo": {
           "bgcolor": "white",
           "lakecolor": "white",
           "landcolor": "#E5ECF6",
           "showlakes": true,
           "showland": true,
           "subunitcolor": "white"
          },
          "hoverlabel": {
           "align": "left"
          },
          "hovermode": "closest",
          "mapbox": {
           "style": "light"
          },
          "paper_bgcolor": "white",
          "plot_bgcolor": "#E5ECF6",
          "polar": {
           "angularaxis": {
            "gridcolor": "white",
            "linecolor": "white",
            "ticks": ""
           },
           "bgcolor": "#E5ECF6",
           "radialaxis": {
            "gridcolor": "white",
            "linecolor": "white",
            "ticks": ""
           }
          },
          "scene": {
           "xaxis": {
            "backgroundcolor": "#E5ECF6",
            "gridcolor": "white",
            "gridwidth": 2,
            "linecolor": "white",
            "showbackground": true,
            "ticks": "",
            "zerolinecolor": "white"
           },
           "yaxis": {
            "backgroundcolor": "#E5ECF6",
            "gridcolor": "white",
            "gridwidth": 2,
            "linecolor": "white",
            "showbackground": true,
            "ticks": "",
            "zerolinecolor": "white"
           },
           "zaxis": {
            "backgroundcolor": "#E5ECF6",
            "gridcolor": "white",
            "gridwidth": 2,
            "linecolor": "white",
            "showbackground": true,
            "ticks": "",
            "zerolinecolor": "white"
           }
          },
          "shapedefaults": {
           "line": {
            "color": "#2a3f5f"
           }
          },
          "ternary": {
           "aaxis": {
            "gridcolor": "white",
            "linecolor": "white",
            "ticks": ""
           },
           "baxis": {
            "gridcolor": "white",
            "linecolor": "white",
            "ticks": ""
           },
           "bgcolor": "#E5ECF6",
           "caxis": {
            "gridcolor": "white",
            "linecolor": "white",
            "ticks": ""
           }
          },
          "title": {
           "x": 0.05
          },
          "xaxis": {
           "automargin": true,
           "gridcolor": "white",
           "linecolor": "white",
           "ticks": "",
           "title": {
            "standoff": 15
           },
           "zerolinecolor": "white",
           "zerolinewidth": 2
          },
          "yaxis": {
           "automargin": true,
           "gridcolor": "white",
           "linecolor": "white",
           "ticks": "",
           "title": {
            "standoff": 15
           },
           "zerolinecolor": "white",
           "zerolinewidth": 2
          }
         }
        },
        "xaxis": {
         "anchor": "y",
         "autorange": true,
         "domain": [
          0,
          1
         ],
         "range": [
          -0.0069377375875530455,
          0.01661410800898625
         ],
         "title": {
          "text": "PC0"
         },
         "type": "linear"
        },
        "yaxis": {
         "anchor": "x",
         "autorange": true,
         "domain": [
          0,
          1
         ],
         "range": [
          -0.013989652300281716,
          0.007116457256115471
         ],
         "title": {
          "text": "PC1"
         },
         "type": "linear"
        }
       }
      },
      "image/png": "[encoded data removed]",
      "text/html": [
       "<div>                            <div id=\"051dbc20-b4b5-449a-a9da-1b30881e3c20\" class=\"plotly-graph-div\" style=\"height:525px; width:100%;\"></div>            <script type=\"text/javascript\">                require([\"plotly\"], function(Plotly) {                    window.PLOTLYENV=window.PLOTLYENV || {};                                    if (document.getElementById(\"051dbc20-b4b5-449a-a9da-1b30881e3c20\")) {                    Plotly.newPlot(                        \"051dbc20-b4b5-449a-a9da-1b30881e3c20\",                        [{\"hovertemplate\":\"PC0=%{x}<br>PC1=%{y}<extra></extra>\",\"legendgroup\":\"\",\"marker\":{\"color\":\"#636efa\",\"symbol\":\"circle\"},\"mode\":\"markers\",\"name\":\"\",\"orientation\":\"v\",\"showlegend\":false,\"x\":[-0.00031351877433962995,-0.0014593697763888873,-0.0003590990594281636,-0.00043812997644045035,-0.00043021147440591506,-0.00046936384846154276,-0.0009911092014877783,-0.0003156806142187768,-0.00032360043707164207,-0.0002932520773229526,0.015295430392119317,-0.0005140620043043867,-0.0002789613196800329,-0.00035534145586305164,-0.00031475047784557564,-0.000305450065479422,-0.0003311937981165522,-0.00031742288254382804,-0.0018658531780346046,-0.005619059970686109],\"xaxis\":\"x\",\"y\":[0.0006240137700822692,0.00570138854722066,0.000604672396730657,0.0004960686698331819,0.0005628427911742649,0.0003366208555290406,0.0048196912174117736,0.0006535879313171659,0.0006461977203412733,0.0006353330901245996,-0.0038979736955239838,0.0007784759379673098,0.0006159847496876629,0.0004914129531586114,0.0006259061547720206,0.0006160864065083953,0.0003996346097823785,0.0006284057446964391,-0.0027637662594269634,-0.012574583591386905],\"yaxis\":\"y\",\"type\":\"scatter\"}],                        {\"template\":{\"data\":{\"histogram2dcontour\":[{\"type\":\"histogram2dcontour\",\"colorbar\":{\"outlinewidth\":0,\"ticks\":\"\"},\"colorscale\":[[0.0,\"#0d0887\"],[0.1111111111111111,\"#46039f\"],[0.2222222222222222,\"#7201a8\"],[0.3333333333333333,\"#9c179e\"],[0.4444444444444444,\"#bd3786\"],[0.5555555555555556,\"#d8576b\"],[0.6666666666666666,\"#ed7953\"],[0.7777777777777778,\"#fb9f3a\"],[0.8888888888888888,\"#fdca26\"],[1.0,\"#f0f921\"]]}],\"choropleth\":[{\"type\":\"choropleth\",\"colorbar\":{\"outlinewidth\":0,\"ticks\":\"\"}}],\"histogram2d\":[{\"type\":\"histogram2d\",\"colorbar\":{\"outlinewidth\":0,\"ticks\":\"\"},\"colorscale\":[[0.0,\"#0d0887\"],[0.1111111111111111,\"#46039f\"],[0.2222222222222222,\"#7201a8\"],[0.3333333333333333,\"#9c179e\"],[0.4444444444444444,\"#bd3786\"],[0.5555555555555556,\"#d8576b\"],[0.6666666666666666,\"#ed7953\"],[0.7777777777777778,\"#fb9f3a\"],[0.8888888888888888,\"#fdca26\"],[1.0,\"#f0f921\"]]}],\"heatmap\":[{\"type\":\"heatmap\",\"colorbar\":{\"outlinewidth\":0,\"ticks\":\"\"},\"colorscale\":[[0.0,\"#0d0887\"],[0.1111111111111111,\"#46039f\"],[0.2222222222222222,\"#7201a8\"],[0.3333333333333333,\"#9c179e\"],[0.4444444444444444,\"#bd3786\"],[0.5555555555555556,\"#d8576b\"],[0.6666666666666666,\"#ed7953\"],[0.7777777777777778,\"#fb9f3a\"],[0.8888888888888888,\"#fdca26\"],[1.0,\"#f0f921\"]]}],\"heatmapgl\":[{\"type\":\"heatmapgl\",\"colorbar\":{\"outlinewidth\":0,\"ticks\":\"\"},\"colorscale\":[[0.0,\"#0d0887\"],[0.1111111111111111,\"#46039f\"],[0.2222222222222222,\"#7201a8\"],[0.3333333333333333,\"#9c179e\"],[0.4444444444444444,\"#bd3786\"],[0.5555555555555556,\"#d8576b\"],[0.6666666666666666,\"#ed7953\"],[0.7777777777777778,\"#fb9f3a\"],[0.8888888888888888,\"#fdca26\"],[1.0,\"#f0f921\"]]}],\"contourcarpet\":[{\"type\":\"contourcarpet\",\"colorbar\":{\"outlinewidth\":0,\"ticks\":\"\"}}],\"contour\":[{\"type\":\"contour\",\"colorbar\":{\"outlinewidth\":0,\"ticks\":\"\"},\"colorscale\":[[0.0,\"#0d0887\"],[0.1111111111111111,\"#46039f\"],[0.2222222222222222,\"#7201a8\"],[0.3333333333333333,\"#9c179e\"],[0.4444444444444444,\"#bd3786\"],[0.5555555555555556,\"#d8576b\"],[0.6666666666666666,\"#ed7953\"],[0.7777777777777778,\"#fb9f3a\"],[0.8888888888888888,\"#fdca26\"],[1.0,\"#f0f921\"]]}],\"surface\":[{\"type\":\"surface\",\"colorbar\":{\"outlinewidth\":0,\"ticks\":\"\"},\"colorscale\":[[0.0,\"#0d0887\"],[0.1111111111111111,\"#46039f\"],[0.2222222222222222,\"#7201a8\"],[0.3333333333333333,\"#9c179e\"],[0.4444444444444444,\"#bd3786\"],[0.5555555555555556,\"#d8576b\"],[0.6666666666666666,\"#ed7953\"],[0.7777777777777778,\"#fb9f3a\"],[0.8888888888888888,\"#fdca26\"],[1.0,\"#f0f921\"]]}],\"mesh3d\":[{\"type\":\"mesh3d\",\"colorbar\":{\"outlinewidth\":0,\"ticks\":\"\"}}],\"scatter\":[{\"fillpattern\":{\"fillmode\":\"overlay\",\"size\":10,\"solidity\":0.2},\"type\":\"scatter\"}],\"parcoords\":[{\"type\":\"parcoords\",\"line\":{\"colorbar\":{\"outlinewidth\":0,\"ticks\":\"\"}}}],\"scatterpolargl\":[{\"type\":\"scatterpolargl\",\"marker\":{\"colorbar\":{\"outlinewidth\":0,\"ticks\":\"\"}}}],\"bar\":[{\"error_x\":{\"color\":\"#2a3f5f\"},\"error_y\":{\"color\":\"#2a3f5f\"},\"marker\":{\"line\":{\"color\":\"#E5ECF6\",\"width\":0.5},\"pattern\":{\"fillmode\":\"overlay\",\"size\":10,\"solidity\":0.2}},\"type\":\"bar\"}],\"scattergeo\":[{\"type\":\"scattergeo\",\"marker\":{\"colorbar\":{\"outlinewidth\":0,\"ticks\":\"\"}}}],\"scatterpolar\":[{\"type\":\"scatterpolar\",\"marker\":{\"colorbar\":{\"outlinewidth\":0,\"ticks\":\"\"}}}],\"histogram\":[{\"marker\":{\"pattern\":{\"fillmode\":\"overlay\",\"size\":10,\"solidity\":0.2}},\"type\":\"histogram\"}],\"scattergl\":[{\"type\":\"scattergl\",\"marker\":{\"colorbar\":{\"outlinewidth\":0,\"ticks\":\"\"}}}],\"scatter3d\":[{\"type\":\"scatter3d\",\"line\":{\"colorbar\":{\"outlinewidth\":0,\"ticks\":\"\"}},\"marker\":{\"colorbar\":{\"outlinewidth\":0,\"ticks\":\"\"}}}],\"scattermapbox\":[{\"type\":\"scattermapbox\",\"marker\":{\"colorbar\":{\"outlinewidth\":0,\"ticks\":\"\"}}}],\"scatterternary\":[{\"type\":\"scatterternary\",\"marker\":{\"colorbar\":{\"outlinewidth\":0,\"ticks\":\"\"}}}],\"scattercarpet\":[{\"type\":\"scattercarpet\",\"marker\":{\"colorbar\":{\"outlinewidth\":0,\"ticks\":\"\"}}}],\"carpet\":[{\"aaxis\":{\"endlinecolor\":\"#2a3f5f\",\"gridcolor\":\"white\",\"linecolor\":\"white\",\"minorgridcolor\":\"white\",\"startlinecolor\":\"#2a3f5f\"},\"baxis\":{\"endlinecolor\":\"#2a3f5f\",\"gridcolor\":\"white\",\"linecolor\":\"white\",\"minorgridcolor\":\"white\",\"startlinecolor\":\"#2a3f5f\"},\"type\":\"carpet\"}],\"table\":[{\"cells\":{\"fill\":{\"color\":\"#EBF0F8\"},\"line\":{\"color\":\"white\"}},\"header\":{\"fill\":{\"color\":\"#C8D4E3\"},\"line\":{\"color\":\"white\"}},\"type\":\"table\"}],\"barpolar\":[{\"marker\":{\"line\":{\"color\":\"#E5ECF6\",\"width\":0.5},\"pattern\":{\"fillmode\":\"overlay\",\"size\":10,\"solidity\":0.2}},\"type\":\"barpolar\"}],\"pie\":[{\"automargin\":true,\"type\":\"pie\"}]},\"layout\":{\"autotypenumbers\":\"strict\",\"colorway\":[\"#636efa\",\"#EF553B\",\"#00cc96\",\"#ab63fa\",\"#FFA15A\",\"#19d3f3\",\"#FF6692\",\"#B6E880\",\"#FF97FF\",\"#FECB52\"],\"font\":{\"color\":\"#2a3f5f\"},\"hovermode\":\"closest\",\"hoverlabel\":{\"align\":\"left\"},\"paper_bgcolor\":\"white\",\"plot_bgcolor\":\"#E5ECF6\",\"polar\":{\"bgcolor\":\"#E5ECF6\",\"angularaxis\":{\"gridcolor\":\"white\",\"linecolor\":\"white\",\"ticks\":\"\"},\"radialaxis\":{\"gridcolor\":\"white\",\"linecolor\":\"white\",\"ticks\":\"\"}},\"ternary\":{\"bgcolor\":\"#E5ECF6\",\"aaxis\":{\"gridcolor\":\"white\",\"linecolor\":\"white\",\"ticks\":\"\"},\"baxis\":{\"gridcolor\":\"white\",\"linecolor\":\"white\",\"ticks\":\"\"},\"caxis\":{\"gridcolor\":\"white\",\"linecolor\":\"white\",\"ticks\":\"\"}},\"coloraxis\":{\"colorbar\":{\"outlinewidth\":0,\"ticks\":\"\"}},\"colorscale\":{\"sequential\":[[0.0,\"#0d0887\"],[0.1111111111111111,\"#46039f\"],[0.2222222222222222,\"#7201a8\"],[0.3333333333333333,\"#9c179e\"],[0.4444444444444444,\"#bd3786\"],[0.5555555555555556,\"#d8576b\"],[0.6666666666666666,\"#ed7953\"],[0.7777777777777778,\"#fb9f3a\"],[0.8888888888888888,\"#fdca26\"],[1.0,\"#f0f921\"]],\"sequentialminus\":[[0.0,\"#0d0887\"],[0.1111111111111111,\"#46039f\"],[0.2222222222222222,\"#7201a8\"],[0.3333333333333333,\"#9c179e\"],[0.4444444444444444,\"#bd3786\"],[0.5555555555555556,\"#d8576b\"],[0.6666666666666666,\"#ed7953\"],[0.7777777777777778,\"#fb9f3a\"],[0.8888888888888888,\"#fdca26\"],[1.0,\"#f0f921\"]],\"diverging\":[[0,\"#8e0152\"],[0.1,\"#c51b7d\"],[0.2,\"#de77ae\"],[0.3,\"#f1b6da\"],[0.4,\"#fde0ef\"],[0.5,\"#f7f7f7\"],[0.6,\"#e6f5d0\"],[0.7,\"#b8e186\"],[0.8,\"#7fbc41\"],[0.9,\"#4d9221\"],[1,\"#276419\"]]},\"xaxis\":{\"gridcolor\":\"white\",\"linecolor\":\"white\",\"ticks\":\"\",\"title\":{\"standoff\":15},\"zerolinecolor\":\"white\",\"automargin\":true,\"zerolinewidth\":2},\"yaxis\":{\"gridcolor\":\"white\",\"linecolor\":\"white\",\"ticks\":\"\",\"title\":{\"standoff\":15},\"zerolinecolor\":\"white\",\"automargin\":true,\"zerolinewidth\":2},\"scene\":{\"xaxis\":{\"backgroundcolor\":\"#E5ECF6\",\"gridcolor\":\"white\",\"linecolor\":\"white\",\"showbackground\":true,\"ticks\":\"\",\"zerolinecolor\":\"white\",\"gridwidth\":2},\"yaxis\":{\"backgroundcolor\":\"#E5ECF6\",\"gridcolor\":\"white\",\"linecolor\":\"white\",\"showbackground\":true,\"ticks\":\"\",\"zerolinecolor\":\"white\",\"gridwidth\":2},\"zaxis\":{\"backgroundcolor\":\"#E5ECF6\",\"gridcolor\":\"white\",\"linecolor\":\"white\",\"showbackground\":true,\"ticks\":\"\",\"zerolinecolor\":\"white\",\"gridwidth\":2}},\"shapedefaults\":{\"line\":{\"color\":\"#2a3f5f\"}},\"annotationdefaults\":{\"arrowcolor\":\"#2a3f5f\",\"arrowhead\":0,\"arrowwidth\":1},\"geo\":{\"bgcolor\":\"white\",\"landcolor\":\"#E5ECF6\",\"subunitcolor\":\"white\",\"showland\":true,\"showlakes\":true,\"lakecolor\":\"white\"},\"title\":{\"x\":0.05},\"mapbox\":{\"style\":\"light\"}}},\"xaxis\":{\"anchor\":\"y\",\"domain\":[0.0,1.0],\"title\":{\"text\":\"PC0\"}},\"yaxis\":{\"anchor\":\"x\",\"domain\":[0.0,1.0],\"title\":{\"text\":\"PC1\"}},\"legend\":{\"tracegroupgap\":0},\"margin\":{\"t\":60}},                        {\"responsive\": true}                    ).then(function(){\n",
       "                            \n",
       "var gd = document.getElementById('051dbc20-b4b5-449a-a9da-1b30881e3c20');\n",
       "var x = new MutationObserver(function (mutations, observer) {{\n",
       "        var display = window.getComputedStyle(gd).display;\n",
       "        if (!display || display === 'none') {{\n",
       "            console.log([gd, 'removed!']);\n",
       "            Plotly.purge(gd);\n",
       "            observer.disconnect();\n",
       "        }}\n",
       "}});\n",
       "\n",
       "// Listen for the removal of the full notebook cells\n",
       "var notebookContainer = gd.closest('#notebook-container');\n",
       "if (notebookContainer) {{\n",
       "    x.observe(notebookContainer, {childList: true});\n",
       "}}\n",
       "\n",
       "// Listen for the clearing of the current output cell\n",
       "var outputEl = gd.closest('.output');\n",
       "if (outputEl) {{\n",
       "    x.observe(outputEl, {childList: true});\n",
       "}}\n",
       "\n",
       "                        })                };                });            </script>        </div>"
      ]
     },
     "metadata": {},
     "output_type": "display_data"
    },
    {
     "data": {
      "application/vnd.plotly.v1+json": {
       "config": {
        "plotlyServerURL": "https://plot.ly"
       },
       "data": [
        {
         "hovertemplate": "PC1=%{x}<br>PC2=%{y}<extra></extra>",
         "legendgroup": "",
         "marker": {
          "color": "#636efa",
          "symbol": "circle"
         },
         "mode": "markers",
         "name": "",
         "orientation": "v",
         "showlegend": false,
         "type": "scatter",
         "x": [
          0.0006240137700822692,
          0.00570138854722066,
          0.000604672396730657,
          0.0004960686698331819,
          0.0005628427911742649,
          0.0003366208555290406,
          0.0048196912174117736,
          0.0006535879313171659,
          0.0006461977203412733,
          0.0006353330901245996,
          -0.0038979736955239838,
          0.0007784759379673098,
          0.0006159847496876629,
          0.0004914129531586114,
          0.0006259061547720206,
          0.0006160864065083953,
          0.0003996346097823785,
          0.0006284057446964391,
          -0.0027637662594269634,
          -0.012574583591386905
         ],
         "xaxis": "x",
         "y": [
          -4.241046051794075e-05,
          0.010236957068711153,
          -2.1404018707998215e-06,
          -4.7005439573606106e-05,
          1.937604054284765e-05,
          -3.30245699667832e-05,
          -0.01045606945825885,
          -8.193284014681757e-06,
          -4.2025526403653555e-05,
          -8.791108697573058e-05,
          0.000453268273676332,
          -6.886627586888167e-05,
          -7.247410024831968e-05,
          -6.970291733345372e-05,
          -4.325962648529759e-05,
          -6.969161255967255e-05,
          -0.00010848796254968355,
          -3.5547132604417596e-05,
          2.0951087362252344e-05,
          0.00045625738493904543
         ],
         "yaxis": "y"
        }
       ],
       "layout": {
        "autosize": true,
        "legend": {
         "tracegroupgap": 0
        },
        "margin": {
         "t": 60
        },
        "template": {
         "data": {
          "bar": [
           {
            "error_x": {
             "color": "#2a3f5f"
            },
            "error_y": {
             "color": "#2a3f5f"
            },
            "marker": {
             "line": {
              "color": "#E5ECF6",
              "width": 0.5
             },
             "pattern": {
              "fillmode": "overlay",
              "size": 10,
              "solidity": 0.2
             }
            },
            "type": "bar"
           }
          ],
          "barpolar": [
           {
            "marker": {
             "line": {
              "color": "#E5ECF6",
              "width": 0.5
             },
             "pattern": {
              "fillmode": "overlay",
              "size": 10,
              "solidity": 0.2
             }
            },
            "type": "barpolar"
           }
          ],
          "carpet": [
           {
            "aaxis": {
             "endlinecolor": "#2a3f5f",
             "gridcolor": "white",
             "linecolor": "white",
             "minorgridcolor": "white",
             "startlinecolor": "#2a3f5f"
            },
            "baxis": {
             "endlinecolor": "#2a3f5f",
             "gridcolor": "white",
             "linecolor": "white",
             "minorgridcolor": "white",
             "startlinecolor": "#2a3f5f"
            },
            "type": "carpet"
           }
          ],
          "choropleth": [
           {
            "colorbar": {
             "outlinewidth": 0,
             "ticks": ""
            },
            "type": "choropleth"
           }
          ],
          "contour": [
           {
            "colorbar": {
             "outlinewidth": 0,
             "ticks": ""
            },
            "colorscale": [
             [
              0,
              "#0d0887"
             ],
             [
              0.1111111111111111,
              "#46039f"
             ],
             [
              0.2222222222222222,
              "#7201a8"
             ],
             [
              0.3333333333333333,
              "#9c179e"
             ],
             [
              0.4444444444444444,
              "#bd3786"
             ],
             [
              0.5555555555555556,
              "#d8576b"
             ],
             [
              0.6666666666666666,
              "#ed7953"
             ],
             [
              0.7777777777777778,
              "#fb9f3a"
             ],
             [
              0.8888888888888888,
              "#fdca26"
             ],
             [
              1,
              "#f0f921"
             ]
            ],
            "type": "contour"
           }
          ],
          "contourcarpet": [
           {
            "colorbar": {
             "outlinewidth": 0,
             "ticks": ""
            },
            "type": "contourcarpet"
           }
          ],
          "heatmap": [
           {
            "colorbar": {
             "outlinewidth": 0,
             "ticks": ""
            },
            "colorscale": [
             [
              0,
              "#0d0887"
             ],
             [
              0.1111111111111111,
              "#46039f"
             ],
             [
              0.2222222222222222,
              "#7201a8"
             ],
             [
              0.3333333333333333,
              "#9c179e"
             ],
             [
              0.4444444444444444,
              "#bd3786"
             ],
             [
              0.5555555555555556,
              "#d8576b"
             ],
             [
              0.6666666666666666,
              "#ed7953"
             ],
             [
              0.7777777777777778,
              "#fb9f3a"
             ],
             [
              0.8888888888888888,
              "#fdca26"
             ],
             [
              1,
              "#f0f921"
             ]
            ],
            "type": "heatmap"
           }
          ],
          "heatmapgl": [
           {
            "colorbar": {
             "outlinewidth": 0,
             "ticks": ""
            },
            "colorscale": [
             [
              0,
              "#0d0887"
             ],
             [
              0.1111111111111111,
              "#46039f"
             ],
             [
              0.2222222222222222,
              "#7201a8"
             ],
             [
              0.3333333333333333,
              "#9c179e"
             ],
             [
              0.4444444444444444,
              "#bd3786"
             ],
             [
              0.5555555555555556,
              "#d8576b"
             ],
             [
              0.6666666666666666,
              "#ed7953"
             ],
             [
              0.7777777777777778,
              "#fb9f3a"
             ],
             [
              0.8888888888888888,
              "#fdca26"
             ],
             [
              1,
              "#f0f921"
             ]
            ],
            "type": "heatmapgl"
           }
          ],
          "histogram": [
           {
            "marker": {
             "pattern": {
              "fillmode": "overlay",
              "size": 10,
              "solidity": 0.2
             }
            },
            "type": "histogram"
           }
          ],
          "histogram2d": [
           {
            "colorbar": {
             "outlinewidth": 0,
             "ticks": ""
            },
            "colorscale": [
             [
              0,
              "#0d0887"
             ],
             [
              0.1111111111111111,
              "#46039f"
             ],
             [
              0.2222222222222222,
              "#7201a8"
             ],
             [
              0.3333333333333333,
              "#9c179e"
             ],
             [
              0.4444444444444444,
              "#bd3786"
             ],
             [
              0.5555555555555556,
              "#d8576b"
             ],
             [
              0.6666666666666666,
              "#ed7953"
             ],
             [
              0.7777777777777778,
              "#fb9f3a"
             ],
             [
              0.8888888888888888,
              "#fdca26"
             ],
             [
              1,
              "#f0f921"
             ]
            ],
            "type": "histogram2d"
           }
          ],
          "histogram2dcontour": [
           {
            "colorbar": {
             "outlinewidth": 0,
             "ticks": ""
            },
            "colorscale": [
             [
              0,
              "#0d0887"
             ],
             [
              0.1111111111111111,
              "#46039f"
             ],
             [
              0.2222222222222222,
              "#7201a8"
             ],
             [
              0.3333333333333333,
              "#9c179e"
             ],
             [
              0.4444444444444444,
              "#bd3786"
             ],
             [
              0.5555555555555556,
              "#d8576b"
             ],
             [
              0.6666666666666666,
              "#ed7953"
             ],
             [
              0.7777777777777778,
              "#fb9f3a"
             ],
             [
              0.8888888888888888,
              "#fdca26"
             ],
             [
              1,
              "#f0f921"
             ]
            ],
            "type": "histogram2dcontour"
           }
          ],
          "mesh3d": [
           {
            "colorbar": {
             "outlinewidth": 0,
             "ticks": ""
            },
            "type": "mesh3d"
           }
          ],
          "parcoords": [
           {
            "line": {
             "colorbar": {
              "outlinewidth": 0,
              "ticks": ""
             }
            },
            "type": "parcoords"
           }
          ],
          "pie": [
           {
            "automargin": true,
            "type": "pie"
           }
          ],
          "scatter": [
           {
            "fillpattern": {
             "fillmode": "overlay",
             "size": 10,
             "solidity": 0.2
            },
            "type": "scatter"
           }
          ],
          "scatter3d": [
           {
            "line": {
             "colorbar": {
              "outlinewidth": 0,
              "ticks": ""
             }
            },
            "marker": {
             "colorbar": {
              "outlinewidth": 0,
              "ticks": ""
             }
            },
            "type": "scatter3d"
           }
          ],
          "scattercarpet": [
           {
            "marker": {
             "colorbar": {
              "outlinewidth": 0,
              "ticks": ""
             }
            },
            "type": "scattercarpet"
           }
          ],
          "scattergeo": [
           {
            "marker": {
             "colorbar": {
              "outlinewidth": 0,
              "ticks": ""
             }
            },
            "type": "scattergeo"
           }
          ],
          "scattergl": [
           {
            "marker": {
             "colorbar": {
              "outlinewidth": 0,
              "ticks": ""
             }
            },
            "type": "scattergl"
           }
          ],
          "scattermapbox": [
           {
            "marker": {
             "colorbar": {
              "outlinewidth": 0,
              "ticks": ""
             }
            },
            "type": "scattermapbox"
           }
          ],
          "scatterpolar": [
           {
            "marker": {
             "colorbar": {
              "outlinewidth": 0,
              "ticks": ""
             }
            },
            "type": "scatterpolar"
           }
          ],
          "scatterpolargl": [
           {
            "marker": {
             "colorbar": {
              "outlinewidth": 0,
              "ticks": ""
             }
            },
            "type": "scatterpolargl"
           }
          ],
          "scatterternary": [
           {
            "marker": {
             "colorbar": {
              "outlinewidth": 0,
              "ticks": ""
             }
            },
            "type": "scatterternary"
           }
          ],
          "surface": [
           {
            "colorbar": {
             "outlinewidth": 0,
             "ticks": ""
            },
            "colorscale": [
             [
              0,
              "#0d0887"
             ],
             [
              0.1111111111111111,
              "#46039f"
             ],
             [
              0.2222222222222222,
              "#7201a8"
             ],
             [
              0.3333333333333333,
              "#9c179e"
             ],
             [
              0.4444444444444444,
              "#bd3786"
             ],
             [
              0.5555555555555556,
              "#d8576b"
             ],
             [
              0.6666666666666666,
              "#ed7953"
             ],
             [
              0.7777777777777778,
              "#fb9f3a"
             ],
             [
              0.8888888888888888,
              "#fdca26"
             ],
             [
              1,
              "#f0f921"
             ]
            ],
            "type": "surface"
           }
          ],
          "table": [
           {
            "cells": {
             "fill": {
              "color": "#EBF0F8"
             },
             "line": {
              "color": "white"
             }
            },
            "header": {
             "fill": {
              "color": "#C8D4E3"
             },
             "line": {
              "color": "white"
             }
            },
            "type": "table"
           }
          ]
         },
         "layout": {
          "annotationdefaults": {
           "arrowcolor": "#2a3f5f",
           "arrowhead": 0,
           "arrowwidth": 1
          },
          "autotypenumbers": "strict",
          "coloraxis": {
           "colorbar": {
            "outlinewidth": 0,
            "ticks": ""
           }
          },
          "colorscale": {
           "diverging": [
            [
             0,
             "#8e0152"
            ],
            [
             0.1,
             "#c51b7d"
            ],
            [
             0.2,
             "#de77ae"
            ],
            [
             0.3,
             "#f1b6da"
            ],
            [
             0.4,
             "#fde0ef"
            ],
            [
             0.5,
             "#f7f7f7"
            ],
            [
             0.6,
             "#e6f5d0"
            ],
            [
             0.7,
             "#b8e186"
            ],
            [
             0.8,
             "#7fbc41"
            ],
            [
             0.9,
             "#4d9221"
            ],
            [
             1,
             "#276419"
            ]
           ],
           "sequential": [
            [
             0,
             "#0d0887"
            ],
            [
             0.1111111111111111,
             "#46039f"
            ],
            [
             0.2222222222222222,
             "#7201a8"
            ],
            [
             0.3333333333333333,
             "#9c179e"
            ],
            [
             0.4444444444444444,
             "#bd3786"
            ],
            [
             0.5555555555555556,
             "#d8576b"
            ],
            [
             0.6666666666666666,
             "#ed7953"
            ],
            [
             0.7777777777777778,
             "#fb9f3a"
            ],
            [
             0.8888888888888888,
             "#fdca26"
            ],
            [
             1,
             "#f0f921"
            ]
           ],
           "sequentialminus": [
            [
             0,
             "#0d0887"
            ],
            [
             0.1111111111111111,
             "#46039f"
            ],
            [
             0.2222222222222222,
             "#7201a8"
            ],
            [
             0.3333333333333333,
             "#9c179e"
            ],
            [
             0.4444444444444444,
             "#bd3786"
            ],
            [
             0.5555555555555556,
             "#d8576b"
            ],
            [
             0.6666666666666666,
             "#ed7953"
            ],
            [
             0.7777777777777778,
             "#fb9f3a"
            ],
            [
             0.8888888888888888,
             "#fdca26"
            ],
            [
             1,
             "#f0f921"
            ]
           ]
          },
          "colorway": [
           "#636efa",
           "#EF553B",
           "#00cc96",
           "#ab63fa",
           "#FFA15A",
           "#19d3f3",
           "#FF6692",
           "#B6E880",
           "#FF97FF",
           "#FECB52"
          ],
          "font": {
           "color": "#2a3f5f"
          },
          "geo": {
           "bgcolor": "white",
           "lakecolor": "white",
           "landcolor": "#E5ECF6",
           "showlakes": true,
           "showland": true,
           "subunitcolor": "white"
          },
          "hoverlabel": {
           "align": "left"
          },
          "hovermode": "closest",
          "mapbox": {
           "style": "light"
          },
          "paper_bgcolor": "white",
          "plot_bgcolor": "#E5ECF6",
          "polar": {
           "angularaxis": {
            "gridcolor": "white",
            "linecolor": "white",
            "ticks": ""
           },
           "bgcolor": "#E5ECF6",
           "radialaxis": {
            "gridcolor": "white",
            "linecolor": "white",
            "ticks": ""
           }
          },
          "scene": {
           "xaxis": {
            "backgroundcolor": "#E5ECF6",
            "gridcolor": "white",
            "gridwidth": 2,
            "linecolor": "white",
            "showbackground": true,
            "ticks": "",
            "zerolinecolor": "white"
           },
           "yaxis": {
            "backgroundcolor": "#E5ECF6",
            "gridcolor": "white",
            "gridwidth": 2,
            "linecolor": "white",
            "showbackground": true,
            "ticks": "",
            "zerolinecolor": "white"
           },
           "zaxis": {
            "backgroundcolor": "#E5ECF6",
            "gridcolor": "white",
            "gridwidth": 2,
            "linecolor": "white",
            "showbackground": true,
            "ticks": "",
            "zerolinecolor": "white"
           }
          },
          "shapedefaults": {
           "line": {
            "color": "#2a3f5f"
           }
          },
          "ternary": {
           "aaxis": {
            "gridcolor": "white",
            "linecolor": "white",
            "ticks": ""
           },
           "baxis": {
            "gridcolor": "white",
            "linecolor": "white",
            "ticks": ""
           },
           "bgcolor": "#E5ECF6",
           "caxis": {
            "gridcolor": "white",
            "linecolor": "white",
            "ticks": ""
           }
          },
          "title": {
           "x": 0.05
          },
          "xaxis": {
           "automargin": true,
           "gridcolor": "white",
           "linecolor": "white",
           "ticks": "",
           "title": {
            "standoff": 15
           },
           "zerolinecolor": "white",
           "zerolinewidth": 2
          },
          "yaxis": {
           "automargin": true,
           "gridcolor": "white",
           "linecolor": "white",
           "ticks": "",
           "title": {
            "standoff": 15
           },
           "zerolinecolor": "white",
           "zerolinewidth": 2
          }
         }
        },
        "xaxis": {
         "anchor": "y",
         "autorange": true,
         "domain": [
          0,
          1
         ],
         "range": [
          -0.013726900237291196,
          0.006853705193124951
         ],
         "title": {
          "text": "PC1"
         },
         "type": "linear"
        },
        "yaxis": {
         "anchor": "x",
         "autorange": true,
         "domain": [
          0,
          1
         ],
         "range": [
          -0.012058285422945503,
          0.011839173033397807
         ],
         "title": {
          "text": "PC2"
         },
         "type": "linear"
        }
       }
      },
      "image/png": "[encoded data removed]",
      "text/html": [
       "<div>                            <div id=\"c8f0f783-d9ad-4e4b-a4f8-ad617b179243\" class=\"plotly-graph-div\" style=\"height:525px; width:100%;\"></div>            <script type=\"text/javascript\">                require([\"plotly\"], function(Plotly) {                    window.PLOTLYENV=window.PLOTLYENV || {};                                    if (document.getElementById(\"c8f0f783-d9ad-4e4b-a4f8-ad617b179243\")) {                    Plotly.newPlot(                        \"c8f0f783-d9ad-4e4b-a4f8-ad617b179243\",                        [{\"hovertemplate\":\"PC1=%{x}<br>PC2=%{y}<extra></extra>\",\"legendgroup\":\"\",\"marker\":{\"color\":\"#636efa\",\"symbol\":\"circle\"},\"mode\":\"markers\",\"name\":\"\",\"orientation\":\"v\",\"showlegend\":false,\"x\":[0.0006240137700822692,0.00570138854722066,0.000604672396730657,0.0004960686698331819,0.0005628427911742649,0.0003366208555290406,0.0048196912174117736,0.0006535879313171659,0.0006461977203412733,0.0006353330901245996,-0.0038979736955239838,0.0007784759379673098,0.0006159847496876629,0.0004914129531586114,0.0006259061547720206,0.0006160864065083953,0.0003996346097823785,0.0006284057446964391,-0.0027637662594269634,-0.012574583591386905],\"xaxis\":\"x\",\"y\":[-4.241046051794075e-05,0.010236957068711153,-2.1404018707998215e-06,-4.7005439573606106e-05,1.937604054284765e-05,-3.30245699667832e-05,-0.01045606945825885,-8.193284014681757e-06,-4.2025526403653555e-05,-8.791108697573058e-05,0.000453268273676332,-6.886627586888167e-05,-7.247410024831968e-05,-6.970291733345372e-05,-4.325962648529759e-05,-6.969161255967255e-05,-0.00010848796254968355,-3.5547132604417596e-05,2.0951087362252344e-05,0.00045625738493904543],\"yaxis\":\"y\",\"type\":\"scatter\"}],                        {\"template\":{\"data\":{\"histogram2dcontour\":[{\"type\":\"histogram2dcontour\",\"colorbar\":{\"outlinewidth\":0,\"ticks\":\"\"},\"colorscale\":[[0.0,\"#0d0887\"],[0.1111111111111111,\"#46039f\"],[0.2222222222222222,\"#7201a8\"],[0.3333333333333333,\"#9c179e\"],[0.4444444444444444,\"#bd3786\"],[0.5555555555555556,\"#d8576b\"],[0.6666666666666666,\"#ed7953\"],[0.7777777777777778,\"#fb9f3a\"],[0.8888888888888888,\"#fdca26\"],[1.0,\"#f0f921\"]]}],\"choropleth\":[{\"type\":\"choropleth\",\"colorbar\":{\"outlinewidth\":0,\"ticks\":\"\"}}],\"histogram2d\":[{\"type\":\"histogram2d\",\"colorbar\":{\"outlinewidth\":0,\"ticks\":\"\"},\"colorscale\":[[0.0,\"#0d0887\"],[0.1111111111111111,\"#46039f\"],[0.2222222222222222,\"#7201a8\"],[0.3333333333333333,\"#9c179e\"],[0.4444444444444444,\"#bd3786\"],[0.5555555555555556,\"#d8576b\"],[0.6666666666666666,\"#ed7953\"],[0.7777777777777778,\"#fb9f3a\"],[0.8888888888888888,\"#fdca26\"],[1.0,\"#f0f921\"]]}],\"heatmap\":[{\"type\":\"heatmap\",\"colorbar\":{\"outlinewidth\":0,\"ticks\":\"\"},\"colorscale\":[[0.0,\"#0d0887\"],[0.1111111111111111,\"#46039f\"],[0.2222222222222222,\"#7201a8\"],[0.3333333333333333,\"#9c179e\"],[0.4444444444444444,\"#bd3786\"],[0.5555555555555556,\"#d8576b\"],[0.6666666666666666,\"#ed7953\"],[0.7777777777777778,\"#fb9f3a\"],[0.8888888888888888,\"#fdca26\"],[1.0,\"#f0f921\"]]}],\"heatmapgl\":[{\"type\":\"heatmapgl\",\"colorbar\":{\"outlinewidth\":0,\"ticks\":\"\"},\"colorscale\":[[0.0,\"#0d0887\"],[0.1111111111111111,\"#46039f\"],[0.2222222222222222,\"#7201a8\"],[0.3333333333333333,\"#9c179e\"],[0.4444444444444444,\"#bd3786\"],[0.5555555555555556,\"#d8576b\"],[0.6666666666666666,\"#ed7953\"],[0.7777777777777778,\"#fb9f3a\"],[0.8888888888888888,\"#fdca26\"],[1.0,\"#f0f921\"]]}],\"contourcarpet\":[{\"type\":\"contourcarpet\",\"colorbar\":{\"outlinewidth\":0,\"ticks\":\"\"}}],\"contour\":[{\"type\":\"contour\",\"colorbar\":{\"outlinewidth\":0,\"ticks\":\"\"},\"colorscale\":[[0.0,\"#0d0887\"],[0.1111111111111111,\"#46039f\"],[0.2222222222222222,\"#7201a8\"],[0.3333333333333333,\"#9c179e\"],[0.4444444444444444,\"#bd3786\"],[0.5555555555555556,\"#d8576b\"],[0.6666666666666666,\"#ed7953\"],[0.7777777777777778,\"#fb9f3a\"],[0.8888888888888888,\"#fdca26\"],[1.0,\"#f0f921\"]]}],\"surface\":[{\"type\":\"surface\",\"colorbar\":{\"outlinewidth\":0,\"ticks\":\"\"},\"colorscale\":[[0.0,\"#0d0887\"],[0.1111111111111111,\"#46039f\"],[0.2222222222222222,\"#7201a8\"],[0.3333333333333333,\"#9c179e\"],[0.4444444444444444,\"#bd3786\"],[0.5555555555555556,\"#d8576b\"],[0.6666666666666666,\"#ed7953\"],[0.7777777777777778,\"#fb9f3a\"],[0.8888888888888888,\"#fdca26\"],[1.0,\"#f0f921\"]]}],\"mesh3d\":[{\"type\":\"mesh3d\",\"colorbar\":{\"outlinewidth\":0,\"ticks\":\"\"}}],\"scatter\":[{\"fillpattern\":{\"fillmode\":\"overlay\",\"size\":10,\"solidity\":0.2},\"type\":\"scatter\"}],\"parcoords\":[{\"type\":\"parcoords\",\"line\":{\"colorbar\":{\"outlinewidth\":0,\"ticks\":\"\"}}}],\"scatterpolargl\":[{\"type\":\"scatterpolargl\",\"marker\":{\"colorbar\":{\"outlinewidth\":0,\"ticks\":\"\"}}}],\"bar\":[{\"error_x\":{\"color\":\"#2a3f5f\"},\"error_y\":{\"color\":\"#2a3f5f\"},\"marker\":{\"line\":{\"color\":\"#E5ECF6\",\"width\":0.5},\"pattern\":{\"fillmode\":\"overlay\",\"size\":10,\"solidity\":0.2}},\"type\":\"bar\"}],\"scattergeo\":[{\"type\":\"scattergeo\",\"marker\":{\"colorbar\":{\"outlinewidth\":0,\"ticks\":\"\"}}}],\"scatterpolar\":[{\"type\":\"scatterpolar\",\"marker\":{\"colorbar\":{\"outlinewidth\":0,\"ticks\":\"\"}}}],\"histogram\":[{\"marker\":{\"pattern\":{\"fillmode\":\"overlay\",\"size\":10,\"solidity\":0.2}},\"type\":\"histogram\"}],\"scattergl\":[{\"type\":\"scattergl\",\"marker\":{\"colorbar\":{\"outlinewidth\":0,\"ticks\":\"\"}}}],\"scatter3d\":[{\"type\":\"scatter3d\",\"line\":{\"colorbar\":{\"outlinewidth\":0,\"ticks\":\"\"}},\"marker\":{\"colorbar\":{\"outlinewidth\":0,\"ticks\":\"\"}}}],\"scattermapbox\":[{\"type\":\"scattermapbox\",\"marker\":{\"colorbar\":{\"outlinewidth\":0,\"ticks\":\"\"}}}],\"scatterternary\":[{\"type\":\"scatterternary\",\"marker\":{\"colorbar\":{\"outlinewidth\":0,\"ticks\":\"\"}}}],\"scattercarpet\":[{\"type\":\"scattercarpet\",\"marker\":{\"colorbar\":{\"outlinewidth\":0,\"ticks\":\"\"}}}],\"carpet\":[{\"aaxis\":{\"endlinecolor\":\"#2a3f5f\",\"gridcolor\":\"white\",\"linecolor\":\"white\",\"minorgridcolor\":\"white\",\"startlinecolor\":\"#2a3f5f\"},\"baxis\":{\"endlinecolor\":\"#2a3f5f\",\"gridcolor\":\"white\",\"linecolor\":\"white\",\"minorgridcolor\":\"white\",\"startlinecolor\":\"#2a3f5f\"},\"type\":\"carpet\"}],\"table\":[{\"cells\":{\"fill\":{\"color\":\"#EBF0F8\"},\"line\":{\"color\":\"white\"}},\"header\":{\"fill\":{\"color\":\"#C8D4E3\"},\"line\":{\"color\":\"white\"}},\"type\":\"table\"}],\"barpolar\":[{\"marker\":{\"line\":{\"color\":\"#E5ECF6\",\"width\":0.5},\"pattern\":{\"fillmode\":\"overlay\",\"size\":10,\"solidity\":0.2}},\"type\":\"barpolar\"}],\"pie\":[{\"automargin\":true,\"type\":\"pie\"}]},\"layout\":{\"autotypenumbers\":\"strict\",\"colorway\":[\"#636efa\",\"#EF553B\",\"#00cc96\",\"#ab63fa\",\"#FFA15A\",\"#19d3f3\",\"#FF6692\",\"#B6E880\",\"#FF97FF\",\"#FECB52\"],\"font\":{\"color\":\"#2a3f5f\"},\"hovermode\":\"closest\",\"hoverlabel\":{\"align\":\"left\"},\"paper_bgcolor\":\"white\",\"plot_bgcolor\":\"#E5ECF6\",\"polar\":{\"bgcolor\":\"#E5ECF6\",\"angularaxis\":{\"gridcolor\":\"white\",\"linecolor\":\"white\",\"ticks\":\"\"},\"radialaxis\":{\"gridcolor\":\"white\",\"linecolor\":\"white\",\"ticks\":\"\"}},\"ternary\":{\"bgcolor\":\"#E5ECF6\",\"aaxis\":{\"gridcolor\":\"white\",\"linecolor\":\"white\",\"ticks\":\"\"},\"baxis\":{\"gridcolor\":\"white\",\"linecolor\":\"white\",\"ticks\":\"\"},\"caxis\":{\"gridcolor\":\"white\",\"linecolor\":\"white\",\"ticks\":\"\"}},\"coloraxis\":{\"colorbar\":{\"outlinewidth\":0,\"ticks\":\"\"}},\"colorscale\":{\"sequential\":[[0.0,\"#0d0887\"],[0.1111111111111111,\"#46039f\"],[0.2222222222222222,\"#7201a8\"],[0.3333333333333333,\"#9c179e\"],[0.4444444444444444,\"#bd3786\"],[0.5555555555555556,\"#d8576b\"],[0.6666666666666666,\"#ed7953\"],[0.7777777777777778,\"#fb9f3a\"],[0.8888888888888888,\"#fdca26\"],[1.0,\"#f0f921\"]],\"sequentialminus\":[[0.0,\"#0d0887\"],[0.1111111111111111,\"#46039f\"],[0.2222222222222222,\"#7201a8\"],[0.3333333333333333,\"#9c179e\"],[0.4444444444444444,\"#bd3786\"],[0.5555555555555556,\"#d8576b\"],[0.6666666666666666,\"#ed7953\"],[0.7777777777777778,\"#fb9f3a\"],[0.8888888888888888,\"#fdca26\"],[1.0,\"#f0f921\"]],\"diverging\":[[0,\"#8e0152\"],[0.1,\"#c51b7d\"],[0.2,\"#de77ae\"],[0.3,\"#f1b6da\"],[0.4,\"#fde0ef\"],[0.5,\"#f7f7f7\"],[0.6,\"#e6f5d0\"],[0.7,\"#b8e186\"],[0.8,\"#7fbc41\"],[0.9,\"#4d9221\"],[1,\"#276419\"]]},\"xaxis\":{\"gridcolor\":\"white\",\"linecolor\":\"white\",\"ticks\":\"\",\"title\":{\"standoff\":15},\"zerolinecolor\":\"white\",\"automargin\":true,\"zerolinewidth\":2},\"yaxis\":{\"gridcolor\":\"white\",\"linecolor\":\"white\",\"ticks\":\"\",\"title\":{\"standoff\":15},\"zerolinecolor\":\"white\",\"automargin\":true,\"zerolinewidth\":2},\"scene\":{\"xaxis\":{\"backgroundcolor\":\"#E5ECF6\",\"gridcolor\":\"white\",\"linecolor\":\"white\",\"showbackground\":true,\"ticks\":\"\",\"zerolinecolor\":\"white\",\"gridwidth\":2},\"yaxis\":{\"backgroundcolor\":\"#E5ECF6\",\"gridcolor\":\"white\",\"linecolor\":\"white\",\"showbackground\":true,\"ticks\":\"\",\"zerolinecolor\":\"white\",\"gridwidth\":2},\"zaxis\":{\"backgroundcolor\":\"#E5ECF6\",\"gridcolor\":\"white\",\"linecolor\":\"white\",\"showbackground\":true,\"ticks\":\"\",\"zerolinecolor\":\"white\",\"gridwidth\":2}},\"shapedefaults\":{\"line\":{\"color\":\"#2a3f5f\"}},\"annotationdefaults\":{\"arrowcolor\":\"#2a3f5f\",\"arrowhead\":0,\"arrowwidth\":1},\"geo\":{\"bgcolor\":\"white\",\"landcolor\":\"#E5ECF6\",\"subunitcolor\":\"white\",\"showland\":true,\"showlakes\":true,\"lakecolor\":\"white\"},\"title\":{\"x\":0.05},\"mapbox\":{\"style\":\"light\"}}},\"xaxis\":{\"anchor\":\"y\",\"domain\":[0.0,1.0],\"title\":{\"text\":\"PC1\"}},\"yaxis\":{\"anchor\":\"x\",\"domain\":[0.0,1.0],\"title\":{\"text\":\"PC2\"}},\"legend\":{\"tracegroupgap\":0},\"margin\":{\"t\":60}},                        {\"responsive\": true}                    ).then(function(){\n",
       "                            \n",
       "var gd = document.getElementById('c8f0f783-d9ad-4e4b-a4f8-ad617b179243');\n",
       "var x = new MutationObserver(function (mutations, observer) {{\n",
       "        var display = window.getComputedStyle(gd).display;\n",
       "        if (!display || display === 'none') {{\n",
       "            console.log([gd, 'removed!']);\n",
       "            Plotly.purge(gd);\n",
       "            observer.disconnect();\n",
       "        }}\n",
       "}});\n",
       "\n",
       "// Listen for the removal of the full notebook cells\n",
       "var notebookContainer = gd.closest('#notebook-container');\n",
       "if (notebookContainer) {{\n",
       "    x.observe(notebookContainer, {childList: true});\n",
       "}}\n",
       "\n",
       "// Listen for the clearing of the current output cell\n",
       "var outputEl = gd.closest('.output');\n",
       "if (outputEl) {{\n",
       "    x.observe(outputEl, {childList: true});\n",
       "}}\n",
       "\n",
       "                        })                };                });            </script>        </div>"
      ]
     },
     "metadata": {},
     "output_type": "display_data"
    }
   ],
   "source": [
    "#Visualize results:\n",
    "#Show a scatter plots of PC0 vs PC1, and PC1 vs PC2\n",
    "fig1 = px.scatter(DCM, x='PC0', y='PC1')\n",
    "fig1.show()\n",
    "\n",
    "fig2 = px.scatter(DCM, x='PC1', y='PC2')\n",
    "fig2.show()"
   ]
  },
  {
   "cell_type": "code",
   "execution_count": 60,
   "id": "de3fc407-965a-49f8-b06c-b30974c8901e",
   "metadata": {},
   "outputs": [
    {
     "name": "stdout",
     "output_type": "stream",
     "text": [
      "Texts PC0+ feminist women patriarchy feminism privileged white workforce reformist siddhartha females\n",
      "Texts PC0- tao doesnt arent dont overcomes your center nourishes cant yourself\n",
      "Texts PC1+ feminist tao patriarchy women feminism privileged workforce white reformist supremacist\n",
      "Texts PC1- siddhartha ut govinda et est autem quae cum quod edd\n"
     ]
    }
   ],
   "source": [
    "#Show the positive and negative loadings\n",
    "#show loadings for top 10 components \n",
    "loadings = top[term_index].T\n",
    "loadings.index.name = 'term_id'\n",
    "#loadings.head()\n",
    "\n",
    "loadings['term_str'] = loadings.apply(lambda x: VOCAB.loc[int(x.name)].term_str, 1)\n",
    "\n",
    "lb0_pos = loadings.sort_values('PC0', ascending=True).head(10).term_str.str.cat(sep=' ')\n",
    "lb0_neg = loadings.sort_values('PC0', ascending=False).head(10).term_str.str.cat(sep=' ')\n",
    "lb1_pos = loadings.sort_values('PC1', ascending=True).head(10).term_str.str.cat(sep=' ')\n",
    "lb1_neg = loadings.sort_values('PC1', ascending=False).head(10).term_str.str.cat(sep=' ')\n",
    "\n",
    "print('Texts PC0+', lb0_pos)\n",
    "print('Texts PC0-', lb0_neg)\n",
    "print('Texts PC1+', lb1_pos)\n",
    "print('Texts PC1-', lb1_neg)"
   ]
  },
  {
   "cell_type": "markdown",
   "id": "a7c82581-9025-4c54-90df-d9bb8fb941dd",
   "metadata": {},
   "source": [
    "### Analysis"
   ]
  },
  {
   "cell_type": "code",
   "execution_count": null,
   "id": "9566ec35-32cc-460a-9e8e-9bf6315856ee",
   "metadata": {},
   "outputs": [],
   "source": []
  }
 ],
 "metadata": {
  "kernelspec": {
   "display_name": "Python 3 (ipykernel)",
   "language": "python",
   "name": "python3"
  },
  "language_info": {
   "codemirror_mode": {
    "name": "ipython",
    "version": 3
   },
   "file_extension": ".py",
   "mimetype": "text/x-python",
   "name": "python",
   "nbconvert_exporter": "python",
   "pygments_lexer": "ipython3",
   "version": "3.9.7"
  }
 },
 "nbformat": 4,
 "nbformat_minor": 5
}
